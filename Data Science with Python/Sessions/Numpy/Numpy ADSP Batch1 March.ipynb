{
 "cells": [
  {
   "cell_type": "markdown",
   "id": "448d2b7e-3fbe-4a46-8172-502b9709bc50",
   "metadata": {},
   "source": [
    "# Introduction to Numpy\n",
    "\n",
    "## Agenda\n",
    "- Fundamentals of Numpy\n",
    "  - Advantages\n",
    "  - Installation\n",
    "- Numpy Array Object\n",
    "  - Creating Numpy Arrays.\n",
    "- Attributes of Numpy arrays\n",
    "- Numpy array Functions\n",
    "- Arithmetic Operations using Numpy\n",
    "- Statistical Operations\n",
    "- String Functions in numpy\n",
    "- Numpy Array Indexing\n",
    "- Numpy Array Slicing"
   ]
  },
  {
   "cell_type": "markdown",
   "id": "025caa66-b5d9-4452-9b13-3c4478ca8046",
   "metadata": {},
   "source": [
    "## Fundamentals of Numpy\n",
    "Numpy(Numerical Python) is a free and open source library that is mostly for mathematical operations.\n",
    "- it is used for working with arrays.\n",
    "- it consists of multidimensional arrays , and function.\n",
    "### Advantages\n",
    "-  numpy is faster and better functions to deal with mathematical problems.\n",
    "\n",
    "# Installation\n",
    "To install numpy on any python environment use the code below\n",
    "$$ \\text{pip install numpy} $$\n"
   ]
  },
  {
   "cell_type": "code",
   "execution_count": 1,
   "id": "7855d57f-e43b-4894-ab07-3ef98be773fa",
   "metadata": {},
   "outputs": [
    {
     "name": "stdout",
     "output_type": "stream",
     "text": [
      "Requirement already satisfied: numpy in c:\\users\\slp12264\\appdata\\local\\anaconda3\\lib\\site-packages (2.2.4)\n"
     ]
    }
   ],
   "source": [
    "# install numpy\n",
    "!pip install numpy"
   ]
  },
  {
   "cell_type": "code",
   "execution_count": 2,
   "id": "e6661b5f-0290-45be-8f94-16e0fae52386",
   "metadata": {},
   "outputs": [],
   "source": [
    "#pip install --upgrade numpy"
   ]
  },
  {
   "cell_type": "code",
   "execution_count": 3,
   "id": "af3627bd-bfee-40c4-bc58-0a464a4e9666",
   "metadata": {},
   "outputs": [],
   "source": [
    "# import numpy \n",
    "import numpy as np\n",
    "\n",
    "import time"
   ]
  },
  {
   "cell_type": "code",
   "execution_count": 4,
   "id": "a5e480b2-ddb9-4f99-8998-3475887e57a4",
   "metadata": {},
   "outputs": [],
   "source": [
    "# How numpy is faster"
   ]
  },
  {
   "cell_type": "code",
   "execution_count": 5,
   "id": "d9b89d58-fefd-40f9-a387-5ee96c2962d9",
   "metadata": {},
   "outputs": [],
   "source": [
    "# using numpy to create a data of 100000000 floating point numbers and calculate their mean"
   ]
  },
  {
   "cell_type": "code",
   "execution_count": 6,
   "id": "fbfef6f7-d170-4c48-8059-6ea3f4910b81",
   "metadata": {},
   "outputs": [
    {
     "data": {
      "text/plain": [
       "array([0.78901607, 0.41642967, 0.45156971, 0.62186502, 0.22927207])"
      ]
     },
     "execution_count": 6,
     "metadata": {},
     "output_type": "execute_result"
    }
   ],
   "source": [
    "data = np.random.rand(100000000) # this generates random floating point numbers\n",
    "data[:5]"
   ]
  },
  {
   "cell_type": "code",
   "execution_count": 7,
   "id": "c1c47156-a0a8-4eab-9ba4-22da7cc69282",
   "metadata": {},
   "outputs": [
    {
     "name": "stdout",
     "output_type": "stream",
     "text": [
      "Time Elasped 0.4806184768676758\n"
     ]
    }
   ],
   "source": [
    "# mean calculation using numpy mean function\n",
    "start = time.time()\n",
    "mn =  np.mean(data)\n",
    "stop = time.time()\n",
    "print(f'Time Elasped {stop-start}')"
   ]
  },
  {
   "cell_type": "code",
   "execution_count": 8,
   "id": "e36d7671-0c0f-4aa9-ac21-65a680142630",
   "metadata": {},
   "outputs": [
    {
     "name": "stdout",
     "output_type": "stream",
     "text": [
      "Time Elasped 0.0\n"
     ]
    }
   ],
   "source": [
    "# mean calculation using tradition python math\n",
    "start = time.time()\n",
    "#mn_p =  sum(data)/len(data)\n",
    "stop = time.time()\n",
    "print(f'Time Elasped {stop-start}')"
   ]
  },
  {
   "cell_type": "markdown",
   "id": "4adbcc73-f28d-4cba-9569-35ef6952a716",
   "metadata": {},
   "source": [
    "## Numpy Array Object\n",
    "An array is a data structure that arranges data of similar datatypes(Homogeneous) in a contiguous memory location. Each value inside the array is called as `element`, that can be accessed or modified using the `index` <br>\n",
    "The arrays are often called ndarray(n dimensional array) in numpy. There are two ways by which an ndarray is craeted in numpy\n",
    "- use numpy builtin function `array`\n",
    "  - syntax is `np.array(list of values/scalar)`\n",
    "- use numpy array generative functions\n"
   ]
  },
  {
   "cell_type": "markdown",
   "id": "a5045412-10cd-4089-98cd-d73b5d163e6f",
   "metadata": {},
   "source": [
    "### Create Numpy arrays and see the attributes"
   ]
  },
  {
   "cell_type": "code",
   "execution_count": 9,
   "id": "50dcd5ee-b2a8-48a4-a317-1f58e6700409",
   "metadata": {},
   "outputs": [
    {
     "name": "stdout",
     "output_type": "stream",
     "text": [
      "5\n",
      "0x17445a33990\n",
      "<memory at 0x0000017445A98540>\n",
      "0\n",
      "8\n",
      "()\n",
      "1\n",
      "int64\n"
     ]
    }
   ],
   "source": [
    "# Create a 0 Dimensional array.(use a scalar value in array function)\n",
    "arr0 = np.array(5)\n",
    "print(arr0)\n",
    "print(hex(id(arr0)))\n",
    "# Attributes\n",
    "print(arr0.data)\n",
    "print(arr0.ndim) # gives the dimensions\n",
    "print(arr0.itemsize)  # gives the memory allocated in bytes to each element\n",
    "print(arr0.shape)  # gives the number of values in each dimension as a tuple\n",
    "print(arr0.size) # gives the total number of elements in the array\n",
    "print(arr0.dtype) # gives the data type of the elements of the array\n"
   ]
  },
  {
   "cell_type": "code",
   "execution_count": 10,
   "id": "0fe88d39-ac01-4728-a58d-7559af53c386",
   "metadata": {},
   "outputs": [
    {
     "name": "stdout",
     "output_type": "stream",
     "text": [
      "[1 2 3 4 5]\n",
      "0x17445a33ab0\n",
      "<memory at 0x0000017445A7E680>\n",
      "1\n",
      "8\n",
      "(5,)\n",
      "5\n",
      "int64\n"
     ]
    }
   ],
   "source": [
    "# Create a 1 Dimensional array.(use a list of  values in array function)\n",
    "arr1 = np.array([1,2,3,4,5])\n",
    "print(arr1)\n",
    "print(hex(id(arr1)))\n",
    "# Attributes\n",
    "print(arr1.data)\n",
    "print(arr1.ndim) # gives the dimensions\n",
    "print(arr1.itemsize)  # gives the memory allocated in bytes to each element\n",
    "print(arr1.shape)  # gives the number of values in each dimension as a tuple\n",
    "print(arr1.size) # gives the total number of elements in the array\n",
    "print(arr1.dtype) # gives the data type of the elements of the array"
   ]
  },
  {
   "cell_type": "code",
   "execution_count": 11,
   "id": "a4df95a0-2253-4c1c-b497-98e44e005d85",
   "metadata": {},
   "outputs": [
    {
     "name": "stdout",
     "output_type": "stream",
     "text": [
      "[[ 1  2  3  4  5]\n",
      " [11 12 13 14 15]]\n",
      "0x17445a33bd0\n",
      "<memory at 0x0000017445A92810>\n",
      "2\n",
      "8\n",
      "(2, 5)\n",
      "10\n",
      "int64\n"
     ]
    }
   ],
   "source": [
    "# Create a 2 Dimensional array.(use a list of lists values in array function)\n",
    "arr2 = np.array([[1,2,3,4,5], [11,12,13,14,15]])\n",
    "print(arr2)\n",
    "print(hex(id(arr2)))\n",
    "# Attributes\n",
    "print(arr2.data)\n",
    "print(arr2.ndim) # gives the dimensions\n",
    "print(arr2.itemsize)  # gives the memory allocated in bytes to each element\n",
    "print(arr2.shape)  # gives the number of values in each dimension as a tuple\n",
    "print(arr2.size) # gives the total number of elements in the array\n",
    "print(arr2.dtype) # gives the data type of the elements of the array"
   ]
  },
  {
   "cell_type": "code",
   "execution_count": 12,
   "id": "2fd1667e-4ab8-4b24-ad71-ab3f91553c69",
   "metadata": {},
   "outputs": [
    {
     "name": "stdout",
     "output_type": "stream",
     "text": [
      "[[[ 1  2  3  4  5]\n",
      "  [11 12 13 14 15]]\n",
      "\n",
      " [[21 22 23 24 25]\n",
      "  [31 32 33 34 35]]]\n",
      "0x174352b62b0\n",
      "<memory at 0x00000174374EAF20>\n",
      "3\n",
      "8\n",
      "(2, 2, 5)\n",
      "20\n",
      "int64\n"
     ]
    }
   ],
   "source": [
    "# Create a 3 Dimensional array.(use a list of lists of lists values in array function)\n",
    "arr3 = np.array([[[1,2,3,4,5], [11,12,13,14,15]], [[21,22,23,24,25], [31,32,33,34,35]]])\n",
    "print(arr3)\n",
    "print(hex(id(arr3)))\n",
    "# Attributes\n",
    "print(arr3.data)\n",
    "print(arr3.ndim) # gives the dimensions\n",
    "print(arr3.itemsize)  # gives the memory allocated in bytes to each element\n",
    "print(arr3.shape)  # gives the number of values in each dimension as a tuple\n",
    "print(arr3.size) # gives the total number of elements in the array\n",
    "print(arr3.dtype) # gives the data type of the elements of the array"
   ]
  },
  {
   "cell_type": "markdown",
   "id": "a12072b0-fdee-47af-8fe7-3c237b4596ea",
   "metadata": {},
   "source": [
    "# Date  - 19-03-2025"
   ]
  },
  {
   "cell_type": "code",
   "execution_count": 13,
   "id": "e7d32c93-e56f-444e-be94-17cf17534e75",
   "metadata": {},
   "outputs": [],
   "source": [
    "# Numpy Array Functions"
   ]
  },
  {
   "cell_type": "code",
   "execution_count": 14,
   "id": "e47828ba-eefc-494a-b38b-ff1a8408b464",
   "metadata": {},
   "outputs": [],
   "source": [
    "import numpy as np"
   ]
  },
  {
   "cell_type": "code",
   "execution_count": 15,
   "id": "84a2e2f9-3756-48a7-9366-f8006ab9b058",
   "metadata": {},
   "outputs": [
    {
     "name": "stdout",
     "output_type": "stream",
     "text": [
      "[[1 2 3 4]\n",
      " [4 5 6 7]\n",
      " [7 8 9 2]]\n"
     ]
    }
   ],
   "source": [
    "arr =  np.array([[1,2,3,4], [4,5,6,7], [7,8,9,2]])\n",
    "print(arr)"
   ]
  },
  {
   "cell_type": "code",
   "execution_count": 16,
   "id": "026298ab-4752-40a2-98a1-031b96a73665",
   "metadata": {},
   "outputs": [
    {
     "name": "stdout",
     "output_type": "stream",
     "text": [
      "(3, 4)\n",
      "[[1 4 7]\n",
      " [2 5 8]\n",
      " [3 6 9]\n",
      " [4 7 2]]\n",
      "(4, 3)\n"
     ]
    }
   ],
   "source": [
    "# transpose - converts the rows to columns\n",
    "print(arr.shape)\n",
    "arr = arr.transpose()\n",
    "print(arr)\n",
    "print(arr.shape)"
   ]
  },
  {
   "cell_type": "code",
   "execution_count": 17,
   "id": "ed30d4b4-77d9-4aed-9f05-f487511d0ed6",
   "metadata": {},
   "outputs": [
    {
     "name": "stdout",
     "output_type": "stream",
     "text": [
      "12\n",
      "[[[1 4]\n",
      "  [7 2]]\n",
      "\n",
      " [[5 8]\n",
      "  [3 6]]\n",
      "\n",
      " [[9 4]\n",
      "  [7 2]]]\n",
      "(3, 2, 2)\n",
      "12\n"
     ]
    }
   ],
   "source": [
    "# reshape - allows to change the shape of the array to a desired shape with a constraint of keeping array size same\n",
    "\n",
    "print(arr.size)\n",
    "arr =  arr.reshape(3,2,2)\n",
    "print(arr)\n",
    "print(arr.shape)\n",
    "print(arr.size)"
   ]
  },
  {
   "cell_type": "code",
   "execution_count": 18,
   "id": "d3aaaf21-ce36-46ad-b6e7-3eceb90b0ace",
   "metadata": {},
   "outputs": [
    {
     "data": {
      "text/plain": [
       "array([[[[1, 4],\n",
       "         [7, 2]],\n",
       "\n",
       "        [[5, 8],\n",
       "         [3, 6]],\n",
       "\n",
       "        [[9, 4],\n",
       "         [7, 2]]]])"
      ]
     },
     "execution_count": 18,
     "metadata": {},
     "output_type": "execute_result"
    }
   ],
   "source": [
    "arr.reshape(1,3,2,2)"
   ]
  },
  {
   "cell_type": "code",
   "execution_count": 19,
   "id": "509afa7f-0c87-4c11-8166-45ccfd8f9e76",
   "metadata": {},
   "outputs": [],
   "source": [
    "# flatten -  it converts any dimensional array of any shape  to a one dimensional array"
   ]
  },
  {
   "cell_type": "code",
   "execution_count": 20,
   "id": "a9dc606b-057d-4c48-aacd-0d49b2643b0c",
   "metadata": {},
   "outputs": [
    {
     "name": "stdout",
     "output_type": "stream",
     "text": [
      "[[[1 4]\n",
      "  [7 2]]\n",
      "\n",
      " [[5 8]\n",
      "  [3 6]]\n",
      "\n",
      " [[9 4]\n",
      "  [7 2]]]\n"
     ]
    }
   ],
   "source": [
    "print(arr)"
   ]
  },
  {
   "cell_type": "code",
   "execution_count": 21,
   "id": "719ac1bb-7bd9-4fff-81b4-02383b0960d0",
   "metadata": {},
   "outputs": [
    {
     "name": "stdout",
     "output_type": "stream",
     "text": [
      "[1 4 7 2 5 8 3 6 9 4 7 2]\n"
     ]
    }
   ],
   "source": [
    "print(arr.reshape(12,))"
   ]
  },
  {
   "cell_type": "code",
   "execution_count": 22,
   "id": "934954fb-459c-423b-8884-056c5115206d",
   "metadata": {},
   "outputs": [
    {
     "name": "stdout",
     "output_type": "stream",
     "text": [
      "[1 4 7 2 5 8 3 6 9 4 7 2]\n"
     ]
    }
   ],
   "source": [
    "print(arr.flatten())"
   ]
  },
  {
   "cell_type": "code",
   "execution_count": 23,
   "id": "c77bb1fd-b3fd-4417-800a-2be059a4d3ba",
   "metadata": {},
   "outputs": [
    {
     "name": "stdout",
     "output_type": "stream",
     "text": [
      "[1 4 7 2 5 8 3 6 9 4 7 2]\n",
      "[1 5 9 7 3 7 4 8 4 2 6 2]\n",
      "[1 4 7 2 5 8 3 6 9 4 7 2]\n",
      "[1 4 7 2 5 8 3 6 9 4 7 2]\n"
     ]
    }
   ],
   "source": [
    "# ravel -  a numpy function converts the arry to one dimensional form with choice of order, default is Row Major(C)\n",
    "print(np.ravel(arr, order = 'C'))  #- # Row Major -  C language like Parsing\n",
    "print(np.ravel(arr, order = 'F')) # - # Column Major - Fortran like Parsing\n",
    "print(np.ravel(arr, order = 'A'))\n",
    "print(np.ravel(arr, order = 'K'))"
   ]
  },
  {
   "cell_type": "markdown",
   "id": "892debee-5b07-4fe7-af58-d5618d2c3926",
   "metadata": {},
   "source": [
    "## Numpy Arithmetic Operations\n",
    "- addition (+)\n",
    "- subtraction (-)\n",
    "- multiplication (*)\n",
    "- division (/)\n",
    "- Modulus(%)\n",
    "- power (**)\n",
    "- floor division (//)"
   ]
  },
  {
   "cell_type": "code",
   "execution_count": 24,
   "id": "ba766bda-8fe1-4c1e-8e26-5f6d7a22ddb8",
   "metadata": {},
   "outputs": [],
   "source": [
    "a = np.array([30, 10, 20])\n",
    "b = np.array([2,3,5])"
   ]
  },
  {
   "cell_type": "code",
   "execution_count": 25,
   "id": "56f94719-1266-4ef2-b29d-867c79dc5831",
   "metadata": {},
   "outputs": [
    {
     "name": "stdout",
     "output_type": "stream",
     "text": [
      "[30 10 20]\n",
      "[2 3 5]\n",
      "Addition\n",
      "[32 13 25]\n",
      "[32 13 25]\n",
      "Subtarction\n",
      "[28  7 15]\n",
      "[28  7 15]\n",
      "Multiplication\n",
      "[ 60  30 100]\n",
      "[ 60  30 100]\n",
      "Divide\n",
      "[15.          3.33333333  4.        ]\n",
      "[15.          3.33333333  4.        ]\n",
      "Modulus\n",
      "[0 1 0]\n",
      "[0 1 0]\n",
      "Power\n",
      "[    900    1000 3200000]\n",
      "[    900    1000 3200000]\n",
      "Floor Division\n",
      "[15  3  4]\n",
      "[15  3  4]\n"
     ]
    }
   ],
   "source": [
    "print(a)\n",
    "print(b)\n",
    "# Addition\n",
    "print('Addition')\n",
    "print(a+b) #Pythonic\n",
    "print(np.add(a,b)) # numpy function \n",
    "# Subtration\n",
    "print('Subtarction')\n",
    "print(a-b) #Pythonic\n",
    "print(np.subtract(a,b)) # numpy function \n",
    "# Multiplication\n",
    "print('Multiplication')\n",
    "print(a*b) #Pythonic\n",
    "print(np.multiply(a,b)) # numpy function \n",
    "# Division\n",
    "print('Divide')\n",
    "print(a/b) #Pythonic\n",
    "print(np.divide(a,b)) # numpy function \n",
    "# Modulus\n",
    "print('Modulus')\n",
    "print(a%b) #Pythonic\n",
    "print(np.mod(a,b)) # numpy function \n",
    "# power\n",
    "print('Power')\n",
    "print(a**b) #Pythonic\n",
    "print(np.power(a,b)) # numpy function \n",
    "# floor division\n",
    "print('Floor Division')\n",
    "print(a//b) #Pythonic\n",
    "print(np.floor_divide(a,b)) # numpy function "
   ]
  },
  {
   "cell_type": "markdown",
   "id": "d2625db6-bf9f-46b6-b0a4-c2f60c3a50ba",
   "metadata": {},
   "source": [
    "## Statistical Functions\n",
    "- mean\n",
    "- median\n",
    "- standard Deviation\n",
    "- variance\n",
    "- percentiles\n",
    "- covariance\n",
    "- correlation"
   ]
  },
  {
   "cell_type": "code",
   "execution_count": 26,
   "id": "4369ae76-4623-460f-8aef-2edc3154e416",
   "metadata": {},
   "outputs": [
    {
     "name": "stdout",
     "output_type": "stream",
     "text": [
      "array is [ 1  3  2 34  5 52  2  7  3  8  2  4  7  2]\n",
      "Mean is 9.428571428571429\n",
      "Average is 9.428571428571429\n",
      "Median is 3.5\n",
      "Standard Deviation is 14.276425551608227\n",
      "Variance is 203.81632653061226\n",
      "Minimum Value 1\n",
      "25th Percentile 2.0\n",
      "50th Percentile 3.5\n",
      "75th Percentile 7.0\n",
      "Maximum Value 52\n"
     ]
    }
   ],
   "source": [
    "x =  np.array([1,3,2,34,5,52,2,7,3,8,2,4,7,2])\n",
    "print(f'array is {x}')\n",
    "print(f'Mean is {np.mean(x)}')\n",
    "print(f'Average is {np.average(x)}')\n",
    "print(f'Median is {np.median(x)}')\n",
    "print(f'Standard Deviation is {np.std(x)}')\n",
    "print(f'Variance is {np.var(x)}')\n",
    "print(f'Minimum Value {np.min(x)}')\n",
    "print(f'25th Percentile {np.percentile(x, 25)}')\n",
    "print(f'50th Percentile {np.percentile(x, 50)}')\n",
    "print(f'75th Percentile {np.percentile(x, 75)}')\n",
    "print(f'Maximum Value {np.max(x)}')\n",
    "\n"
   ]
  },
  {
   "cell_type": "code",
   "execution_count": 27,
   "id": "06fccb99-666f-41a3-b592-aba74956f5b5",
   "metadata": {},
   "outputs": [
    {
     "name": "stdout",
     "output_type": "stream",
     "text": [
      "Covariance Matrix\n",
      "[[219.49450549  46.58241758]\n",
      " [ 46.58241758  21.95604396]]\n",
      "\n",
      "Correlation Matrix\n",
      "[[1.         0.67101643]\n",
      " [0.67101643 1.        ]]\n"
     ]
    }
   ],
   "source": [
    "x =  np.array([1,3,2,34,5,52,2,7,3,8,2,4,7,2])\n",
    "y =  np.array([ 6,  8,  8, 16,  9, 19, 13, 18,  4, 12, 13,  9,6,7])\n",
    "print('Covariance Matrix')\n",
    "print(np.cov(x,y))\n",
    "print()\n",
    "print('Correlation Matrix')\n",
    "print(np.corrcoef(x,y))"
   ]
  },
  {
   "cell_type": "code",
   "execution_count": 28,
   "id": "f9be4461-e180-4af6-b7c8-8a23a0ca8926",
   "metadata": {},
   "outputs": [],
   "source": [
    "## String Functions in numpy"
   ]
  },
  {
   "cell_type": "code",
   "execution_count": 29,
   "id": "389d8a00-c685-49a0-99ff-d033ee917e93",
   "metadata": {},
   "outputs": [],
   "source": [
    "x =  np.array(['Hello', 'Welcome'])\n",
    "y = np.array(['World', 'Learners'])"
   ]
  },
  {
   "cell_type": "code",
   "execution_count": 30,
   "id": "31c5f4ee-eb22-4e53-9a64-f4cf14756783",
   "metadata": {},
   "outputs": [
    {
     "name": "stdout",
     "output_type": "stream",
     "text": [
      "['HelloWorld' 'WelcomeLearners']\n"
     ]
    }
   ],
   "source": [
    "print(np.char.add(x,y)) # performs element wise concatenation of string arrays"
   ]
  },
  {
   "cell_type": "code",
   "execution_count": 31,
   "id": "4960c00c-bbf8-4ccf-95eb-f0f600d99886",
   "metadata": {},
   "outputs": [
    {
     "name": "stdout",
     "output_type": "stream",
     "text": [
      "hello how are you?\n",
      "Hello how are you?\n",
      "Hello How Are You?\n"
     ]
    }
   ],
   "source": [
    "str1 =  'Hello How are you?'\n",
    "print(np.char.replace(str1, 'H', 'h'))\n",
    "print(np.char.capitalize(str1))\n",
    "print(np.char.title(str1))"
   ]
  },
  {
   "cell_type": "code",
   "execution_count": 32,
   "id": "bda31a22-0c46-4487-a9c7-26df167e344f",
   "metadata": {},
   "outputs": [
    {
     "name": "stdout",
     "output_type": "stream",
     "text": [
      "Hello How Are You?\n"
     ]
    }
   ],
   "source": [
    "print(str1.title())"
   ]
  },
  {
   "cell_type": "markdown",
   "id": "eb441ca3-69b9-4168-ab8b-83239200d7a4",
   "metadata": {},
   "source": [
    "## Miscellaneous Functions"
   ]
  },
  {
   "cell_type": "markdown",
   "id": "dd24a7ef-8f82-4d33-9896-be14bd4264c1",
   "metadata": {},
   "source": [
    "# arange() \n",
    "- it Generates array to values within a specified interval with fixed specified gap between two consecutive values. The syntax is\n",
    "   $$np.arange(start = 0, stop, step =1)$$\n",
    "- in arange the stop value is exclusive\n",
    "<br>\n",
    "np.arange(10) --> np.arange(start = 0, stop =10, step =1) <br>\n",
    "np.arange(0,10) --> np.arange(start = 0, stop =10, step =1) <br>\n",
    "np.arange(0,10,1) --> np.arange(start = 0, stop =10, step =1) <br>\n",
    "np.arange(4,10) --> np.arange(start = 4, stop =10, step =1) <br>\n",
    "np.arange(0,10,2) --> np.arange(start = 0, stop =10, step =2) <br>\n",
    "np.arange(4,10,3) --> np.arange(start = 4, stop =10, step =3) <br>"
   ]
  },
  {
   "cell_type": "code",
   "execution_count": 33,
   "id": "e5bbd203-9749-4313-8d61-8c1a636e6abd",
   "metadata": {},
   "outputs": [
    {
     "name": "stdout",
     "output_type": "stream",
     "text": [
      "[0 1 2 3 4 5 6 7 8 9]\n",
      "[0 1 2 3 4 5 6 7 8 9]\n",
      "[0 1 2 3 4 5 6 7 8 9]\n",
      "[4 5 6 7 8 9]\n",
      "[0 2 4 6 8]\n",
      "[4 7]\n",
      "[]\n",
      "[10  8  6  4  2]\n"
     ]
    }
   ],
   "source": [
    "print(np.arange(10))\n",
    "print(np.arange(0,10))\n",
    "print(np.arange(0,10,1))\n",
    "print(np.arange(4,10))\n",
    "print(np.arange(0,10,2))\n",
    "print(np.arange(4,10,3))\n",
    "print(np.arange(0,10,-2))\n",
    "print(np.arange(10,0,-2))"
   ]
  },
  {
   "cell_type": "markdown",
   "id": "99d6f0e6-2ebe-4b42-bc5b-d608a9f69bcd",
   "metadata": {},
   "source": [
    "# linspace() \n",
    "- it Generates array of values within a specified interval with fixed count of values which are equidistant. The syntax is\n",
    "   $$np.linspace(start, stop, count =50)$$\n",
    "- in linspace the stop value is inclusive by default\n",
    "<br>\n",
    "np.linspace(0,10, 5) <br>"
   ]
  },
  {
   "cell_type": "code",
   "execution_count": 34,
   "id": "d4d79f12-1d1c-499c-8129-118fb77515a3",
   "metadata": {},
   "outputs": [
    {
     "name": "stdout",
     "output_type": "stream",
     "text": [
      "[ 0.          3.33333333  6.66666667 10.        ]\n",
      "[ 0.          0.20408163  0.40816327  0.6122449   0.81632653  1.02040816\n",
      "  1.2244898   1.42857143  1.63265306  1.83673469  2.04081633  2.24489796\n",
      "  2.44897959  2.65306122  2.85714286  3.06122449  3.26530612  3.46938776\n",
      "  3.67346939  3.87755102  4.08163265  4.28571429  4.48979592  4.69387755\n",
      "  4.89795918  5.10204082  5.30612245  5.51020408  5.71428571  5.91836735\n",
      "  6.12244898  6.32653061  6.53061224  6.73469388  6.93877551  7.14285714\n",
      "  7.34693878  7.55102041  7.75510204  7.95918367  8.16326531  8.36734694\n",
      "  8.57142857  8.7755102   8.97959184  9.18367347  9.3877551   9.59183673\n",
      "  9.79591837 10.        ]\n",
      "[0.  2.5 5.  7.5]\n"
     ]
    }
   ],
   "source": [
    "print(np.linspace(0,10,4))\n",
    "print(np.linspace(0,10))\n",
    "print(np.linspace(0,10,4, endpoint =  False))\n"
   ]
  },
  {
   "cell_type": "code",
   "execution_count": 35,
   "id": "e27a1e57-bade-4bf1-af55-130e7eed76de",
   "metadata": {},
   "outputs": [
    {
     "data": {
      "text/plain": [
       "array([0.        , 0.20408163, 0.40816326, 0.61224489, 0.81632652,\n",
       "       1.02040815, 1.22448978, 1.42857141, 1.63265304, 1.83673467,\n",
       "       2.0408163 , 2.24489793, 2.44897956, 2.65306119, 2.85714282,\n",
       "       3.06122445, 3.26530608, 3.46938771, 3.67346934, 3.87755097,\n",
       "       4.0816326 , 4.28571423, 4.48979586, 4.69387749, 4.89795912,\n",
       "       5.10204075, 5.30612238, 5.51020401, 5.71428564, 5.91836727,\n",
       "       6.1224489 , 6.32653053, 6.53061216, 6.73469379, 6.93877542,\n",
       "       7.14285705, 7.34693868, 7.55102031, 7.75510194, 7.95918357,\n",
       "       8.1632652 , 8.36734683, 8.57142846, 8.77551009, 8.97959172,\n",
       "       9.18367335, 9.38775498, 9.59183661, 9.79591824, 9.99999987])"
      ]
     },
     "execution_count": 35,
     "metadata": {},
     "output_type": "execute_result"
    }
   ],
   "source": [
    "np.arange(0,10.01,0.2040816299999999) "
   ]
  },
  {
   "cell_type": "markdown",
   "id": "97ee825c-7350-475a-aa27-976383841b70",
   "metadata": {},
   "source": [
    "# Random Submodule\n",
    "it is dedictated for generating random sequence of numbers."
   ]
  },
  {
   "cell_type": "code",
   "execution_count": 36,
   "id": "276d1b38-16fd-4cc0-9cd1-05b475a8a3ac",
   "metadata": {},
   "outputs": [
    {
     "name": "stdout",
     "output_type": "stream",
     "text": [
      "0.6190782059764083\n",
      "[0.74948558 0.8457466  0.72481439 0.96761174 0.90407213]\n",
      "[[0.6867945  0.00561837 0.88541375]\n",
      " [0.86408279 0.60902117 0.41515026]\n",
      " [0.01437327 0.07872579 0.86782603]]\n"
     ]
    }
   ],
   "source": [
    "# rand() -  generates array of floating point number of desired shape in a half open interval [0,1)\n",
    "\n",
    "print(np.random.rand()) # generate 0darray of random floating number between 0,1(exclusive)\n",
    "print(np.random.rand(5)) # generate 1darray of 5 random floating number between 0,1(exclusive)\n",
    "print(np.random.rand(3,3)) # generate 2darray of shape (3,3) of 9 random floating number between 0,1(exclusive)"
   ]
  },
  {
   "cell_type": "code",
   "execution_count": 37,
   "id": "f0f30829-ef67-43a9-9600-672e201cd29a",
   "metadata": {},
   "outputs": [
    {
     "name": "stdout",
     "output_type": "stream",
     "text": [
      "0.6666374582595443\n",
      "[0.08929097 0.23481345 0.18290064 0.64420625 0.64828378]\n",
      "[[0.79640908 0.72162398 0.35904063]\n",
      " [0.49252818 0.30545899 0.51707008]\n",
      " [0.20568215 0.6263797  0.73269251]]\n"
     ]
    }
   ],
   "source": [
    "# random() -  generates array of floating point number of desired shape in a half open interval [0,1)\n",
    "\n",
    "print(np.random.random()) # generate 0darray of random floating number between 0,1(exclusive)\n",
    "print(np.random.random(5)) # generate 1darray of 5 random floating number between 0,1(exclusive)\n",
    "print(np.random.random((3,3))) # generate 2darray of shape (3,3) of 9 random floating number between 0,1(exclusive)"
   ]
  },
  {
   "cell_type": "code",
   "execution_count": 38,
   "id": "643da881-7f65-4915-9d1a-5f4250b79512",
   "metadata": {},
   "outputs": [
    {
     "name": "stdout",
     "output_type": "stream",
     "text": [
      "0.0008748848156047747\n",
      "0.0006133398442438408\n"
     ]
    }
   ],
   "source": [
    "# random() -  generates array of floating point number falling in normal distribution\n",
    "a =  np.random.randn(1000000)\n",
    "#print(a) \n",
    "print(np.mean(a))\n",
    "print(np.median(a))\n"
   ]
  },
  {
   "cell_type": "code",
   "execution_count": 39,
   "id": "e6fb6eea-f685-48b1-8bec-45f6cc95accc",
   "metadata": {},
   "outputs": [
    {
     "name": "stdout",
     "output_type": "stream",
     "text": [
      "0\n",
      "3\n",
      "3\n",
      "[[8 6 4]\n",
      " [6 8 4]\n",
      " [3 5 5]]\n"
     ]
    }
   ],
   "source": [
    "# randint() -  generates array of integer number of desired shape in a specified interval\n",
    "# Syntax =  np.random.randint(startval, stopvalue)\n",
    "\n",
    "print(np.random.randint(1)) # generate 0darray of random integer number\n",
    "print(np.random.randint(5)) # generate 0darray of  random integer number between 0,5(exclusive)\n",
    "print(np.random.randint(3,10)) # generate 0darray of  random integer number between 3,10(exclusive)\n",
    "print(np.random.randint(3,10, size= (3,3))) # generate 2darray(shape (3,3) of  random integer number between 3,10(exclusive)\n"
   ]
  },
  {
   "cell_type": "code",
   "execution_count": null,
   "id": "ca3d1190-4a80-4564-9a28-a23d18537e20",
   "metadata": {},
   "outputs": [],
   "source": [
    "# seed, index, slice"
   ]
  }
 ],
 "metadata": {
  "kernelspec": {
   "display_name": "Python 3 (ipykernel)",
   "language": "python",
   "name": "python3"
  },
  "language_info": {
   "codemirror_mode": {
    "name": "ipython",
    "version": 3
   },
   "file_extension": ".py",
   "mimetype": "text/x-python",
   "name": "python",
   "nbconvert_exporter": "python",
   "pygments_lexer": "ipython3",
   "version": "3.12.4"
  }
 },
 "nbformat": 4,
 "nbformat_minor": 5
}
