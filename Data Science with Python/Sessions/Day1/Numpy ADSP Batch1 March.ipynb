{
 "cells": [
  {
   "cell_type": "markdown",
   "id": "448d2b7e-3fbe-4a46-8172-502b9709bc50",
   "metadata": {},
   "source": [
    "# Introduction to Numpy\n",
    "\n",
    "## Agenda\n",
    "- Fundamentals of Numpy\n",
    "  - Advantages\n",
    "  - Installation\n",
    "- Numpy Array Object\n",
    "  - Creating Numpy Arrays.\n",
    "- Attributes of Numpy arrays\n",
    "- Numpy array Functions\n",
    "- Arithmetic Operations using Numpy\n",
    "- Statistical Operations\n",
    "- String Functions in numpy\n",
    "- Numpy Array Indexing\n",
    "- Numpy Array Slicing"
   ]
  },
  {
   "cell_type": "markdown",
   "id": "025caa66-b5d9-4452-9b13-3c4478ca8046",
   "metadata": {},
   "source": [
    "## Fundamentals of Numpy\n",
    "Numpy(Numerical Python) is a free and open source library that is mostly for mathematical operations.\n",
    "- it is used for working with arrays.\n",
    "- it consists of multidimensional arrays , and function.\n",
    "### Advantages\n",
    "-  numpy is faster and better functions to deal with mathematical problems.\n",
    "\n",
    "# Installation\n",
    "To install numpy on any python environment use the code below\n",
    "$$ \\text{pip install numpy} $$\n"
   ]
  },
  {
   "cell_type": "code",
   "execution_count": 1,
   "id": "7855d57f-e43b-4894-ab07-3ef98be773fa",
   "metadata": {},
   "outputs": [
    {
     "name": "stdout",
     "output_type": "stream",
     "text": [
      "Requirement already satisfied: numpy in c:\\users\\slp12264\\appdata\\local\\anaconda3\\lib\\site-packages (1.26.4)\n"
     ]
    }
   ],
   "source": [
    "# install numpy\n",
    "!pip install numpy"
   ]
  },
  {
   "cell_type": "code",
   "execution_count": 7,
   "id": "e6661b5f-0290-45be-8f94-16e0fae52386",
   "metadata": {},
   "outputs": [],
   "source": [
    "#pip install --upgrade numpy"
   ]
  },
  {
   "cell_type": "code",
   "execution_count": 8,
   "id": "af3627bd-bfee-40c4-bc58-0a464a4e9666",
   "metadata": {},
   "outputs": [],
   "source": [
    "# import numpy \n",
    "import numpy as np\n",
    "\n",
    "import time"
   ]
  },
  {
   "cell_type": "code",
   "execution_count": 9,
   "id": "a5e480b2-ddb9-4f99-8998-3475887e57a4",
   "metadata": {},
   "outputs": [],
   "source": [
    "# How numpy is faster"
   ]
  },
  {
   "cell_type": "code",
   "execution_count": 10,
   "id": "d9b89d58-fefd-40f9-a387-5ee96c2962d9",
   "metadata": {},
   "outputs": [],
   "source": [
    "# using numpy to create a data of 100000000 floating point numbers and calculate their mean"
   ]
  },
  {
   "cell_type": "code",
   "execution_count": 15,
   "id": "fbfef6f7-d170-4c48-8059-6ea3f4910b81",
   "metadata": {},
   "outputs": [
    {
     "data": {
      "text/plain": [
       "array([0.44636688, 0.22049409, 0.25396305, 0.17318277, 0.25322581])"
      ]
     },
     "execution_count": 15,
     "metadata": {},
     "output_type": "execute_result"
    }
   ],
   "source": [
    "data = np.random.rand(100000000) # this generates random floating point numbers\n",
    "data[:5]"
   ]
  },
  {
   "cell_type": "code",
   "execution_count": 16,
   "id": "c1c47156-a0a8-4eab-9ba4-22da7cc69282",
   "metadata": {},
   "outputs": [
    {
     "name": "stdout",
     "output_type": "stream",
     "text": [
      "Time Elasped 0.37842750549316406\n"
     ]
    }
   ],
   "source": [
    "# mean calculation using numpy mean function\n",
    "start = time.time()\n",
    "mn =  np.mean(data)\n",
    "stop = time.time()\n",
    "print(f'Time Elasped {stop-start}')"
   ]
  },
  {
   "cell_type": "code",
   "execution_count": 17,
   "id": "e36d7671-0c0f-4aa9-ac21-65a680142630",
   "metadata": {},
   "outputs": [
    {
     "name": "stdout",
     "output_type": "stream",
     "text": [
      "Time Elasped 16.153377294540405\n"
     ]
    }
   ],
   "source": [
    "# mean calculation using tradition python math\n",
    "start = time.time()\n",
    "mn_p =  sum(data)/len(data)\n",
    "stop = time.time()\n",
    "print(f'Time Elasped {stop-start}')"
   ]
  },
  {
   "cell_type": "markdown",
   "id": "4adbcc73-f28d-4cba-9569-35ef6952a716",
   "metadata": {},
   "source": [
    "## Numpy Array Object\n",
    "An array is a data structure that arranges data of similar datatypes(Homogeneous) in a contiguous memory location. Each value inside the array is called as `element`, that can be accessed or modified using the `index` <br>\n",
    "The arrays are often called ndarray(n dimensional array) in numpy. There are two ways by which an ndarray is craeted in numpy\n",
    "- use numpy builtin function `array`\n",
    "  - syntax is `np.array(list of values/scalar)`\n",
    "- use numpy array generative functions\n"
   ]
  },
  {
   "cell_type": "markdown",
   "id": "a5045412-10cd-4089-98cd-d73b5d163e6f",
   "metadata": {},
   "source": [
    "### Create Numpy arrays and see the attributes"
   ]
  },
  {
   "cell_type": "code",
   "execution_count": 31,
   "id": "50dcd5ee-b2a8-48a4-a317-1f58e6700409",
   "metadata": {},
   "outputs": [
    {
     "name": "stdout",
     "output_type": "stream",
     "text": [
      "5\n",
      "0x11f1a62af70\n",
      "<memory at 0x0000011F31E32C00>\n",
      "0\n",
      "4\n",
      "()\n",
      "1\n",
      "int32\n"
     ]
    }
   ],
   "source": [
    "# Create a 0 Dimensional array.(use a scalar value in array function)\n",
    "arr0 = np.array(5)\n",
    "print(arr0)\n",
    "print(hex(id(arr0)))\n",
    "# Attributes\n",
    "print(arr0.data)\n",
    "print(arr0.ndim) # gives the dimensions\n",
    "print(arr0.itemsize)  # gives the memory allocated in bytes to each element\n",
    "print(arr0.shape)  # gives the number of values in each dimension as a tuple\n",
    "print(arr0.size) # gives the total number of elements in the array\n",
    "print(arr0.dtype) # gives the data type of the elements of the array\n"
   ]
  },
  {
   "cell_type": "code",
   "execution_count": 37,
   "id": "0fe88d39-ac01-4728-a58d-7559af53c386",
   "metadata": {},
   "outputs": [
    {
     "name": "stdout",
     "output_type": "stream",
     "text": [
      "[1 2 3 4 5]\n",
      "0x11f1a790330\n",
      "<memory at 0x0000011F31D6AE00>\n",
      "1\n",
      "4\n",
      "(5,)\n",
      "5\n",
      "int32\n"
     ]
    }
   ],
   "source": [
    "# Create a 1 Dimensional array.(use a list of  values in array function)\n",
    "arr1 = np.array([1,2,3,4,5])\n",
    "print(arr1)\n",
    "print(hex(id(arr1)))\n",
    "# Attributes\n",
    "print(arr1.data)\n",
    "print(arr1.ndim) # gives the dimensions\n",
    "print(arr1.itemsize)  # gives the memory allocated in bytes to each element\n",
    "print(arr1.shape)  # gives the number of values in each dimension as a tuple\n",
    "print(arr1.size) # gives the total number of elements in the array\n",
    "print(arr1.dtype) # gives the data type of the elements of the array"
   ]
  },
  {
   "cell_type": "code",
   "execution_count": 38,
   "id": "a4df95a0-2253-4c1c-b497-98e44e005d85",
   "metadata": {},
   "outputs": [
    {
     "name": "stdout",
     "output_type": "stream",
     "text": [
      "[[ 1  2  3  4  5]\n",
      " [11 12 13 14 15]]\n",
      "0x11f1a62b1b0\n",
      "<memory at 0x0000011F31DFF5E0>\n",
      "2\n",
      "4\n",
      "(2, 5)\n",
      "10\n",
      "int32\n"
     ]
    }
   ],
   "source": [
    "# Create a 2 Dimensional array.(use a list of lists values in array function)\n",
    "arr2 = np.array([[1,2,3,4,5], [11,12,13,14,15]])\n",
    "print(arr2)\n",
    "print(hex(id(arr2)))\n",
    "# Attributes\n",
    "print(arr2.data)\n",
    "print(arr2.ndim) # gives the dimensions\n",
    "print(arr2.itemsize)  # gives the memory allocated in bytes to each element\n",
    "print(arr2.shape)  # gives the number of values in each dimension as a tuple\n",
    "print(arr2.size) # gives the total number of elements in the array\n",
    "print(arr2.dtype) # gives the data type of the elements of the array"
   ]
  },
  {
   "cell_type": "code",
   "execution_count": 39,
   "id": "2fd1667e-4ab8-4b24-ad71-ab3f91553c69",
   "metadata": {},
   "outputs": [
    {
     "name": "stdout",
     "output_type": "stream",
     "text": [
      "[[[ 1  2  3  4  5]\n",
      "  [11 12 13 14 15]]\n",
      "\n",
      " [[21 22 23 24 25]\n",
      "  [31 32 33 34 35]]]\n",
      "0x11f1a62b630\n",
      "<memory at 0x0000011F1FC2BA60>\n",
      "3\n",
      "4\n",
      "(2, 2, 5)\n",
      "20\n",
      "int32\n"
     ]
    }
   ],
   "source": [
    "# Create a 3 Dimensional array.(use a list of lists of lists values in array function)\n",
    "arr3 = np.array([[[1,2,3,4,5], [11,12,13,14,15]], [[21,22,23,24,25], [31,32,33,34,35]]])\n",
    "print(arr3)\n",
    "print(hex(id(arr3)))\n",
    "# Attributes\n",
    "print(arr3.data)\n",
    "print(arr3.ndim) # gives the dimensions\n",
    "print(arr3.itemsize)  # gives the memory allocated in bytes to each element\n",
    "print(arr3.shape)  # gives the number of values in each dimension as a tuple\n",
    "print(arr3.size) # gives the total number of elements in the array\n",
    "print(arr3.dtype) # gives the data type of the elements of the array"
   ]
  },
  {
   "cell_type": "code",
   "execution_count": null,
   "id": "d7283a8f-05e9-435d-9fc5-a99bf2e82e27",
   "metadata": {},
   "outputs": [],
   "source": []
  }
 ],
 "metadata": {
  "kernelspec": {
   "display_name": "Python 3 (ipykernel)",
   "language": "python",
   "name": "python3"
  },
  "language_info": {
   "codemirror_mode": {
    "name": "ipython",
    "version": 3
   },
   "file_extension": ".py",
   "mimetype": "text/x-python",
   "name": "python",
   "nbconvert_exporter": "python",
   "pygments_lexer": "ipython3",
   "version": "3.12.4"
  }
 },
 "nbformat": 4,
 "nbformat_minor": 5
}
