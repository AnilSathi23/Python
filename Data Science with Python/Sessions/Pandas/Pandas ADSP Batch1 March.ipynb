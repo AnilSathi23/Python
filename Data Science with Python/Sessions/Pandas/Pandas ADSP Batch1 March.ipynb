{
 "cells": [
  {
   "cell_type": "markdown",
   "id": "16e71b46-5fb4-48f7-b1cf-977132bce5f2",
   "metadata": {},
   "source": [
    "# Agenda\n",
    "- Fundamentals of Pandas\n",
    "  - Purpose\n",
    "  - Features\n",
    "- Data Strutures\n",
    "- Introduction to Series\n",
    "  - Creating and Accessing Pandas Series using different methods\n",
    "  - Basic Information on Pandas Series\n",
    "  - Operations and Transformations\n",
    "  - Querying in Series\n",
    "- Introduction to DataFrame\n",
    "  - Creating a DataFrame using different methods\n",
    "  - Accessing DataFrame\n",
    "  - Understanding DataFrame Basics\n",
    "- Introduction to Statistical Operations in Pandas\n",
    "  - Descriptive Statistics\n",
    "  - Mean, Median and Standard Deviation\n",
    "  - Correlation Analysis\n",
    "- Date and TimeDelta in Pandas\n",
    "  - Date Handling\n",
    "  - Time Delta\n",
    "    - Creating TimeDelta\n",
    "    - Performing Arithmetic Ops on Date and Time using TimeDelta\n",
    "    - Resampling Time Series\n",
    "- Categorical Data Handling\n",
    "  - Creating a Categorical Variable\n",
    "  - Counting Occurences\n",
    "  - Creating Dummy Variables\n",
    "  - Label Encoding\n",
    "- Handling Text Data\n",
    "- Iteration\n",
    "  - Iterating Over Rows\n",
    "  - Apply function\n",
    "  - Vectorized Operations\n",
    "  - Iterating over a Series\n",
    "- Sorting\n",
    "  - Sorting DataFrame by Column\n",
    "  - Sorting DataFrame by Multiple Column\n",
    "  - Sorting DataFrame by index\n",
    "  - Sorting Series\n",
    "- Plotting with Pandas"
   ]
  },
  {
   "cell_type": "markdown",
   "id": "a02c52f7-7cf8-46a2-94a7-25df98eb57e1",
   "metadata": {},
   "source": [
    "## Fundamentals \n",
    "Pandas is an open source library built on top of numpy and is used for data manipulation, data analysis, Data Cleaning, data visualization. The name `pandas` is coming the words Panel Data. The pandas library introduces few Data Structure like Series, DataFrame which makes working with structured data more efficient.\n",
    "### __Purpose of Pandas__\n",
    "![link text](https://labcontent.simplicdn.net/data-content/content-assets/Data_and_AI/ADSP_Images/Lesson_04_Working_with_Pandas/1_Introduction_to_Pandas/Purpose_of_Pandas.png)\n",
    "\n",
    "### __Features of Pandas__\n",
    "![link text](https://labcontent.simplicdn.net/data-content/content-assets/Data_and_AI/ADSP_Images/Updated_Images/Lesson_4/4_01/Features_of_Pandas.png)\n",
    "\n",
    "\n",
    "## Data Structures\n",
    "The are Two main Data Structure is pandas \n",
    "\n",
    "![link text](https://labcontent.simplicdn.net/data-content/content-assets/Data_and_AI/ADSP_Images/Lesson_04_Working_with_Pandas/1_Introduction_to_Pandas/Data_Structures.png)\n"
   ]
  },
  {
   "cell_type": "markdown",
   "id": "930278a4-9d0c-4a6d-afa3-b8618cb24b10",
   "metadata": {},
   "source": [
    "## Introduction to Series\n",
    "\n",
    "A pandas Series is one dimensional array like structure containing and respective label/index\n",
    "\n",
    "\n",
    "It can be created with different data inputs:\n",
    "![link text](https://labcontent.simplicdn.net/data-content/content-assets/Data_and_AI/ADSP_Images/Updated_Images/Lesson_4/4_01/Introduction_to_Series.png)"
   ]
  },
  {
   "cell_type": "markdown",
   "id": "59ff3092-b397-483e-b305-cec50bdb2cd5",
   "metadata": {},
   "source": [
    "## Create and Access Series using different methods\n",
    "\n",
    "to create Series, pandas has class called as Series with initialization for labels. systactically<br>\n",
    "$$ seriesname =  pandas.Series(sequence, index = list of indices) $$"
   ]
  },
  {
   "cell_type": "code",
   "execution_count": 1,
   "id": "393718de-0ec0-495b-9606-cac7f349bdf3",
   "metadata": {},
   "outputs": [
    {
     "name": "stdout",
     "output_type": "stream",
     "text": [
      "Requirement already satisfied: pandas in c:\\users\\slp12264\\appdata\\local\\anaconda3\\lib\\site-packages (2.2.3)\n",
      "Requirement already satisfied: numpy>=1.26.0 in c:\\users\\slp12264\\appdata\\local\\anaconda3\\lib\\site-packages (from pandas) (1.26.4)\n",
      "Requirement already satisfied: python-dateutil>=2.8.2 in c:\\users\\slp12264\\appdata\\local\\anaconda3\\lib\\site-packages (from pandas) (2.9.0.post0)\n",
      "Requirement already satisfied: pytz>=2020.1 in c:\\users\\slp12264\\appdata\\local\\anaconda3\\lib\\site-packages (from pandas) (2024.1)\n",
      "Requirement already satisfied: tzdata>=2022.7 in c:\\users\\slp12264\\appdata\\local\\anaconda3\\lib\\site-packages (from pandas) (2023.3)\n",
      "Requirement already satisfied: six>=1.5 in c:\\users\\slp12264\\appdata\\local\\anaconda3\\lib\\site-packages (from python-dateutil>=2.8.2->pandas) (1.16.0)\n"
     ]
    }
   ],
   "source": [
    "# Install Pandas \n",
    "!pip install pandas"
   ]
  },
  {
   "cell_type": "code",
   "execution_count": 2,
   "id": "30adec66-11c0-4341-a12e-517b4514a018",
   "metadata": {},
   "outputs": [],
   "source": [
    "# Import pandas and numpy\n",
    "import numpy as np\n",
    "import pandas as pd\n"
   ]
  },
  {
   "cell_type": "code",
   "execution_count": 3,
   "id": "052ee6a4-7e7a-47df-b794-473b4a8cebd3",
   "metadata": {},
   "outputs": [],
   "source": [
    "# Creating Pandas Series using List\n",
    "data =  [1,2,3,4,5]\n",
    "sr = pd.Series(data)\n",
    "\n",
    "# Create a series with user defined index using list\n",
    "idx = ['a', 'b', 'c', 'd', 'e']\n",
    "sr_with_index = pd.Series(data, index =  idx)\n"
   ]
  },
  {
   "cell_type": "code",
   "execution_count": 4,
   "id": "c1dd100c-1675-4ffe-869e-dfad8b7445b4",
   "metadata": {},
   "outputs": [
    {
     "name": "stdout",
     "output_type": "stream",
     "text": [
      "0    1\n",
      "1    2\n",
      "2    3\n",
      "3    4\n",
      "4    5\n",
      "dtype: int64\n"
     ]
    }
   ],
   "source": [
    "print(sr)"
   ]
  },
  {
   "cell_type": "code",
   "execution_count": 5,
   "id": "cea3ae56-f916-413f-a718-eb135b3a2563",
   "metadata": {},
   "outputs": [
    {
     "name": "stdout",
     "output_type": "stream",
     "text": [
      "a    1\n",
      "b    2\n",
      "c    3\n",
      "d    4\n",
      "e    5\n",
      "dtype: int64\n"
     ]
    }
   ],
   "source": [
    "print(sr_with_index)"
   ]
  },
  {
   "cell_type": "code",
   "execution_count": 6,
   "id": "8892bc60-7795-440b-88d9-cb6b225b0636",
   "metadata": {},
   "outputs": [
    {
     "name": "stdout",
     "output_type": "stream",
     "text": [
      "[1 2 3 4 5]\n"
     ]
    }
   ],
   "source": [
    "arr =  np.array(data)\n",
    "print(arr)"
   ]
  },
  {
   "cell_type": "code",
   "execution_count": 7,
   "id": "ac28e085-a415-4d2b-aa4d-1b4fc4bc6e65",
   "metadata": {},
   "outputs": [
    {
     "name": "stdout",
     "output_type": "stream",
     "text": [
      "5\n",
      "5\n"
     ]
    }
   ],
   "source": [
    "print(sr[4])\n",
    "print(sr_with_index['e'])"
   ]
  },
  {
   "cell_type": "code",
   "execution_count": 8,
   "id": "a25626a5-d609-47f3-bcc7-a57b27db2771",
   "metadata": {},
   "outputs": [],
   "source": [
    "# Create a Series using Dictionary\n",
    "sr_with_dict = pd.Series({'Shirts':2, 'Trousers':1, 'Shoes':1, 'Watches':2, 'Wallets':3, 'TShirt': 3, \n",
    "                          'Belts':2, 'Socks':2})"
   ]
  },
  {
   "cell_type": "code",
   "execution_count": 9,
   "id": "06d04896-0f89-405f-848a-e4f5db62a911",
   "metadata": {},
   "outputs": [
    {
     "name": "stdout",
     "output_type": "stream",
     "text": [
      "Shirts      2\n",
      "Trousers    1\n",
      "Shoes       1\n",
      "Watches     2\n",
      "Wallets     3\n",
      "TShirt      3\n",
      "Belts       2\n",
      "Socks       2\n",
      "dtype: int64\n"
     ]
    }
   ],
   "source": [
    "print(sr_with_dict)"
   ]
  },
  {
   "cell_type": "code",
   "execution_count": 10,
   "id": "5408cd3f-9057-4c76-b95f-aa3bd7aa60a9",
   "metadata": {},
   "outputs": [
    {
     "data": {
      "text/plain": [
       "2"
      ]
     },
     "execution_count": 10,
     "metadata": {},
     "output_type": "execute_result"
    }
   ],
   "source": [
    "sr_with_dict['Shirts']"
   ]
  },
  {
   "cell_type": "code",
   "execution_count": 11,
   "id": "e20914ff-1ac3-4703-a0f7-8b0fea089308",
   "metadata": {},
   "outputs": [],
   "source": [
    "# Create a Series using Dictionary with user defined index\n",
    "dict1 = {'Shirts':2, 'Trousers':1, 'Shoes':1, 'Watches':2, 'Wallets':3, 'TShirt': 3, 'Belts':2, 'Socks':2}\n",
    "sr_with_dict_idx = pd.Series(dict1, index = ['Shirts', 'Trousers', 'Shoes', 'Watches', \n",
    "                                                           'Wallets', 'TShirt', 'Socks', 'Perfume'])"
   ]
  },
  {
   "cell_type": "code",
   "execution_count": 12,
   "id": "941cdeaf-6a93-4498-94b5-75a109220fc8",
   "metadata": {},
   "outputs": [
    {
     "data": {
      "text/plain": [
       "Shirts      2.0\n",
       "Trousers    1.0\n",
       "Shoes       1.0\n",
       "Watches     2.0\n",
       "Wallets     3.0\n",
       "TShirt      3.0\n",
       "Socks       2.0\n",
       "Perfume     NaN\n",
       "dtype: float64"
      ]
     },
     "execution_count": 12,
     "metadata": {},
     "output_type": "execute_result"
    }
   ],
   "source": [
    "sr_with_dict_idx"
   ]
  },
  {
   "cell_type": "markdown",
   "id": "8306daab-77c3-4f9e-adba-f62f1b4fb8c1",
   "metadata": {},
   "source": [
    "## Basic Information in pandas Series\n",
    "These functions collectively helps in summarizing and understanding the characterstics of Data, facilitating effective data exploration and analysis."
   ]
  },
  {
   "cell_type": "code",
   "execution_count": 13,
   "id": "2f42fd63-c178-43ae-8fb8-2cfb6126c7eb",
   "metadata": {},
   "outputs": [
    {
     "data": {
      "text/plain": [
       "Shirts      2.0\n",
       "Trousers    1.0\n",
       "Shoes       1.0\n",
       "dtype: float64"
      ]
     },
     "execution_count": 13,
     "metadata": {},
     "output_type": "execute_result"
    }
   ],
   "source": [
    "# display the first n rows -  head()\n",
    "first_n_rows =  sr_with_dict_idx.head(3) # default count is 5s\n",
    "first_n_rows"
   ]
  },
  {
   "cell_type": "code",
   "execution_count": 14,
   "id": "b5e27a84-6e2b-4dfc-9469-0712485283e9",
   "metadata": {},
   "outputs": [
    {
     "data": {
      "text/plain": [
       "TShirt     3.0\n",
       "Socks      2.0\n",
       "Perfume    NaN\n",
       "dtype: float64"
      ]
     },
     "execution_count": 14,
     "metadata": {},
     "output_type": "execute_result"
    }
   ],
   "source": [
    "# display the last n rows -  tail()\n",
    "last_n_rows =  sr_with_dict_idx.tail(3) # default count is 5s\n",
    "last_n_rows"
   ]
  },
  {
   "cell_type": "code",
   "execution_count": 15,
   "id": "6039ba08-66c5-4427-bb23-9f20ad19a388",
   "metadata": {},
   "outputs": [
    {
     "name": "stdout",
     "output_type": "stream",
     "text": [
      "<class 'pandas.core.series.Series'>\n",
      "Index: 8 entries, Shirts to Perfume\n",
      "Series name: None\n",
      "Non-Null Count  Dtype  \n",
      "--------------  -----  \n",
      "7 non-null      float64\n",
      "dtypes: float64(1)\n",
      "memory usage: 428.0+ bytes\n"
     ]
    }
   ],
   "source": [
    "# general summary - info()\n",
    "sr_with_dict_idx.info()"
   ]
  },
  {
   "cell_type": "code",
   "execution_count": 16,
   "id": "67ac5b68-d315-4ac1-8cf5-1c8021a8a380",
   "metadata": {},
   "outputs": [
    {
     "name": "stdout",
     "output_type": "stream",
     "text": [
      "<class 'pandas.core.series.Series'>\n",
      "Index(['Shirts', 'Trousers', 'Shoes', 'Watches', 'Wallets', 'TShirt', 'Socks',\n",
      "       'Perfume'],\n",
      "      dtype='object')\n",
      "8\n",
      "None\n",
      "7\n",
      "float64\n",
      "428\n"
     ]
    }
   ],
   "source": [
    "print(type(sr_with_dict_idx))\n",
    "print(sr_with_dict_idx.index)\n",
    "print(len(sr_with_dict_idx.index))\n",
    "print(sr_with_dict_idx.name)\n",
    "print(sr_with_dict_idx.count())\n",
    "print(sr_with_dict_idx.dtype)\n",
    "print(sr_with_dict_idx.memory_usage())"
   ]
  },
  {
   "cell_type": "code",
   "execution_count": 17,
   "id": "39fc2e8f-87d5-4554-955d-f0c36cd36512",
   "metadata": {},
   "outputs": [
    {
     "name": "stdout",
     "output_type": "stream",
     "text": [
      "Index(['Shirts', 'Trousers', 'Shoes', 'Watches', 'Wallets', 'TShirt', 'Socks',\n",
      "       'Perfume'],\n",
      "      dtype='object')\n"
     ]
    }
   ],
   "source": [
    "# extract index\n",
    "print(sr_with_dict_idx.index)"
   ]
  },
  {
   "cell_type": "code",
   "execution_count": 22,
   "id": "1fac76a5-21ec-400d-b46a-529f063a6c38",
   "metadata": {},
   "outputs": [
    {
     "name": "stdout",
     "output_type": "stream",
     "text": [
      "[ 2.  1.  1.  2.  3.  3.  2. nan]\n"
     ]
    }
   ],
   "source": [
    "# extract values\n",
    "print(sr_with_dict_idx.values)  #***"
   ]
  },
  {
   "cell_type": "code",
   "execution_count": 19,
   "id": "ab3cfeab-1f21-42b6-b128-5935cbb528e0",
   "metadata": {},
   "outputs": [
    {
     "name": "stdout",
     "output_type": "stream",
     "text": [
      "1\n"
     ]
    }
   ],
   "source": [
    "# num of dimensions\n",
    "print(sr_with_dict_idx.ndim)"
   ]
  },
  {
   "cell_type": "code",
   "execution_count": 20,
   "id": "55181302-66f7-429f-b674-1d4bdd3e7acc",
   "metadata": {},
   "outputs": [
    {
     "name": "stdout",
     "output_type": "stream",
     "text": [
      "(8,)\n"
     ]
    }
   ],
   "source": [
    "# shape\n",
    "print(sr_with_dict_idx.shape)"
   ]
  },
  {
   "cell_type": "code",
   "execution_count": 21,
   "id": "253f46fc-e745-4e2e-8f9e-53165f8523d8",
   "metadata": {},
   "outputs": [
    {
     "name": "stdout",
     "output_type": "stream",
     "text": [
      "8\n"
     ]
    }
   ],
   "source": [
    "# size\n",
    "print(sr_with_dict_idx.size)"
   ]
  },
  {
   "cell_type": "markdown",
   "id": "468a48df-42b3-4c2a-8877-62c828e6f427",
   "metadata": {},
   "source": [
    "# Date - 21-03-2025"
   ]
  },
  {
   "cell_type": "code",
   "execution_count": 23,
   "id": "b7b2829e-2a36-47c7-8132-58e0aa2aa375",
   "metadata": {},
   "outputs": [
    {
     "data": {
      "text/plain": [
       "count    7.000000\n",
       "mean     2.000000\n",
       "std      0.816497\n",
       "min      1.000000\n",
       "25%      1.500000\n",
       "50%      2.000000\n",
       "75%      2.500000\n",
       "max      3.000000\n",
       "dtype: float64"
      ]
     },
     "execution_count": 23,
     "metadata": {},
     "output_type": "execute_result"
    }
   ],
   "source": [
    "# Statistical Summary - describe()\n",
    "sr_with_dict_idx.describe()"
   ]
  },
  {
   "cell_type": "code",
   "execution_count": 24,
   "id": "1d6a7802-111b-41c8-906f-c52e121b91c0",
   "metadata": {},
   "outputs": [
    {
     "data": {
      "text/plain": [
       "array([ 2.,  1.,  3., nan])"
      ]
     },
     "execution_count": 24,
     "metadata": {},
     "output_type": "execute_result"
    }
   ],
   "source": [
    "# get unique values -  unique()\n",
    "sr_with_dict_idx.unique()"
   ]
  },
  {
   "cell_type": "code",
   "execution_count": 25,
   "id": "f1bdc832-d947-4dfd-ab2e-7a7060f9743b",
   "metadata": {},
   "outputs": [
    {
     "data": {
      "text/plain": [
       "3"
      ]
     },
     "execution_count": 25,
     "metadata": {},
     "output_type": "execute_result"
    }
   ],
   "source": [
    "# get the count of unique values -  nunique()\n",
    "sr_with_dict_idx.nunique()\n"
   ]
  },
  {
   "cell_type": "markdown",
   "id": "2916aa52-8735-45dc-bc4c-c49e56ea7697",
   "metadata": {
    "jp-MarkdownHeadingCollapsed": true
   },
   "source": [
    "## Opeartions and Transformation in Series"
   ]
  },
  {
   "cell_type": "code",
   "execution_count": 49,
   "id": "981f7aa7-b289-463e-b367-a10b383e5f29",
   "metadata": {},
   "outputs": [],
   "source": [
    "sr1 = pd.Series([1,2,3,4,5])\n",
    "sr2 = pd.Series([2,5,1,6,2], index = ['Pens', 'Pencils', 'Eraser', 'Sharpner', 'Divider'])"
   ]
  },
  {
   "cell_type": "code",
   "execution_count": 50,
   "id": "8c520ad8-1470-4164-aba2-98bc5071a3b5",
   "metadata": {},
   "outputs": [
    {
     "name": "stdout",
     "output_type": "stream",
     "text": [
      "0          NaN\n",
      "1          NaN\n",
      "2          NaN\n",
      "3          NaN\n",
      "4          NaN\n",
      "Divider    NaN\n",
      "Eraser     NaN\n",
      "Pencils    NaN\n",
      "Pens       NaN\n",
      "Sharpner   NaN\n",
      "dtype: float64\n"
     ]
    }
   ],
   "source": [
    "# Element wise addition -  add values to series if the index is matcing in both series\n",
    "\n",
    "rs =  sr1 + sr2\n",
    "print(rs)"
   ]
  },
  {
   "cell_type": "code",
   "execution_count": 51,
   "id": "a5915289-15d6-4fcc-8055-30f787fa771d",
   "metadata": {},
   "outputs": [
    {
     "name": "stdout",
     "output_type": "stream",
     "text": [
      "0     3\n",
      "1     7\n",
      "2    13\n",
      "3    21\n",
      "4    31\n",
      "dtype: int64\n"
     ]
    }
   ],
   "source": [
    "# Apply a function to a Series - apply() - allows to apply any function to each value in the series \n",
    "res2 =  sr1.apply(lambda x: x**2 + x +1)\n",
    "print(res2)"
   ]
  },
  {
   "cell_type": "code",
   "execution_count": 52,
   "id": "4292ecbc-fb58-4587-b841-ab5e78f6c084",
   "metadata": {},
   "outputs": [
    {
     "name": "stdout",
     "output_type": "stream",
     "text": [
      "Pens        2\n",
      "Pencils     5\n",
      "Eraser      1\n",
      "Sharpner    6\n",
      "Divider     2\n",
      "dtype: int64\n",
      "Pens         two\n",
      "Pencils     five\n",
      "Eraser       one\n",
      "Sharpner     six\n",
      "Divider      two\n",
      "dtype: object\n"
     ]
    }
   ],
   "source": [
    "# map values using a dictionary -  map()\n",
    "print(sr2)\n",
    "mapped_series =  sr2.map({1:'one', 2:'two', 5:'five', 6:'six'})\n",
    "print(mapped_series)"
   ]
  },
  {
   "cell_type": "code",
   "execution_count": 53,
   "id": "959d4469-0b03-4683-81ac-cee221abc259",
   "metadata": {},
   "outputs": [
    {
     "name": "stdout",
     "output_type": "stream",
     "text": [
      "Pens        2\n",
      "Pencils     5\n",
      "Eraser      1\n",
      "Sharpner    6\n",
      "Divider     2\n",
      "dtype: int64\n",
      "Pens         two\n",
      "Pencils     five\n",
      "Eraser       one\n",
      "Sharpner     NaN\n",
      "Divider      two\n",
      "dtype: object\n"
     ]
    }
   ],
   "source": [
    "# map values using a dictionary -  map()\n",
    "print(sr2)\n",
    "mapped_series2 =  sr2.map({1:'one', 2:'two', 5:'five'})\n",
    "print(mapped_series2)\n"
   ]
  },
  {
   "cell_type": "code",
   "execution_count": 54,
   "id": "4926b294-916b-47ae-9496-380c1c53baf6",
   "metadata": {},
   "outputs": [
    {
     "name": "stdout",
     "output_type": "stream",
     "text": [
      "Pens        2\n",
      "Pencils     5\n",
      "Eraser      1\n",
      "Sharpner    6\n",
      "Divider     2\n",
      "dtype: int64\n",
      "Pens        two\n",
      "Pencils       5\n",
      "Eraser      one\n",
      "Sharpner      6\n",
      "Divider     two\n",
      "dtype: object\n"
     ]
    }
   ],
   "source": [
    "# replace values using a dictionary -  replace()\n",
    "print(sr2)\n",
    "rp_series =  sr2.replace({1:'one', 2:'two'})\n",
    "print(rp_series)"
   ]
  },
  {
   "cell_type": "code",
   "execution_count": 55,
   "id": "e8f8f91d-5099-44e9-a785-fc2c79cfc861",
   "metadata": {},
   "outputs": [
    {
     "name": "stdout",
     "output_type": "stream",
     "text": [
      "Eraser      1\n",
      "Pens        2\n",
      "Divider     2\n",
      "Pencils     5\n",
      "Sharpner    6\n",
      "dtype: int64\n"
     ]
    }
   ],
   "source": [
    "# Sort Series by value - sort_values()\n",
    "\n",
    "sr2_sorted = sr2.sort_values()\n",
    "print(sr2_sorted)"
   ]
  },
  {
   "cell_type": "code",
   "execution_count": 63,
   "id": "b66f076d-556a-434c-842d-9df4f199685c",
   "metadata": {},
   "outputs": [
    {
     "name": "stdout",
     "output_type": "stream",
     "text": [
      "Divider     2\n",
      "Eraser      1\n",
      "Pencils     5\n",
      "Pens        2\n",
      "Sharpner    6\n",
      "dtype: int64\n"
     ]
    }
   ],
   "source": [
    "# Sort Series by index - sort_index()\n",
    "\n",
    "sr2_sorted_index = sr2_sorted.sort_index()\n",
    "print(sr2_sorted_index)"
   ]
  },
  {
   "cell_type": "raw",
   "id": "ca08ae6f-9548-474c-9255-55f262c2d979",
   "metadata": {},
   "source": [
    "# Code to sort both index and values - not recommended\n",
    "temp = sr2_sorted_index.copy()\n",
    "idx = temp.index\n",
    "temp =  temp.sort_values()\n",
    "temp.index = idx\n",
    "print(temp)"
   ]
  },
  {
   "cell_type": "code",
   "execution_count": 66,
   "id": "0f000d6e-e745-48f3-bf9f-e3410515f787",
   "metadata": {},
   "outputs": [
    {
     "name": "stdout",
     "output_type": "stream",
     "text": [
      "Sharpner    6\n",
      "Pencils     5\n",
      "Pens        2\n",
      "Divider     2\n",
      "Eraser      1\n",
      "dtype: int64\n"
     ]
    }
   ],
   "source": [
    "# Sort Series by value - sort_values() - change order to descending\n",
    "\n",
    "sr2_sorted_desc = sr2.sort_values(ascending = False)\n",
    "print(sr2_sorted_desc)"
   ]
  },
  {
   "cell_type": "code",
   "execution_count": 67,
   "id": "a3751817-33ef-496c-b49a-7dda94365fa6",
   "metadata": {},
   "outputs": [
    {
     "name": "stdout",
     "output_type": "stream",
     "text": [
      "Sharpner    6\n",
      "Pens        2\n",
      "Pencils     5\n",
      "Eraser      1\n",
      "Divider     2\n",
      "dtype: int64\n"
     ]
    }
   ],
   "source": [
    "# Sort Series by index - sort_index() - change order to descending\n",
    "\n",
    "sr2_sorted_index_desc = sr2_sorted.sort_index(ascending = False)\n",
    "print(sr2_sorted_index_desc)"
   ]
  },
  {
   "cell_type": "code",
   "execution_count": 68,
   "id": "d3daa450-9222-4353-96b6-5398d45fd484",
   "metadata": {},
   "outputs": [
    {
     "name": "stdout",
     "output_type": "stream",
     "text": [
      "Shirts      2.0\n",
      "Trousers    1.0\n",
      "Shoes       1.0\n",
      "Watches     2.0\n",
      "Wallets     3.0\n",
      "TShirt      3.0\n",
      "Socks       2.0\n",
      "Perfume     NaN\n",
      "dtype: float64\n"
     ]
    }
   ],
   "source": [
    "# Check for missing values - isnull(), isna()\n",
    "print(sr_with_dict_idx)"
   ]
  },
  {
   "cell_type": "code",
   "execution_count": 70,
   "id": "8d0a288d-1ca5-46f3-a3f1-0ee3ff6e87b1",
   "metadata": {},
   "outputs": [
    {
     "data": {
      "text/plain": [
       "Shirts      False\n",
       "Trousers    False\n",
       "Shoes       False\n",
       "Watches     False\n",
       "Wallets     False\n",
       "TShirt      False\n",
       "Socks       False\n",
       "Perfume      True\n",
       "dtype: bool"
      ]
     },
     "execution_count": 70,
     "metadata": {},
     "output_type": "execute_result"
    }
   ],
   "source": [
    "sr_with_dict_idx.isnull()  # Display True for Null Values"
   ]
  },
  {
   "cell_type": "code",
   "execution_count": 71,
   "id": "ac2c5e54-5a6f-4399-9151-361cb255829b",
   "metadata": {},
   "outputs": [
    {
     "data": {
      "text/plain": [
       "1"
      ]
     },
     "execution_count": 71,
     "metadata": {},
     "output_type": "execute_result"
    }
   ],
   "source": [
    "sr_with_dict_idx.isnull().sum()"
   ]
  },
  {
   "cell_type": "code",
   "execution_count": 77,
   "id": "31c3637f-d475-42e9-83f0-aac98e936757",
   "metadata": {},
   "outputs": [
    {
     "data": {
      "text/plain": [
       "Shirts       True\n",
       "Trousers     True\n",
       "Shoes        True\n",
       "Watches      True\n",
       "Wallets      True\n",
       "TShirt       True\n",
       "Socks        True\n",
       "Perfume     False\n",
       "dtype: bool"
      ]
     },
     "execution_count": 77,
     "metadata": {},
     "output_type": "execute_result"
    }
   ],
   "source": [
    "~sr_with_dict_idx.isnull()"
   ]
  },
  {
   "cell_type": "code",
   "execution_count": 78,
   "id": "c78a35b3-f64d-41bb-bcda-cca8660dce1f",
   "metadata": {},
   "outputs": [
    {
     "data": {
      "text/plain": [
       "7"
      ]
     },
     "execution_count": 78,
     "metadata": {},
     "output_type": "execute_result"
    }
   ],
   "source": [
    "sr_with_dict_idx.count()"
   ]
  },
  {
   "cell_type": "code",
   "execution_count": 79,
   "id": "4e30992e-3820-481c-aaae-91fef83bf380",
   "metadata": {},
   "outputs": [
    {
     "data": {
      "text/plain": [
       "Shirts       True\n",
       "Trousers     True\n",
       "Shoes        True\n",
       "Watches      True\n",
       "Wallets      True\n",
       "TShirt       True\n",
       "Socks        True\n",
       "Perfume     False\n",
       "dtype: bool"
      ]
     },
     "execution_count": 79,
     "metadata": {},
     "output_type": "execute_result"
    }
   ],
   "source": [
    "sr_with_dict_idx.notna() # Gives False if the value is not present "
   ]
  },
  {
   "cell_type": "code",
   "execution_count": 82,
   "id": "c3ec2125-9a8d-4816-ad74-066639bc8782",
   "metadata": {},
   "outputs": [
    {
     "name": "stdout",
     "output_type": "stream",
     "text": [
      "Shirts      2.0\n",
      "Trousers    1.0\n",
      "Shoes       1.0\n",
      "Watches     2.0\n",
      "Wallets     3.0\n",
      "TShirt      3.0\n",
      "Socks       2.0\n",
      "Perfume     NaN\n",
      "dtype: float64\n",
      "Shirts                2.0\n",
      "Trousers              1.0\n",
      "Shoes                 1.0\n",
      "Watches               2.0\n",
      "Wallets               3.0\n",
      "TShirt                3.0\n",
      "Socks                 2.0\n",
      "Perfume     Missing Value\n",
      "dtype: object\n"
     ]
    }
   ],
   "source": [
    "# Fill the missing with specified value -  fillna()\n",
    "print(sr_with_dict_idx)\n",
    "sr_with_dict_idx_filled =  sr_with_dict_idx.fillna('Missing Value')\n",
    "print(sr_with_dict_idx_filled)"
   ]
  },
  {
   "cell_type": "code",
   "execution_count": 83,
   "id": "76621d84-1978-462b-8105-69c435a6c135",
   "metadata": {},
   "outputs": [
    {
     "name": "stdout",
     "output_type": "stream",
     "text": [
      "Pens        2\n",
      "Pencils     5\n",
      "Eraser      1\n",
      "Sharpner    6\n",
      "Divider     2\n",
      "dtype: int64\n"
     ]
    }
   ],
   "source": [
    "# Querying on Series\n",
    "print(sr2)"
   ]
  },
  {
   "cell_type": "code",
   "execution_count": 99,
   "id": "ca00a7a0-e122-4bf1-9445-ffc3abf876cb",
   "metadata": {},
   "outputs": [
    {
     "name": "stdout",
     "output_type": "stream",
     "text": [
      "Pencils     5\n",
      "Sharpner    6\n",
      "dtype: int64\n",
      "Pens       2\n",
      "Divider    2\n",
      "dtype: int64\n",
      "Pens        2\n",
      "Eraser      1\n",
      "Sharpner    6\n",
      "Divider     2\n",
      "dtype: int64\n",
      "Pencils    5\n",
      "dtype: int64\n"
     ]
    }
   ],
   "source": [
    "# select elements greater than 4\n",
    "print(sr2[sr2 >4])\n",
    "# select elements equal to 2\n",
    "print(sr2[sr2==2])\n",
    "# select elements not equal to 5\n",
    "print(sr2[sr2!=5])\n",
    "# select elements greater than 2 less than 6\n",
    "print(sr2[(sr2>2) & (sr2<6)])"
   ]
  },
  {
   "cell_type": "code",
   "execution_count": 100,
   "id": "c93e7993-a729-4e21-add3-77a3b7f7d50f",
   "metadata": {},
   "outputs": [
    {
     "name": "stdout",
     "output_type": "stream",
     "text": [
      "Pens        2\n",
      "Pencils     5\n",
      "Eraser      1\n",
      "Sharpner    6\n",
      "Divider     2\n",
      "dtype: int64\n"
     ]
    }
   ],
   "source": [
    "print(sr2)"
   ]
  },
  {
   "cell_type": "code",
   "execution_count": 102,
   "id": "f4308a08-e071-4d67-9899-3dd7ec34ef1d",
   "metadata": {},
   "outputs": [
    {
     "name": "stdout",
     "output_type": "stream",
     "text": [
      "Pens       2\n",
      "Pencils    5\n",
      "Divider    2\n",
      "dtype: int64\n"
     ]
    }
   ],
   "source": [
    "l1 =  [2,3,4,5]\n",
    "# select elements from series based on a list of values - isin()\n",
    "\n",
    "print(sr2[sr2.isin(l1)])"
   ]
  },
  {
   "cell_type": "code",
   "execution_count": 109,
   "id": "383a05f6-a456-4c18-a037-27bbf4301544",
   "metadata": {},
   "outputs": [
    {
     "name": "stdout",
     "output_type": "stream",
     "text": [
      "0    Elizabeth\n",
      "1      Gowtham\n",
      "2        Jyoti\n",
      "3     Penubala\n",
      "4       Rakesh\n",
      "dtype: object\n",
      "0    Elizabeth\n",
      "1      Gowtham\n",
      "3     Penubala\n",
      "4       Rakesh\n",
      "dtype: object\n"
     ]
    }
   ],
   "source": [
    "# select elements using string methods\n",
    "st_sr =  pd.Series(['Elizabeth', 'Gowtham', 'Jyoti','Penubala', 'Rakesh' ])\n",
    "print(st_sr)\n",
    "print(st_sr[st_sr.str.contains('a')])"
   ]
  },
  {
   "cell_type": "code",
   "execution_count": 118,
   "id": "fe21bf87-665a-4bf8-b9bc-bfdbafe63cf8",
   "metadata": {},
   "outputs": [
    {
     "name": "stdout",
     "output_type": "stream",
     "text": [
      "Pens        2\n",
      "Pencils     5\n",
      "Eraser      1\n",
      "Sharpner    6\n",
      "Divider     2\n",
      "dtype: int64\n",
      "Pens        2\n",
      "Eraser      1\n",
      "Sharpner    6\n",
      "dtype: int64\n",
      "Pencils     5\n",
      "Sharpner    6\n",
      "Divider     2\n",
      "dtype: int64\n",
      "Pencils     5\n",
      "Eraser      1\n",
      "Sharpner    6\n",
      "dtype: int64\n"
     ]
    }
   ],
   "source": [
    "# Query based on index labels/Numeric Position\n",
    "print(sr2)\n",
    "label = ['Pens', 'Eraser', 'Sharpner']\n",
    "print(sr2.loc[label]) # Selects data points based on user labels\n",
    "\n",
    "print(sr2.iloc[[1,3,4]]) # Selects data points based on numerical index\n",
    "\n",
    "print(sr2.iloc[1:4:1])"
   ]
  },
  {
   "cell_type": "markdown",
   "id": "598a4490-4b6a-4342-b5b4-91466e90d325",
   "metadata": {},
   "source": [
    "## Introduction to DataFrame\n",
    "A Pandas DataFrame is a two-dimensional, tabular data structure with labeled axes (rows and columns).\n",
    "It is a primary data structure in the Pandas library, providing a versatile and efficient way to handle and manipulate data in Python.\n",
    "![link text](https://labcontent.simplicdn.net/data-content/content-assets/Data_and_AI/ADSP_Images/Lesson_04_Working_with_Pandas/2_Introduction_to_DataFrame/Introduction_to_Pandas_DataFrame.png)\n",
    "\n",
    "\n",
    "### __Key Features:__\n",
    "- __Tabular structure:__ The DataFrame is organized as a table with rows and columns, similar to a spreadsheet or SQL table.\n",
    "- __Labeled axes:__ Both rows and columns are labeled, allowing for easy indexing and referencing of data.\n",
    "- __Heterogeneous data types:__ Each column in a DataFrame can contain different types of data, such as integers, floats, strings, or even complex objects.\n",
    "- __Versatility:__ DataFrames can store and handle a wide range of data formats, including CSV, Excel, SQL databases, and more.\n",
    "- __Data alignment:__ Operations on DataFrames are designed to handle missing values gracefully, aligning data based on labels.\n",
    "\n",
    "### __Creating a DataFrame Using Different Methods__\n",
    "Creating a Pandas DataFrame is a fundamental step in data analysis and manipulation.\n",
    "- Diverse methods are available within Pandas to generate a DataFrame, addressing various data sources and structures.\n",
    "- Data, whether in Python dictionaries, lists, NumPy arrays, or external files such as CSV and Excel, can be seamlessly transformed into a structured tabular format by Pandas."
   ]
  },
  {
   "cell_type": "code",
   "execution_count": 119,
   "id": "689236f6-bfa2-41ab-a66b-61925da161ed",
   "metadata": {},
   "outputs": [],
   "source": [
    "# import libraries\n",
    "\n",
    "import pandas as pd\n",
    "import numpy as np"
   ]
  },
  {
   "cell_type": "markdown",
   "id": "0fb453e8-31f9-4ed0-a738-c09fb7bd105b",
   "metadata": {},
   "source": [
    "Based upon type pandas offers functions to read the file. for example to read a csv use function `read_csv`, for excel - `read_excel`, for json - `read_json` etc"
   ]
  },
  {
   "cell_type": "code",
   "execution_count": 121,
   "id": "24a1fd50-4e37-4700-8113-af7c59f2e786",
   "metadata": {},
   "outputs": [],
   "source": [
    "# create dataframe by reading csv file\n",
    "df = pd.read_csv('iris.csv')"
   ]
  },
  {
   "cell_type": "code",
   "execution_count": 125,
   "id": "c29e2a38-27b3-4ede-b61f-0f4baaaec4f6",
   "metadata": {},
   "outputs": [
    {
     "data": {
      "text/html": [
       "<div>\n",
       "<style scoped>\n",
       "    .dataframe tbody tr th:only-of-type {\n",
       "        vertical-align: middle;\n",
       "    }\n",
       "\n",
       "    .dataframe tbody tr th {\n",
       "        vertical-align: top;\n",
       "    }\n",
       "\n",
       "    .dataframe thead th {\n",
       "        text-align: right;\n",
       "    }\n",
       "</style>\n",
       "<table border=\"1\" class=\"dataframe\">\n",
       "  <thead>\n",
       "    <tr style=\"text-align: right;\">\n",
       "      <th></th>\n",
       "      <th>sepal.length</th>\n",
       "      <th>sepal.width</th>\n",
       "      <th>petal.length</th>\n",
       "      <th>petal.width</th>\n",
       "      <th>variety</th>\n",
       "    </tr>\n",
       "  </thead>\n",
       "  <tbody>\n",
       "    <tr>\n",
       "      <th>0</th>\n",
       "      <td>5.1</td>\n",
       "      <td>3.5</td>\n",
       "      <td>1.4</td>\n",
       "      <td>0.2</td>\n",
       "      <td>Setosa</td>\n",
       "    </tr>\n",
       "    <tr>\n",
       "      <th>1</th>\n",
       "      <td>4.9</td>\n",
       "      <td>3.0</td>\n",
       "      <td>1.4</td>\n",
       "      <td>0.2</td>\n",
       "      <td>Setosa</td>\n",
       "    </tr>\n",
       "    <tr>\n",
       "      <th>2</th>\n",
       "      <td>4.7</td>\n",
       "      <td>3.2</td>\n",
       "      <td>1.3</td>\n",
       "      <td>0.2</td>\n",
       "      <td>Setosa</td>\n",
       "    </tr>\n",
       "    <tr>\n",
       "      <th>3</th>\n",
       "      <td>4.6</td>\n",
       "      <td>3.1</td>\n",
       "      <td>1.5</td>\n",
       "      <td>0.2</td>\n",
       "      <td>Setosa</td>\n",
       "    </tr>\n",
       "    <tr>\n",
       "      <th>4</th>\n",
       "      <td>5.0</td>\n",
       "      <td>3.6</td>\n",
       "      <td>1.4</td>\n",
       "      <td>0.2</td>\n",
       "      <td>Setosa</td>\n",
       "    </tr>\n",
       "    <tr>\n",
       "      <th>...</th>\n",
       "      <td>...</td>\n",
       "      <td>...</td>\n",
       "      <td>...</td>\n",
       "      <td>...</td>\n",
       "      <td>...</td>\n",
       "    </tr>\n",
       "    <tr>\n",
       "      <th>145</th>\n",
       "      <td>6.7</td>\n",
       "      <td>3.0</td>\n",
       "      <td>5.2</td>\n",
       "      <td>2.3</td>\n",
       "      <td>Virginica</td>\n",
       "    </tr>\n",
       "    <tr>\n",
       "      <th>146</th>\n",
       "      <td>6.3</td>\n",
       "      <td>2.5</td>\n",
       "      <td>5.0</td>\n",
       "      <td>1.9</td>\n",
       "      <td>Virginica</td>\n",
       "    </tr>\n",
       "    <tr>\n",
       "      <th>147</th>\n",
       "      <td>6.5</td>\n",
       "      <td>3.0</td>\n",
       "      <td>5.2</td>\n",
       "      <td>2.0</td>\n",
       "      <td>Virginica</td>\n",
       "    </tr>\n",
       "    <tr>\n",
       "      <th>148</th>\n",
       "      <td>6.2</td>\n",
       "      <td>3.4</td>\n",
       "      <td>5.4</td>\n",
       "      <td>2.3</td>\n",
       "      <td>Virginica</td>\n",
       "    </tr>\n",
       "    <tr>\n",
       "      <th>149</th>\n",
       "      <td>5.9</td>\n",
       "      <td>3.0</td>\n",
       "      <td>5.1</td>\n",
       "      <td>1.8</td>\n",
       "      <td>Virginica</td>\n",
       "    </tr>\n",
       "  </tbody>\n",
       "</table>\n",
       "<p>150 rows × 5 columns</p>\n",
       "</div>"
      ],
      "text/plain": [
       "     sepal.length  sepal.width  petal.length  petal.width    variety\n",
       "0             5.1          3.5           1.4          0.2     Setosa\n",
       "1             4.9          3.0           1.4          0.2     Setosa\n",
       "2             4.7          3.2           1.3          0.2     Setosa\n",
       "3             4.6          3.1           1.5          0.2     Setosa\n",
       "4             5.0          3.6           1.4          0.2     Setosa\n",
       "..            ...          ...           ...          ...        ...\n",
       "145           6.7          3.0           5.2          2.3  Virginica\n",
       "146           6.3          2.5           5.0          1.9  Virginica\n",
       "147           6.5          3.0           5.2          2.0  Virginica\n",
       "148           6.2          3.4           5.4          2.3  Virginica\n",
       "149           5.9          3.0           5.1          1.8  Virginica\n",
       "\n",
       "[150 rows x 5 columns]"
      ]
     },
     "execution_count": 125,
     "metadata": {},
     "output_type": "execute_result"
    }
   ],
   "source": [
    "df"
   ]
  },
  {
   "cell_type": "markdown",
   "id": "f9e68488-ba4f-48d5-a411-ef6bd75ea493",
   "metadata": {},
   "source": [
    "the syntax to create a DataFrame using pd.DataFrame function is\n",
    "$$\\text{pd.DataFrame(data, columns = [list of column names], index = [list of index])}$$"
   ]
  },
  {
   "cell_type": "code",
   "execution_count": 129,
   "id": "572c92ab-727a-4c8d-97d1-2a92f33d98ea",
   "metadata": {},
   "outputs": [
    {
     "data": {
      "text/html": [
       "<div>\n",
       "<style scoped>\n",
       "    .dataframe tbody tr th:only-of-type {\n",
       "        vertical-align: middle;\n",
       "    }\n",
       "\n",
       "    .dataframe tbody tr th {\n",
       "        vertical-align: top;\n",
       "    }\n",
       "\n",
       "    .dataframe thead th {\n",
       "        text-align: right;\n",
       "    }\n",
       "</style>\n",
       "<table border=\"1\" class=\"dataframe\">\n",
       "  <thead>\n",
       "    <tr style=\"text-align: right;\">\n",
       "      <th></th>\n",
       "      <th>Name</th>\n",
       "      <th>Age</th>\n",
       "      <th>Salary</th>\n",
       "    </tr>\n",
       "  </thead>\n",
       "  <tbody>\n",
       "    <tr>\n",
       "      <th>0</th>\n",
       "      <td>Alice</td>\n",
       "      <td>21</td>\n",
       "      <td>50000</td>\n",
       "    </tr>\n",
       "    <tr>\n",
       "      <th>1</th>\n",
       "      <td>Bob</td>\n",
       "      <td>25</td>\n",
       "      <td>60000</td>\n",
       "    </tr>\n",
       "    <tr>\n",
       "      <th>2</th>\n",
       "      <td>Charlie</td>\n",
       "      <td>18</td>\n",
       "      <td>30000</td>\n",
       "    </tr>\n",
       "  </tbody>\n",
       "</table>\n",
       "</div>"
      ],
      "text/plain": [
       "      Name  Age  Salary\n",
       "0    Alice   21   50000\n",
       "1      Bob   25   60000\n",
       "2  Charlie   18   30000"
      ]
     },
     "execution_count": 129,
     "metadata": {},
     "output_type": "execute_result"
    }
   ],
   "source": [
    "# Create a DataFrame using Dictionary\n",
    "\n",
    "data_dict = {'Name': ['Alice', 'Bob','Charlie'],\n",
    "            'Age':[21, 25, 18], \n",
    "            'Salary':[50000, 60000, 30000]}\n",
    "\n",
    "df_dict =  pd.DataFrame(data_dict)\n",
    "df_dict"
   ]
  },
  {
   "cell_type": "code",
   "execution_count": 131,
   "id": "3d62a4ad-1398-48e1-9c2e-2dfd0ae82508",
   "metadata": {},
   "outputs": [
    {
     "data": {
      "text/html": [
       "<div>\n",
       "<style scoped>\n",
       "    .dataframe tbody tr th:only-of-type {\n",
       "        vertical-align: middle;\n",
       "    }\n",
       "\n",
       "    .dataframe tbody tr th {\n",
       "        vertical-align: top;\n",
       "    }\n",
       "\n",
       "    .dataframe thead th {\n",
       "        text-align: right;\n",
       "    }\n",
       "</style>\n",
       "<table border=\"1\" class=\"dataframe\">\n",
       "  <thead>\n",
       "    <tr style=\"text-align: right;\">\n",
       "      <th></th>\n",
       "      <th>Name</th>\n",
       "      <th>Age</th>\n",
       "      <th>Salary</th>\n",
       "    </tr>\n",
       "  </thead>\n",
       "  <tbody>\n",
       "    <tr>\n",
       "      <th>0</th>\n",
       "      <td>Alice</td>\n",
       "      <td>21</td>\n",
       "      <td>50000</td>\n",
       "    </tr>\n",
       "    <tr>\n",
       "      <th>1</th>\n",
       "      <td>Bob</td>\n",
       "      <td>25</td>\n",
       "      <td>60000</td>\n",
       "    </tr>\n",
       "    <tr>\n",
       "      <th>2</th>\n",
       "      <td>Charlie</td>\n",
       "      <td>18</td>\n",
       "      <td>30000</td>\n",
       "    </tr>\n",
       "  </tbody>\n",
       "</table>\n",
       "</div>"
      ],
      "text/plain": [
       "      Name  Age  Salary\n",
       "0    Alice   21   50000\n",
       "1      Bob   25   60000\n",
       "2  Charlie   18   30000"
      ]
     },
     "execution_count": 131,
     "metadata": {},
     "output_type": "execute_result"
    }
   ],
   "source": [
    "# Create a DataFrame using List\n",
    "\n",
    "data_list = [['Alice', 21 ,50000],['Bob', 25, 60000], ['Charlie', 18, 30000]]\n",
    "cols =  ['Name', 'Age', 'Salary']\n",
    "\n",
    "df_dict =  pd.DataFrame(data_list, columns =  cols)\n",
    "df_dict"
   ]
  },
  {
   "cell_type": "code",
   "execution_count": 132,
   "id": "0d209c7a-b63c-49c3-beb0-099e2ee638cd",
   "metadata": {},
   "outputs": [
    {
     "data": {
      "text/html": [
       "<div>\n",
       "<style scoped>\n",
       "    .dataframe tbody tr th:only-of-type {\n",
       "        vertical-align: middle;\n",
       "    }\n",
       "\n",
       "    .dataframe tbody tr th {\n",
       "        vertical-align: top;\n",
       "    }\n",
       "\n",
       "    .dataframe thead th {\n",
       "        text-align: right;\n",
       "    }\n",
       "</style>\n",
       "<table border=\"1\" class=\"dataframe\">\n",
       "  <thead>\n",
       "    <tr style=\"text-align: right;\">\n",
       "      <th></th>\n",
       "      <th>Name</th>\n",
       "      <th>Age</th>\n",
       "      <th>Salary</th>\n",
       "    </tr>\n",
       "  </thead>\n",
       "  <tbody>\n",
       "    <tr>\n",
       "      <th>Emp1</th>\n",
       "      <td>Alice</td>\n",
       "      <td>21</td>\n",
       "      <td>50000</td>\n",
       "    </tr>\n",
       "    <tr>\n",
       "      <th>Emp2</th>\n",
       "      <td>Bob</td>\n",
       "      <td>25</td>\n",
       "      <td>60000</td>\n",
       "    </tr>\n",
       "    <tr>\n",
       "      <th>Emp3</th>\n",
       "      <td>Charlie</td>\n",
       "      <td>18</td>\n",
       "      <td>30000</td>\n",
       "    </tr>\n",
       "  </tbody>\n",
       "</table>\n",
       "</div>"
      ],
      "text/plain": [
       "         Name  Age  Salary\n",
       "Emp1    Alice   21   50000\n",
       "Emp2      Bob   25   60000\n",
       "Emp3  Charlie   18   30000"
      ]
     },
     "execution_count": 132,
     "metadata": {},
     "output_type": "execute_result"
    }
   ],
   "source": [
    "# Create a DataFrame using List with index \n",
    "\n",
    "data_list = [['Alice', 21 ,50000],['Bob', 25, 60000], ['Charlie', 18, 30000]]\n",
    "cols =  ['Name', 'Age', 'Salary']\n",
    "idx =  ['Emp1', 'Emp2', 'Emp3']\n",
    "\n",
    "df_dict =  pd.DataFrame(data_list, columns =  cols, index = idx)\n",
    "df_dict"
   ]
  },
  {
   "cell_type": "code",
   "execution_count": 134,
   "id": "8474915a-7caf-4892-a921-a7615a542309",
   "metadata": {},
   "outputs": [],
   "source": [
    "house =  pd.read_csv('HousePrices.csv')"
   ]
  },
  {
   "cell_type": "code",
   "execution_count": 135,
   "id": "634f6038-8ff6-4507-9d65-6fdf3fa7ac5d",
   "metadata": {},
   "outputs": [
    {
     "data": {
      "text/html": [
       "<div>\n",
       "<style scoped>\n",
       "    .dataframe tbody tr th:only-of-type {\n",
       "        vertical-align: middle;\n",
       "    }\n",
       "\n",
       "    .dataframe tbody tr th {\n",
       "        vertical-align: top;\n",
       "    }\n",
       "\n",
       "    .dataframe thead th {\n",
       "        text-align: right;\n",
       "    }\n",
       "</style>\n",
       "<table border=\"1\" class=\"dataframe\">\n",
       "  <thead>\n",
       "    <tr style=\"text-align: right;\">\n",
       "      <th></th>\n",
       "      <th>date</th>\n",
       "      <th>price</th>\n",
       "      <th>bedrooms</th>\n",
       "      <th>bathrooms</th>\n",
       "      <th>sqft_living</th>\n",
       "      <th>sqft_lot</th>\n",
       "      <th>floors</th>\n",
       "      <th>waterfront</th>\n",
       "      <th>view</th>\n",
       "      <th>condition</th>\n",
       "      <th>sqft_above</th>\n",
       "      <th>sqft_basement</th>\n",
       "      <th>yr_built</th>\n",
       "      <th>yr_renovated</th>\n",
       "      <th>street</th>\n",
       "      <th>city</th>\n",
       "      <th>statezip</th>\n",
       "      <th>country</th>\n",
       "    </tr>\n",
       "  </thead>\n",
       "  <tbody>\n",
       "    <tr>\n",
       "      <th>0</th>\n",
       "      <td>2014-05-02 00:00:00</td>\n",
       "      <td>3.130000e+05</td>\n",
       "      <td>3.0</td>\n",
       "      <td>1.50</td>\n",
       "      <td>1340</td>\n",
       "      <td>7912</td>\n",
       "      <td>1.5</td>\n",
       "      <td>0</td>\n",
       "      <td>0</td>\n",
       "      <td>3</td>\n",
       "      <td>1340</td>\n",
       "      <td>0</td>\n",
       "      <td>1955</td>\n",
       "      <td>2005</td>\n",
       "      <td>18810 Densmore Ave N</td>\n",
       "      <td>Shoreline</td>\n",
       "      <td>WA 98133</td>\n",
       "      <td>USA</td>\n",
       "    </tr>\n",
       "    <tr>\n",
       "      <th>1</th>\n",
       "      <td>2014-05-02 00:00:00</td>\n",
       "      <td>2.384000e+06</td>\n",
       "      <td>5.0</td>\n",
       "      <td>2.50</td>\n",
       "      <td>3650</td>\n",
       "      <td>9050</td>\n",
       "      <td>2.0</td>\n",
       "      <td>0</td>\n",
       "      <td>4</td>\n",
       "      <td>5</td>\n",
       "      <td>3370</td>\n",
       "      <td>280</td>\n",
       "      <td>1921</td>\n",
       "      <td>0</td>\n",
       "      <td>709 W Blaine St</td>\n",
       "      <td>Seattle</td>\n",
       "      <td>WA 98119</td>\n",
       "      <td>USA</td>\n",
       "    </tr>\n",
       "    <tr>\n",
       "      <th>2</th>\n",
       "      <td>2014-05-02 00:00:00</td>\n",
       "      <td>3.420000e+05</td>\n",
       "      <td>3.0</td>\n",
       "      <td>2.00</td>\n",
       "      <td>1930</td>\n",
       "      <td>11947</td>\n",
       "      <td>1.0</td>\n",
       "      <td>0</td>\n",
       "      <td>0</td>\n",
       "      <td>4</td>\n",
       "      <td>1930</td>\n",
       "      <td>0</td>\n",
       "      <td>1966</td>\n",
       "      <td>0</td>\n",
       "      <td>26206-26214 143rd Ave SE</td>\n",
       "      <td>Kent</td>\n",
       "      <td>WA 98042</td>\n",
       "      <td>USA</td>\n",
       "    </tr>\n",
       "    <tr>\n",
       "      <th>3</th>\n",
       "      <td>2014-05-02 00:00:00</td>\n",
       "      <td>4.200000e+05</td>\n",
       "      <td>3.0</td>\n",
       "      <td>2.25</td>\n",
       "      <td>2000</td>\n",
       "      <td>8030</td>\n",
       "      <td>1.0</td>\n",
       "      <td>0</td>\n",
       "      <td>0</td>\n",
       "      <td>4</td>\n",
       "      <td>1000</td>\n",
       "      <td>1000</td>\n",
       "      <td>1963</td>\n",
       "      <td>0</td>\n",
       "      <td>857 170th Pl NE</td>\n",
       "      <td>Bellevue</td>\n",
       "      <td>WA 98008</td>\n",
       "      <td>USA</td>\n",
       "    </tr>\n",
       "    <tr>\n",
       "      <th>4</th>\n",
       "      <td>2014-05-02 00:00:00</td>\n",
       "      <td>5.500000e+05</td>\n",
       "      <td>4.0</td>\n",
       "      <td>2.50</td>\n",
       "      <td>1940</td>\n",
       "      <td>10500</td>\n",
       "      <td>1.0</td>\n",
       "      <td>0</td>\n",
       "      <td>0</td>\n",
       "      <td>4</td>\n",
       "      <td>1140</td>\n",
       "      <td>800</td>\n",
       "      <td>1976</td>\n",
       "      <td>1992</td>\n",
       "      <td>9105 170th Ave NE</td>\n",
       "      <td>Redmond</td>\n",
       "      <td>WA 98052</td>\n",
       "      <td>USA</td>\n",
       "    </tr>\n",
       "    <tr>\n",
       "      <th>...</th>\n",
       "      <td>...</td>\n",
       "      <td>...</td>\n",
       "      <td>...</td>\n",
       "      <td>...</td>\n",
       "      <td>...</td>\n",
       "      <td>...</td>\n",
       "      <td>...</td>\n",
       "      <td>...</td>\n",
       "      <td>...</td>\n",
       "      <td>...</td>\n",
       "      <td>...</td>\n",
       "      <td>...</td>\n",
       "      <td>...</td>\n",
       "      <td>...</td>\n",
       "      <td>...</td>\n",
       "      <td>...</td>\n",
       "      <td>...</td>\n",
       "      <td>...</td>\n",
       "    </tr>\n",
       "    <tr>\n",
       "      <th>4595</th>\n",
       "      <td>2014-07-09 00:00:00</td>\n",
       "      <td>3.081667e+05</td>\n",
       "      <td>3.0</td>\n",
       "      <td>1.75</td>\n",
       "      <td>1510</td>\n",
       "      <td>6360</td>\n",
       "      <td>1.0</td>\n",
       "      <td>0</td>\n",
       "      <td>0</td>\n",
       "      <td>4</td>\n",
       "      <td>1510</td>\n",
       "      <td>0</td>\n",
       "      <td>1954</td>\n",
       "      <td>1979</td>\n",
       "      <td>501 N 143rd St</td>\n",
       "      <td>Seattle</td>\n",
       "      <td>WA 98133</td>\n",
       "      <td>USA</td>\n",
       "    </tr>\n",
       "    <tr>\n",
       "      <th>4596</th>\n",
       "      <td>2014-07-09 00:00:00</td>\n",
       "      <td>5.343333e+05</td>\n",
       "      <td>3.0</td>\n",
       "      <td>2.50</td>\n",
       "      <td>1460</td>\n",
       "      <td>7573</td>\n",
       "      <td>2.0</td>\n",
       "      <td>0</td>\n",
       "      <td>0</td>\n",
       "      <td>3</td>\n",
       "      <td>1460</td>\n",
       "      <td>0</td>\n",
       "      <td>1983</td>\n",
       "      <td>2009</td>\n",
       "      <td>14855 SE 10th Pl</td>\n",
       "      <td>Bellevue</td>\n",
       "      <td>WA 98007</td>\n",
       "      <td>USA</td>\n",
       "    </tr>\n",
       "    <tr>\n",
       "      <th>4597</th>\n",
       "      <td>2014-07-09 00:00:00</td>\n",
       "      <td>4.169042e+05</td>\n",
       "      <td>3.0</td>\n",
       "      <td>2.50</td>\n",
       "      <td>3010</td>\n",
       "      <td>7014</td>\n",
       "      <td>2.0</td>\n",
       "      <td>0</td>\n",
       "      <td>0</td>\n",
       "      <td>3</td>\n",
       "      <td>3010</td>\n",
       "      <td>0</td>\n",
       "      <td>2009</td>\n",
       "      <td>0</td>\n",
       "      <td>759 Ilwaco Pl NE</td>\n",
       "      <td>Renton</td>\n",
       "      <td>WA 98059</td>\n",
       "      <td>USA</td>\n",
       "    </tr>\n",
       "    <tr>\n",
       "      <th>4598</th>\n",
       "      <td>2014-07-10 00:00:00</td>\n",
       "      <td>2.034000e+05</td>\n",
       "      <td>4.0</td>\n",
       "      <td>2.00</td>\n",
       "      <td>2090</td>\n",
       "      <td>6630</td>\n",
       "      <td>1.0</td>\n",
       "      <td>0</td>\n",
       "      <td>0</td>\n",
       "      <td>3</td>\n",
       "      <td>1070</td>\n",
       "      <td>1020</td>\n",
       "      <td>1974</td>\n",
       "      <td>0</td>\n",
       "      <td>5148 S Creston St</td>\n",
       "      <td>Seattle</td>\n",
       "      <td>WA 98178</td>\n",
       "      <td>USA</td>\n",
       "    </tr>\n",
       "    <tr>\n",
       "      <th>4599</th>\n",
       "      <td>2014-07-10 00:00:00</td>\n",
       "      <td>2.206000e+05</td>\n",
       "      <td>3.0</td>\n",
       "      <td>2.50</td>\n",
       "      <td>1490</td>\n",
       "      <td>8102</td>\n",
       "      <td>2.0</td>\n",
       "      <td>0</td>\n",
       "      <td>0</td>\n",
       "      <td>4</td>\n",
       "      <td>1490</td>\n",
       "      <td>0</td>\n",
       "      <td>1990</td>\n",
       "      <td>0</td>\n",
       "      <td>18717 SE 258th St</td>\n",
       "      <td>Covington</td>\n",
       "      <td>WA 98042</td>\n",
       "      <td>USA</td>\n",
       "    </tr>\n",
       "  </tbody>\n",
       "</table>\n",
       "<p>4600 rows × 18 columns</p>\n",
       "</div>"
      ],
      "text/plain": [
       "                     date         price  bedrooms  bathrooms  sqft_living  \\\n",
       "0     2014-05-02 00:00:00  3.130000e+05       3.0       1.50         1340   \n",
       "1     2014-05-02 00:00:00  2.384000e+06       5.0       2.50         3650   \n",
       "2     2014-05-02 00:00:00  3.420000e+05       3.0       2.00         1930   \n",
       "3     2014-05-02 00:00:00  4.200000e+05       3.0       2.25         2000   \n",
       "4     2014-05-02 00:00:00  5.500000e+05       4.0       2.50         1940   \n",
       "...                   ...           ...       ...        ...          ...   \n",
       "4595  2014-07-09 00:00:00  3.081667e+05       3.0       1.75         1510   \n",
       "4596  2014-07-09 00:00:00  5.343333e+05       3.0       2.50         1460   \n",
       "4597  2014-07-09 00:00:00  4.169042e+05       3.0       2.50         3010   \n",
       "4598  2014-07-10 00:00:00  2.034000e+05       4.0       2.00         2090   \n",
       "4599  2014-07-10 00:00:00  2.206000e+05       3.0       2.50         1490   \n",
       "\n",
       "      sqft_lot  floors  waterfront  view  condition  sqft_above  \\\n",
       "0         7912     1.5           0     0          3        1340   \n",
       "1         9050     2.0           0     4          5        3370   \n",
       "2        11947     1.0           0     0          4        1930   \n",
       "3         8030     1.0           0     0          4        1000   \n",
       "4        10500     1.0           0     0          4        1140   \n",
       "...        ...     ...         ...   ...        ...         ...   \n",
       "4595      6360     1.0           0     0          4        1510   \n",
       "4596      7573     2.0           0     0          3        1460   \n",
       "4597      7014     2.0           0     0          3        3010   \n",
       "4598      6630     1.0           0     0          3        1070   \n",
       "4599      8102     2.0           0     0          4        1490   \n",
       "\n",
       "      sqft_basement  yr_built  yr_renovated                    street  \\\n",
       "0                 0      1955          2005      18810 Densmore Ave N   \n",
       "1               280      1921             0           709 W Blaine St   \n",
       "2                 0      1966             0  26206-26214 143rd Ave SE   \n",
       "3              1000      1963             0           857 170th Pl NE   \n",
       "4               800      1976          1992         9105 170th Ave NE   \n",
       "...             ...       ...           ...                       ...   \n",
       "4595              0      1954          1979            501 N 143rd St   \n",
       "4596              0      1983          2009          14855 SE 10th Pl   \n",
       "4597              0      2009             0          759 Ilwaco Pl NE   \n",
       "4598           1020      1974             0         5148 S Creston St   \n",
       "4599              0      1990             0         18717 SE 258th St   \n",
       "\n",
       "           city  statezip country  \n",
       "0     Shoreline  WA 98133     USA  \n",
       "1       Seattle  WA 98119     USA  \n",
       "2          Kent  WA 98042     USA  \n",
       "3      Bellevue  WA 98008     USA  \n",
       "4       Redmond  WA 98052     USA  \n",
       "...         ...       ...     ...  \n",
       "4595    Seattle  WA 98133     USA  \n",
       "4596   Bellevue  WA 98007     USA  \n",
       "4597     Renton  WA 98059     USA  \n",
       "4598    Seattle  WA 98178     USA  \n",
       "4599  Covington  WA 98042     USA  \n",
       "\n",
       "[4600 rows x 18 columns]"
      ]
     },
     "execution_count": 135,
     "metadata": {},
     "output_type": "execute_result"
    }
   ],
   "source": [
    "house"
   ]
  },
  {
   "cell_type": "code",
   "execution_count": 136,
   "id": "54a21f0c-78f7-4167-a3b6-d4fd6bd73ae4",
   "metadata": {},
   "outputs": [],
   "source": [
    "data = {'Column_name': [5, 15, 8],\n",
    "        'Column1': [10, 20, 30],\n",
    "        'Column2': [100, 200, 300],\n",
    "        'Another_column': [25, 35, 45]}\n",
    "df =  pd.DataFrame(data)"
   ]
  },
  {
   "cell_type": "code",
   "execution_count": 137,
   "id": "3e30d347-af11-4b36-bccc-a3487e724175",
   "metadata": {},
   "outputs": [
    {
     "data": {
      "text/html": [
       "<div>\n",
       "<style scoped>\n",
       "    .dataframe tbody tr th:only-of-type {\n",
       "        vertical-align: middle;\n",
       "    }\n",
       "\n",
       "    .dataframe tbody tr th {\n",
       "        vertical-align: top;\n",
       "    }\n",
       "\n",
       "    .dataframe thead th {\n",
       "        text-align: right;\n",
       "    }\n",
       "</style>\n",
       "<table border=\"1\" class=\"dataframe\">\n",
       "  <thead>\n",
       "    <tr style=\"text-align: right;\">\n",
       "      <th></th>\n",
       "      <th>Column_name</th>\n",
       "      <th>Column1</th>\n",
       "      <th>Column2</th>\n",
       "      <th>Another_column</th>\n",
       "    </tr>\n",
       "  </thead>\n",
       "  <tbody>\n",
       "    <tr>\n",
       "      <th>0</th>\n",
       "      <td>5</td>\n",
       "      <td>10</td>\n",
       "      <td>100</td>\n",
       "      <td>25</td>\n",
       "    </tr>\n",
       "    <tr>\n",
       "      <th>1</th>\n",
       "      <td>15</td>\n",
       "      <td>20</td>\n",
       "      <td>200</td>\n",
       "      <td>35</td>\n",
       "    </tr>\n",
       "    <tr>\n",
       "      <th>2</th>\n",
       "      <td>8</td>\n",
       "      <td>30</td>\n",
       "      <td>300</td>\n",
       "      <td>45</td>\n",
       "    </tr>\n",
       "  </tbody>\n",
       "</table>\n",
       "</div>"
      ],
      "text/plain": [
       "   Column_name  Column1  Column2  Another_column\n",
       "0            5       10      100              25\n",
       "1           15       20      200              35\n",
       "2            8       30      300              45"
      ]
     },
     "execution_count": 137,
     "metadata": {},
     "output_type": "execute_result"
    }
   ],
   "source": [
    "df"
   ]
  },
  {
   "cell_type": "code",
   "execution_count": 140,
   "id": "08012ae2-c032-487b-9867-bb7cc7152c18",
   "metadata": {},
   "outputs": [
    {
     "data": {
      "text/plain": [
       "0    25\n",
       "1    35\n",
       "2    45\n",
       "Name: Another_column, dtype: int64"
      ]
     },
     "execution_count": 140,
     "metadata": {},
     "output_type": "execute_result"
    }
   ],
   "source": [
    "# Accessing a single Column\n",
    "df['Column_name']"
   ]
  },
  {
   "cell_type": "code",
   "execution_count": 142,
   "id": "08864129-1c17-4ec4-87a9-a32ab3be13e1",
   "metadata": {},
   "outputs": [
    {
     "data": {
      "text/html": [
       "<div>\n",
       "<style scoped>\n",
       "    .dataframe tbody tr th:only-of-type {\n",
       "        vertical-align: middle;\n",
       "    }\n",
       "\n",
       "    .dataframe tbody tr th {\n",
       "        vertical-align: top;\n",
       "    }\n",
       "\n",
       "    .dataframe thead th {\n",
       "        text-align: right;\n",
       "    }\n",
       "</style>\n",
       "<table border=\"1\" class=\"dataframe\">\n",
       "  <thead>\n",
       "    <tr style=\"text-align: right;\">\n",
       "      <th></th>\n",
       "      <th>Column1</th>\n",
       "      <th>Column2</th>\n",
       "    </tr>\n",
       "  </thead>\n",
       "  <tbody>\n",
       "    <tr>\n",
       "      <th>0</th>\n",
       "      <td>10</td>\n",
       "      <td>100</td>\n",
       "    </tr>\n",
       "    <tr>\n",
       "      <th>1</th>\n",
       "      <td>20</td>\n",
       "      <td>200</td>\n",
       "    </tr>\n",
       "    <tr>\n",
       "      <th>2</th>\n",
       "      <td>30</td>\n",
       "      <td>300</td>\n",
       "    </tr>\n",
       "  </tbody>\n",
       "</table>\n",
       "</div>"
      ],
      "text/plain": [
       "   Column1  Column2\n",
       "0       10      100\n",
       "1       20      200\n",
       "2       30      300"
      ]
     },
     "execution_count": 142,
     "metadata": {},
     "output_type": "execute_result"
    }
   ],
   "source": [
    "# Accessing a multiple Columns\n",
    "df[['Column1', 'Column2']]"
   ]
  },
  {
   "cell_type": "code",
   "execution_count": 143,
   "id": "fbf62261-b5ee-4b6a-9d5b-b8867f3509d3",
   "metadata": {},
   "outputs": [
    {
     "data": {
      "text/plain": [
       "Column_name         5\n",
       "Column1            10\n",
       "Column2           100\n",
       "Another_column     25\n",
       "Name: 0, dtype: int64"
      ]
     },
     "execution_count": 143,
     "metadata": {},
     "output_type": "execute_result"
    }
   ],
   "source": [
    "#Accesing row by index\n",
    "df.iloc[0]"
   ]
  },
  {
   "cell_type": "code",
   "execution_count": 145,
   "id": "a65c6d8c-17c0-4bf0-8cbb-4832b3e53de6",
   "metadata": {},
   "outputs": [
    {
     "data": {
      "text/html": [
       "<div>\n",
       "<style scoped>\n",
       "    .dataframe tbody tr th:only-of-type {\n",
       "        vertical-align: middle;\n",
       "    }\n",
       "\n",
       "    .dataframe tbody tr th {\n",
       "        vertical-align: top;\n",
       "    }\n",
       "\n",
       "    .dataframe thead th {\n",
       "        text-align: right;\n",
       "    }\n",
       "</style>\n",
       "<table border=\"1\" class=\"dataframe\">\n",
       "  <thead>\n",
       "    <tr style=\"text-align: right;\">\n",
       "      <th></th>\n",
       "      <th>Column_name</th>\n",
       "      <th>Column1</th>\n",
       "      <th>Column2</th>\n",
       "      <th>Another_column</th>\n",
       "    </tr>\n",
       "  </thead>\n",
       "  <tbody>\n",
       "    <tr>\n",
       "      <th>1</th>\n",
       "      <td>15</td>\n",
       "      <td>20</td>\n",
       "      <td>200</td>\n",
       "      <td>35</td>\n",
       "    </tr>\n",
       "  </tbody>\n",
       "</table>\n",
       "</div>"
      ],
      "text/plain": [
       "   Column_name  Column1  Column2  Another_column\n",
       "1           15       20      200              35"
      ]
     },
     "execution_count": 145,
     "metadata": {},
     "output_type": "execute_result"
    }
   ],
   "source": [
    "#Accesing row based on a condition\n",
    "\n",
    "df[df['Column_name']>10]"
   ]
  },
  {
   "cell_type": "code",
   "execution_count": 147,
   "id": "e881f3c1-c9b8-4589-aed0-f9c25cfeadf3",
   "metadata": {},
   "outputs": [
    {
     "data": {
      "text/plain": [
       "300"
      ]
     },
     "execution_count": 147,
     "metadata": {},
     "output_type": "execute_result"
    }
   ],
   "source": [
    "# Accessing single Data\n",
    "\n",
    "df.loc[2, 'Column2']"
   ]
  },
  {
   "cell_type": "code",
   "execution_count": 148,
   "id": "120c63af-29f7-430e-86b0-73bdf21f17b1",
   "metadata": {},
   "outputs": [
    {
     "data": {
      "text/plain": [
       "300"
      ]
     },
     "execution_count": 148,
     "metadata": {},
     "output_type": "execute_result"
    }
   ],
   "source": [
    "df.iloc[2, 2]"
   ]
  },
  {
   "cell_type": "code",
   "execution_count": 152,
   "id": "7193e9e6-b3ec-454b-a39e-7c4f4ba1f2a9",
   "metadata": {},
   "outputs": [
    {
     "data": {
      "text/html": [
       "<div>\n",
       "<style scoped>\n",
       "    .dataframe tbody tr th:only-of-type {\n",
       "        vertical-align: middle;\n",
       "    }\n",
       "\n",
       "    .dataframe tbody tr th {\n",
       "        vertical-align: top;\n",
       "    }\n",
       "\n",
       "    .dataframe thead th {\n",
       "        text-align: right;\n",
       "    }\n",
       "</style>\n",
       "<table border=\"1\" class=\"dataframe\">\n",
       "  <thead>\n",
       "    <tr style=\"text-align: right;\">\n",
       "      <th></th>\n",
       "      <th>Column1</th>\n",
       "      <th>Column2</th>\n",
       "    </tr>\n",
       "  </thead>\n",
       "  <tbody>\n",
       "    <tr>\n",
       "      <th>0</th>\n",
       "      <td>10</td>\n",
       "      <td>100</td>\n",
       "    </tr>\n",
       "    <tr>\n",
       "      <th>1</th>\n",
       "      <td>20</td>\n",
       "      <td>200</td>\n",
       "    </tr>\n",
       "  </tbody>\n",
       "</table>\n",
       "</div>"
      ],
      "text/plain": [
       "   Column1  Column2\n",
       "0       10      100\n",
       "1       20      200"
      ]
     },
     "execution_count": 152,
     "metadata": {},
     "output_type": "execute_result"
    }
   ],
   "source": [
    "df.loc[0:1:1, ['Column1', 'Column2']]"
   ]
  },
  {
   "cell_type": "code",
   "execution_count": 153,
   "id": "a35691aa-6229-4d42-acb3-a338555320c0",
   "metadata": {},
   "outputs": [
    {
     "data": {
      "text/html": [
       "<div>\n",
       "<style scoped>\n",
       "    .dataframe tbody tr th:only-of-type {\n",
       "        vertical-align: middle;\n",
       "    }\n",
       "\n",
       "    .dataframe tbody tr th {\n",
       "        vertical-align: top;\n",
       "    }\n",
       "\n",
       "    .dataframe thead th {\n",
       "        text-align: right;\n",
       "    }\n",
       "</style>\n",
       "<table border=\"1\" class=\"dataframe\">\n",
       "  <thead>\n",
       "    <tr style=\"text-align: right;\">\n",
       "      <th></th>\n",
       "      <th>Column1</th>\n",
       "      <th>Column2</th>\n",
       "    </tr>\n",
       "  </thead>\n",
       "  <tbody>\n",
       "    <tr>\n",
       "      <th>0</th>\n",
       "      <td>10</td>\n",
       "      <td>100</td>\n",
       "    </tr>\n",
       "    <tr>\n",
       "      <th>1</th>\n",
       "      <td>20</td>\n",
       "      <td>200</td>\n",
       "    </tr>\n",
       "  </tbody>\n",
       "</table>\n",
       "</div>"
      ],
      "text/plain": [
       "   Column1  Column2\n",
       "0       10      100\n",
       "1       20      200"
      ]
     },
     "execution_count": 153,
     "metadata": {},
     "output_type": "execute_result"
    }
   ],
   "source": [
    "df.iloc[0:2:1,1:3:1]"
   ]
  },
  {
   "cell_type": "code",
   "execution_count": null,
   "id": "1fc9ce0d-e9c4-41df-9e0e-c1b491d6cf5d",
   "metadata": {},
   "outputs": [],
   "source": []
  }
 ],
 "metadata": {
  "kernelspec": {
   "display_name": "Python 3 (ipykernel)",
   "language": "python",
   "name": "python3"
  },
  "language_info": {
   "codemirror_mode": {
    "name": "ipython",
    "version": 3
   },
   "file_extension": ".py",
   "mimetype": "text/x-python",
   "name": "python",
   "nbconvert_exporter": "python",
   "pygments_lexer": "ipython3",
   "version": "3.12.4"
  }
 },
 "nbformat": 4,
 "nbformat_minor": 5
}
