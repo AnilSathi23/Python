{
 "cells": [
  {
   "cell_type": "markdown",
   "id": "16e71b46-5fb4-48f7-b1cf-977132bce5f2",
   "metadata": {},
   "source": [
    "# Agenda\n",
    "- Fundamentals of Pandas\n",
    "  - Purpose\n",
    "  - Features\n",
    "- Data Strutures\n",
    "- Introduction to Series\n",
    "  - Creating and Accessing Pandas Series using different methods\n",
    "  - Basic Information on Pandas Series\n",
    "  - Operations and Transformations\n",
    "  - Querying in Series\n",
    "- Introduction to DataFrame\n",
    "  - Creating a DataFrame using different methods\n",
    "  - Accessing DataFrame\n",
    "  - Understanding DataFrame Basics\n",
    "- Introduction to Statistical Operations in Pandas\n",
    "  - Descriptive Statistics\n",
    "  - Mean, Median and Standard Deviation\n",
    "  - Correlation Analysis\n",
    "- Date and TimeDelta in Pandas\n",
    "  - Date Handling\n",
    "  - Time Delta\n",
    "    - Creating TimeDelta\n",
    "    - Performing Arithmetic Ops on Date and Time using TimeDelta\n",
    "    - Resampling Time Series\n",
    "- Categorical Data Handling\n",
    "  - Creating a Categorical Variable\n",
    "  - Counting Occurences\n",
    "  - Creating Dummy Variables\n",
    "  - Label Encoding\n",
    "- Handling Text Data\n",
    "- Iteration\n",
    "  - Iterating Over Rows\n",
    "  - Apply function\n",
    "  - Vectorized Operations\n",
    "  - Iterating over a Series\n",
    "- Sorting\n",
    "  - Sorting DataFrame by Column\n",
    "  - Sorting DataFrame by Multiple Column\n",
    "  - Sorting DataFrame by index\n",
    "  - Sorting Series\n",
    "- Plotting with Pandas"
   ]
  },
  {
   "cell_type": "markdown",
   "id": "a02c52f7-7cf8-46a2-94a7-25df98eb57e1",
   "metadata": {},
   "source": [
    "## Fundamentals \n",
    "Pandas is an open source library built on top of numpy and is used for data manipulation, data analysis, Data Cleaning, data visualization. The name `pandas` is coming the words Panel Data. The pandas library introduces few Data Structure like Series, DataFrame which makes working with structured data more efficient.\n",
    "### __Purpose of Pandas__\n",
    "![link text](https://labcontent.simplicdn.net/data-content/content-assets/Data_and_AI/ADSP_Images/Lesson_04_Working_with_Pandas/1_Introduction_to_Pandas/Purpose_of_Pandas.png)\n",
    "\n",
    "### __Features of Pandas__\n",
    "![link text](https://labcontent.simplicdn.net/data-content/content-assets/Data_and_AI/ADSP_Images/Updated_Images/Lesson_4/4_01/Features_of_Pandas.png)\n",
    "\n",
    "\n",
    "## Data Structures\n",
    "The are Two main Data Structure is pandas \n",
    "\n",
    "![link text](https://labcontent.simplicdn.net/data-content/content-assets/Data_and_AI/ADSP_Images/Lesson_04_Working_with_Pandas/1_Introduction_to_Pandas/Data_Structures.png)\n"
   ]
  },
  {
   "cell_type": "markdown",
   "id": "930278a4-9d0c-4a6d-afa3-b8618cb24b10",
   "metadata": {},
   "source": [
    "## Introduction to Series\n",
    "\n",
    "A pandas Series is one dimensional array like structure containing and respective label/index\n",
    "\n",
    "\n",
    "It can be created with different data inputs:\n",
    "![link text](https://labcontent.simplicdn.net/data-content/content-assets/Data_and_AI/ADSP_Images/Updated_Images/Lesson_4/4_01/Introduction_to_Series.png)"
   ]
  },
  {
   "cell_type": "markdown",
   "id": "59ff3092-b397-483e-b305-cec50bdb2cd5",
   "metadata": {},
   "source": [
    "## Create and Access Series using different methods\n",
    "\n",
    "to create Series, pandas has class called as Series with initialization for labels. systactically<br>\n",
    "$$ seriesname =  pandas.Series(sequence, index = list of indices) $$"
   ]
  },
  {
   "cell_type": "code",
   "execution_count": 1,
   "id": "393718de-0ec0-495b-9606-cac7f349bdf3",
   "metadata": {
    "collapsed": true,
    "jupyter": {
     "outputs_hidden": true
    }
   },
   "outputs": [
    {
     "name": "stdout",
     "output_type": "stream",
     "text": [
      "Requirement already satisfied: pandas in c:\\users\\slp12264\\appdata\\local\\anaconda3\\lib\\site-packages (2.2.3)\n",
      "Requirement already satisfied: numpy>=1.26.0 in c:\\users\\slp12264\\appdata\\local\\anaconda3\\lib\\site-packages (from pandas) (1.26.4)\n",
      "Requirement already satisfied: python-dateutil>=2.8.2 in c:\\users\\slp12264\\appdata\\local\\anaconda3\\lib\\site-packages (from pandas) (2.9.0.post0)\n",
      "Requirement already satisfied: pytz>=2020.1 in c:\\users\\slp12264\\appdata\\local\\anaconda3\\lib\\site-packages (from pandas) (2024.1)\n",
      "Requirement already satisfied: tzdata>=2022.7 in c:\\users\\slp12264\\appdata\\local\\anaconda3\\lib\\site-packages (from pandas) (2023.3)\n",
      "Requirement already satisfied: six>=1.5 in c:\\users\\slp12264\\appdata\\local\\anaconda3\\lib\\site-packages (from python-dateutil>=2.8.2->pandas) (1.16.0)\n"
     ]
    }
   ],
   "source": [
    "# Install Pandas \n",
    "!pip install pandas"
   ]
  },
  {
   "cell_type": "code",
   "execution_count": 2,
   "id": "30adec66-11c0-4341-a12e-517b4514a018",
   "metadata": {},
   "outputs": [],
   "source": [
    "# Import pandas and numpy\n",
    "import numpy as np\n",
    "import pandas as pd\n"
   ]
  },
  {
   "cell_type": "code",
   "execution_count": 3,
   "id": "052ee6a4-7e7a-47df-b794-473b4a8cebd3",
   "metadata": {},
   "outputs": [],
   "source": [
    "# Creating Pandas Series using List\n",
    "data =  [1,2,3,4,5]\n",
    "sr = pd.Series(data)\n",
    "\n",
    "# Create a series with user defined index using list\n",
    "idx = ['a', 'b', 'c', 'd', 'e']\n",
    "sr_with_index = pd.Series(data, index =  idx)\n"
   ]
  },
  {
   "cell_type": "code",
   "execution_count": 4,
   "id": "c1dd100c-1675-4ffe-869e-dfad8b7445b4",
   "metadata": {},
   "outputs": [
    {
     "name": "stdout",
     "output_type": "stream",
     "text": [
      "0    1\n",
      "1    2\n",
      "2    3\n",
      "3    4\n",
      "4    5\n",
      "dtype: int64\n"
     ]
    }
   ],
   "source": [
    "print(sr)"
   ]
  },
  {
   "cell_type": "code",
   "execution_count": 5,
   "id": "cea3ae56-f916-413f-a718-eb135b3a2563",
   "metadata": {},
   "outputs": [
    {
     "name": "stdout",
     "output_type": "stream",
     "text": [
      "a    1\n",
      "b    2\n",
      "c    3\n",
      "d    4\n",
      "e    5\n",
      "dtype: int64\n"
     ]
    }
   ],
   "source": [
    "print(sr_with_index)"
   ]
  },
  {
   "cell_type": "code",
   "execution_count": 7,
   "id": "8892bc60-7795-440b-88d9-cb6b225b0636",
   "metadata": {},
   "outputs": [
    {
     "name": "stdout",
     "output_type": "stream",
     "text": [
      "[1 2 3 4 5]\n"
     ]
    }
   ],
   "source": [
    "arr =  np.array(data)\n",
    "print(arr)"
   ]
  },
  {
   "cell_type": "code",
   "execution_count": 9,
   "id": "ac28e085-a415-4d2b-aa4d-1b4fc4bc6e65",
   "metadata": {},
   "outputs": [
    {
     "name": "stdout",
     "output_type": "stream",
     "text": [
      "5\n",
      "5\n"
     ]
    }
   ],
   "source": [
    "print(sr[4])\n",
    "print(sr_with_index['e'])"
   ]
  },
  {
   "cell_type": "code",
   "execution_count": 11,
   "id": "a25626a5-d609-47f3-bcc7-a57b27db2771",
   "metadata": {},
   "outputs": [],
   "source": [
    "# Create a Series using Dictionary\n",
    "sr_with_dict = pd.Series({'Shirts':2, 'Trousers':1, 'Shoes':1, 'Watches':2, 'Wallets':3, 'TShirt': 3, \n",
    "                          'Belts':2, 'Socks':2})"
   ]
  },
  {
   "cell_type": "code",
   "execution_count": 12,
   "id": "06d04896-0f89-405f-848a-e4f5db62a911",
   "metadata": {},
   "outputs": [
    {
     "name": "stdout",
     "output_type": "stream",
     "text": [
      "Shirts      2\n",
      "Trousers    1\n",
      "Shoes       1\n",
      "Watches     2\n",
      "Wallets     3\n",
      "TShirt      3\n",
      "Belts       2\n",
      "Socks       2\n",
      "dtype: int64\n"
     ]
    }
   ],
   "source": [
    "print(sr_with_dict)"
   ]
  },
  {
   "cell_type": "code",
   "execution_count": 14,
   "id": "5408cd3f-9057-4c76-b95f-aa3bd7aa60a9",
   "metadata": {},
   "outputs": [
    {
     "data": {
      "text/plain": [
       "2"
      ]
     },
     "execution_count": 14,
     "metadata": {},
     "output_type": "execute_result"
    }
   ],
   "source": [
    "sr_with_dict['Shirts']"
   ]
  },
  {
   "cell_type": "code",
   "execution_count": 16,
   "id": "e20914ff-1ac3-4703-a0f7-8b0fea089308",
   "metadata": {},
   "outputs": [],
   "source": [
    "# Create a Series using Dictionary with user defined index\n",
    "dict1 = {'Shirts':2, 'Trousers':1, 'Shoes':1, 'Watches':2, 'Wallets':3, 'TShirt': 3, 'Belts':2, 'Socks':2}\n",
    "sr_with_dict_idx = pd.Series(dict1, index = ['Shirts', 'Trousers', 'Shoes', 'Watches', \n",
    "                                                           'Wallets', 'TShirt', 'Socks', 'Perfume'])"
   ]
  },
  {
   "cell_type": "code",
   "execution_count": 17,
   "id": "941cdeaf-6a93-4498-94b5-75a109220fc8",
   "metadata": {},
   "outputs": [
    {
     "data": {
      "text/plain": [
       "Shirts      2.0\n",
       "Trousers    1.0\n",
       "Shoes       1.0\n",
       "Watches     2.0\n",
       "Wallets     3.0\n",
       "TShirt      3.0\n",
       "Socks       2.0\n",
       "Perfume     NaN\n",
       "dtype: float64"
      ]
     },
     "execution_count": 17,
     "metadata": {},
     "output_type": "execute_result"
    }
   ],
   "source": [
    "sr_with_dict_idx"
   ]
  },
  {
   "cell_type": "markdown",
   "id": "8306daab-77c3-4f9e-adba-f62f1b4fb8c1",
   "metadata": {},
   "source": [
    "## Basic Information in pandas Series\n",
    "These functions collectively helps in summarizing and understanding the characterstics of Data, facilitating effective data exploration and analysis."
   ]
  },
  {
   "cell_type": "code",
   "execution_count": 19,
   "id": "2f42fd63-c178-43ae-8fb8-2cfb6126c7eb",
   "metadata": {},
   "outputs": [
    {
     "data": {
      "text/plain": [
       "Shirts      2.0\n",
       "Trousers    1.0\n",
       "Shoes       1.0\n",
       "dtype: float64"
      ]
     },
     "execution_count": 19,
     "metadata": {},
     "output_type": "execute_result"
    }
   ],
   "source": [
    "# display the first n rows -  head()\n",
    "first_n_rows =  sr_with_dict_idx.head(3) # default count is 5s\n",
    "first_n_rows"
   ]
  },
  {
   "cell_type": "code",
   "execution_count": 20,
   "id": "b5e27a84-6e2b-4dfc-9469-0712485283e9",
   "metadata": {},
   "outputs": [
    {
     "data": {
      "text/plain": [
       "TShirt     3.0\n",
       "Socks      2.0\n",
       "Perfume    NaN\n",
       "dtype: float64"
      ]
     },
     "execution_count": 20,
     "metadata": {},
     "output_type": "execute_result"
    }
   ],
   "source": [
    "# display the last n rows -  tail()\n",
    "last_n_rows =  sr_with_dict_idx.tail(3) # default count is 5s\n",
    "last_n_rows"
   ]
  },
  {
   "cell_type": "code",
   "execution_count": 22,
   "id": "6039ba08-66c5-4427-bb23-9f20ad19a388",
   "metadata": {},
   "outputs": [
    {
     "name": "stdout",
     "output_type": "stream",
     "text": [
      "<class 'pandas.core.series.Series'>\n",
      "Index: 8 entries, Shirts to Perfume\n",
      "Series name: None\n",
      "Non-Null Count  Dtype  \n",
      "--------------  -----  \n",
      "7 non-null      float64\n",
      "dtypes: float64(1)\n",
      "memory usage: 428.0+ bytes\n"
     ]
    }
   ],
   "source": [
    "# general summary - info()\n",
    "sr_with_dict_idx.info()"
   ]
  },
  {
   "cell_type": "code",
   "execution_count": 30,
   "id": "67ac5b68-d315-4ac1-8cf5-1c8021a8a380",
   "metadata": {},
   "outputs": [
    {
     "name": "stdout",
     "output_type": "stream",
     "text": [
      "<class 'pandas.core.series.Series'>\n",
      "Index(['Shirts', 'Trousers', 'Shoes', 'Watches', 'Wallets', 'TShirt', 'Socks',\n",
      "       'Perfume'],\n",
      "      dtype='object')\n",
      "8\n",
      "None\n",
      "7\n",
      "float64\n",
      "428\n"
     ]
    }
   ],
   "source": [
    "print(type(sr_with_dict_idx))\n",
    "print(sr_with_dict_idx.index)\n",
    "print(len(sr_with_dict_idx.index))\n",
    "print(sr_with_dict_idx.name)\n",
    "print(sr_with_dict_idx.count())\n",
    "print(sr_with_dict_idx.dtype)\n",
    "print(sr_with_dict_idx.memory_usage())"
   ]
  },
  {
   "cell_type": "code",
   "execution_count": 31,
   "id": "39fc2e8f-87d5-4554-955d-f0c36cd36512",
   "metadata": {},
   "outputs": [
    {
     "name": "stdout",
     "output_type": "stream",
     "text": [
      "Index(['Shirts', 'Trousers', 'Shoes', 'Watches', 'Wallets', 'TShirt', 'Socks',\n",
      "       'Perfume'],\n",
      "      dtype='object')\n"
     ]
    }
   ],
   "source": [
    "# extract index\n",
    "print(sr_with_dict_idx.index)"
   ]
  },
  {
   "cell_type": "code",
   "execution_count": 32,
   "id": "1fac76a5-21ec-400d-b46a-529f063a6c38",
   "metadata": {},
   "outputs": [
    {
     "name": "stdout",
     "output_type": "stream",
     "text": [
      "[ 2.  1.  1.  2.  3.  3.  2. nan]\n"
     ]
    }
   ],
   "source": [
    "# extract values\n",
    "print(sr_with_dict_idx.values)  ***"
   ]
  },
  {
   "cell_type": "code",
   "execution_count": 33,
   "id": "ab3cfeab-1f21-42b6-b128-5935cbb528e0",
   "metadata": {},
   "outputs": [
    {
     "name": "stdout",
     "output_type": "stream",
     "text": [
      "1\n"
     ]
    }
   ],
   "source": [
    "# num of dimensions\n",
    "print(sr_with_dict_idx.ndim)"
   ]
  },
  {
   "cell_type": "code",
   "execution_count": 34,
   "id": "55181302-66f7-429f-b674-1d4bdd3e7acc",
   "metadata": {},
   "outputs": [
    {
     "name": "stdout",
     "output_type": "stream",
     "text": [
      "(8,)\n"
     ]
    }
   ],
   "source": [
    "# shape\n",
    "print(sr_with_dict_idx.shape)"
   ]
  },
  {
   "cell_type": "code",
   "execution_count": 35,
   "id": "253f46fc-e745-4e2e-8f9e-53165f8523d8",
   "metadata": {},
   "outputs": [
    {
     "name": "stdout",
     "output_type": "stream",
     "text": [
      "8\n"
     ]
    }
   ],
   "source": [
    "# size\n",
    "print(sr_with_dict_idx.size)"
   ]
  },
  {
   "cell_type": "code",
   "execution_count": null,
   "id": "dc4cc0fe-ee02-4db1-9f2b-12eb9c414cdb",
   "metadata": {},
   "outputs": [],
   "source": []
  }
 ],
 "metadata": {
  "kernelspec": {
   "display_name": "Python 3 (ipykernel)",
   "language": "python",
   "name": "python3"
  },
  "language_info": {
   "codemirror_mode": {
    "name": "ipython",
    "version": 3
   },
   "file_extension": ".py",
   "mimetype": "text/x-python",
   "name": "python",
   "nbconvert_exporter": "python",
   "pygments_lexer": "ipython3",
   "version": "3.12.4"
  }
 },
 "nbformat": 4,
 "nbformat_minor": 5
}
