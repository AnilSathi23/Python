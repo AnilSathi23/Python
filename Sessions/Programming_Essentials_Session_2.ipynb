{
  "nbformat": 4,
  "nbformat_minor": 0,
  "metadata": {
    "colab": {
      "provenance": []
    },
    "kernelspec": {
      "name": "python3",
      "display_name": "Python 3"
    },
    "language_info": {
      "name": "python"
    }
  },
  "cells": [
    {
      "cell_type": "markdown",
      "source": [
        "Practice question : While purchasing a pen, discount of 10% is given if the quantity purchased is greater than or equal to 1000. Take quantity and price as user input"
      ],
      "metadata": {
        "id": "7fx5OFJ5jvz6"
      }
    },
    {
      "cell_type": "code",
      "source": [
        "quantity = int(input(\"Enter the quantity:\"))\n",
        "price = float(input(\"Enter the price:\"))\n",
        "total_price = quantity * price\n",
        "if quantity>=1000:\n",
        "  discount = total_price * 0.1\n",
        "  total_price = total_price - discount\n",
        "  print('Amount after discount',total_price)\n",
        "else:\n",
        "  print(total_price)\n",
        "  print('No Discount')\n"
      ],
      "metadata": {
        "colab": {
          "base_uri": "https://localhost:8080/"
        },
        "id": "u1w6FhGVjva8",
        "outputId": "35597737-9880-4663-bf35-7d68929cdb93"
      },
      "execution_count": 2,
      "outputs": [
        {
          "output_type": "stream",
          "name": "stdout",
          "text": [
            "Enter the quantity:100\n",
            "Enter the price:10\n",
            "1000.0\n",
            "No Discount\n"
          ]
        }
      ]
    },
    {
      "cell_type": "markdown",
      "source": [],
      "metadata": {
        "id": "sGBSedBn3g6_"
      }
    },
    {
      "cell_type": "code",
      "source": [
        "x = 5\n",
        "if x>0:\n",
        "  if x<10:\n",
        "    print(\"x is a single digit positive  number\")\n",
        ""
      ],
      "metadata": {
        "colab": {
          "base_uri": "https://localhost:8080/"
        },
        "id": "3T-fpsDB3h0i",
        "outputId": "9906b16c-c7bd-4375-822a-d38afbf49a5c"
      },
      "execution_count": 8,
      "outputs": [
        {
          "output_type": "stream",
          "name": "stdout",
          "text": [
            "x is a single digit positive  number\n"
          ]
        }
      ]
    },
    {
      "cell_type": "code",
      "execution_count": 9,
      "metadata": {
        "colab": {
          "base_uri": "https://localhost:8080/"
        },
        "id": "MToR2dqSjoc-",
        "outputId": "27622515-8da9-4e62-bd45-2cc012617d70"
      },
      "outputs": [
        {
          "output_type": "stream",
          "name": "stdout",
          "text": [
            "x is negative number\n"
          ]
        }
      ],
      "source": [
        "### Nested if\n",
        "x = 0\n",
        "if x>0:\n",
        "  if x<10:\n",
        "    print(\"x is a single digit positive  number\")\n",
        "  else:\n",
        "    print(\"x is not a single digit positive number\")\n",
        "else:\n",
        "  print(\"x is negative number\")"
      ]
    },
    {
      "cell_type": "code",
      "source": [
        "##Chained if & nested if\n",
        "x = -5\n",
        "if x>0:\n",
        "  if x<10:\n",
        "    print(\"x is a single digit positive  number\")\n",
        "  else:\n",
        "    print(\"x is not a single digit positive number\")\n",
        "elif x==0:\n",
        "  print('x is equal to 0')\n",
        "else:\n",
        "  print(\"x is negative number\")"
      ],
      "metadata": {
        "id": "j3RPYgWtzZqx"
      },
      "execution_count": null,
      "outputs": []
    },
    {
      "cell_type": "markdown",
      "source": [
        "Logical operators\n",
        "- AND (&&)\n",
        "- OR (||)\n",
        "- NOT (!)"
      ],
      "metadata": {
        "id": "ukFM4oNl4oH4"
      }
    },
    {
      "cell_type": "code",
      "source": [
        "x = 5\n",
        "if x>0 and x<10:\n",
        "  print(\"x is a single digit positive number\")\n",
        "else:\n",
        "  print(\"x is not a single digit positive number\")"
      ],
      "metadata": {
        "colab": {
          "base_uri": "https://localhost:8080/"
        },
        "id": "wLcOO9xi4miw",
        "outputId": "a13f855e-ca2f-44e5-8230-599bb77084aa"
      },
      "execution_count": 10,
      "outputs": [
        {
          "output_type": "stream",
          "name": "stdout",
          "text": [
            "x is a single digit positive number\n"
          ]
        }
      ]
    },
    {
      "cell_type": "code",
      "source": [
        "x = 10; y = 5;\n",
        "if x%2==0 or y%2==0:\n",
        "  print('Either x or y is an even number')"
      ],
      "metadata": {
        "colab": {
          "base_uri": "https://localhost:8080/"
        },
        "id": "CcSjX-tg5q5s",
        "outputId": "7a15fb94-ee0e-4ed7-b3d0-c4d505c476dc"
      },
      "execution_count": 13,
      "outputs": [
        {
          "output_type": "stream",
          "name": "stdout",
          "text": [
            "Either x or y is an even number\n"
          ]
        }
      ]
    },
    {
      "cell_type": "markdown",
      "source": [
        "if the age lies between 18 and 60 yrs, print the message \"Adult\", if age is above 60yrs, \"Senior Citizen\", else print \"Minor\". Take age as user input"
      ],
      "metadata": {
        "id": "Lt4HDmhn6al2"
      }
    },
    {
      "cell_type": "code",
      "source": [
        "age = int(input('Enter your age:'))\n",
        "if age>=18 and age<60:\n",
        "  print(\"Adult\")\n",
        "elif age>=60:\n",
        "  print(\"Senior Citizen\")\n",
        "else:\n",
        "  print(\"Minor\")"
      ],
      "metadata": {
        "colab": {
          "base_uri": "https://localhost:8080/"
        },
        "id": "uu0dOzB26Zhc",
        "outputId": "984d693e-13a4-49ff-cc3c-71260e6bebfa"
      },
      "execution_count": 16,
      "outputs": [
        {
          "output_type": "stream",
          "name": "stdout",
          "text": [
            "Enter your age:10\n",
            "Minor\n"
          ]
        }
      ]
    },
    {
      "cell_type": "code",
      "source": [
        "x = 16\n",
        "if not(x<5):\n",
        "  print(\"x is greater than 5\")\n"
      ],
      "metadata": {
        "colab": {
          "base_uri": "https://localhost:8080/"
        },
        "id": "Oh24TJP4-TTB",
        "outputId": "be445365-3233-493b-baf8-10dfca86cbab"
      },
      "execution_count": 19,
      "outputs": [
        {
          "output_type": "stream",
          "name": "stdout",
          "text": [
            "x is greater than 5\n"
          ]
        }
      ]
    },
    {
      "cell_type": "markdown",
      "source": [
        "Iterative Constructs\n",
        "- while loop (it will continue executing until the condition is true)\n",
        "- for loop ( to iterate over a collection)"
      ],
      "metadata": {
        "id": "Qeomnz4O_RDe"
      }
    },
    {
      "cell_type": "code",
      "source": [
        "marks1 = int(input('Enter marks1:'))\n",
        "marks2 = int(input('Enter marks2:'))\n",
        "marks3 = int(input('Enter marks3:'))\n",
        "total = marks1+marks2+marks3\n",
        "average = total/3\n",
        "print(average)\n"
      ],
      "metadata": {
        "colab": {
          "base_uri": "https://localhost:8080/"
        },
        "id": "P82xyaF6_qj1",
        "outputId": "b4badec8-fa85-47c3-d01a-b580c521b1ba"
      },
      "execution_count": 20,
      "outputs": [
        {
          "output_type": "stream",
          "name": "stdout",
          "text": [
            "Enter marks1:67\n",
            "Enter marks2:77\n",
            "Enter marks3:89\n",
            "77.66666666666667\n"
          ]
        }
      ]
    },
    {
      "cell_type": "code",
      "source": [
        "marks1 = int(input('Enter marks1:'))\n",
        "marks2 = int(input('Enter marks2:'))\n",
        "marks3 = int(input('Enter marks3:'))\n",
        "total = marks1+marks2+marks3\n",
        "average = total/3\n",
        "print(average)\n",
        "if average>=75:\n",
        "  print('Student has qualified')\n",
        "else:\n",
        "  print('Student has not qualified')"
      ],
      "metadata": {
        "colab": {
          "base_uri": "https://localhost:8080/"
        },
        "id": "owGbWlBWASl1",
        "outputId": "57791a6a-8e2b-43c0-cdd5-7d9caa8f77d7"
      },
      "execution_count": 21,
      "outputs": [
        {
          "output_type": "stream",
          "name": "stdout",
          "text": [
            "Enter marks1:67\n",
            "Enter marks2:77\n",
            "Enter marks3:89\n",
            "77.66666666666667\n",
            "Student has qualified\n"
          ]
        }
      ]
    },
    {
      "cell_type": "code",
      "source": [
        "noOfstudents = int(input('Enter the no of students:'))\n",
        "counter = 1\n",
        "while counter <= noOfstudents:\n",
        "  marks1 = int(input('Enter marks1:'))\n",
        "  marks2 = int(input('Enter marks2:'))\n",
        "  marks3 = int(input('Enter marks3:'))\n",
        "  total = marks1+marks2+marks3\n",
        "  average = round(total/3,2)\n",
        "  print(average)\n",
        "  if average>=75:\n",
        "    print('Student has qualified')\n",
        "  else:\n",
        "    print('Student has not qualified')\n",
        "  counter = counter + 1\n"
      ],
      "metadata": {
        "colab": {
          "base_uri": "https://localhost:8080/"
        },
        "id": "OvymP2RhA6jz",
        "outputId": "67f3fcb3-0711-4d98-9f4f-9c5ea84e6ffb"
      },
      "execution_count": 24,
      "outputs": [
        {
          "output_type": "stream",
          "name": "stdout",
          "text": [
            "Enter the no of students:1\n",
            "Enter marks1:67\n",
            "Enter marks2:77\n",
            "Enter marks3:88\n",
            "77.33\n",
            "Student has qualified\n"
          ]
        }
      ]
    },
    {
      "cell_type": "code",
      "source": [
        "help()"
      ],
      "metadata": {
        "colab": {
          "base_uri": "https://localhost:8080/"
        },
        "id": "5AHWxxmOIdUx",
        "outputId": "de3bd240-7c87-4cea-acf6-c70926ed872f"
      },
      "execution_count": 25,
      "outputs": [
        {
          "output_type": "stream",
          "name": "stdout",
          "text": [
            "Welcome to Python 3.11's help utility! If this is your first time using\n",
            "Python, you should definitely check out the tutorial at\n",
            "https://docs.python.org/3.11/tutorial/.\n",
            "\n",
            "Enter the name of any module, keyword, or topic to get help on writing\n",
            "Python programs and using Python modules.  To get a list of available\n",
            "modules, keywords, symbols, or topics, enter \"modules\", \"keywords\",\n",
            "\"symbols\", or \"topics\".\n",
            "\n",
            "Each module also comes with a one-line summary of what it does; to list\n",
            "the modules whose name or summary contain a given string such as \"spam\",\n",
            "enter \"modules spam\".\n",
            "\n",
            "To quit this help utility and return to the interpreter,\n",
            "enter \"q\" or \"quit\".\n",
            "\n",
            "help> round\n",
            "Help on built-in function round in module builtins:\n",
            "\n",
            "round(number, ndigits=None)\n",
            "    Round a number to a given precision in decimal digits.\n",
            "    \n",
            "    The return value is an integer if ndigits is omitted or None.  Otherwise\n",
            "    the return value has the same type as the number.  ndigits may be negative.\n",
            "\n",
            "help> \n",
            "\n",
            "You are now leaving help and returning to the Python interpreter.\n",
            "If you want to ask for help on a particular object directly from the\n",
            "interpreter, you can type \"help(object)\".  Executing \"help('string')\"\n",
            "has the same effect as typing a particular string at the help> prompt.\n"
          ]
        }
      ]
    },
    {
      "cell_type": "code",
      "source": [
        "for i in range(0,10):\n",
        "  print(i)"
      ],
      "metadata": {
        "colab": {
          "base_uri": "https://localhost:8080/"
        },
        "id": "7eWeBjInJQXb",
        "outputId": "1c976135-12f1-4fbd-a75c-a3d86fb054eb"
      },
      "execution_count": 26,
      "outputs": [
        {
          "output_type": "stream",
          "name": "stdout",
          "text": [
            "0\n",
            "1\n",
            "2\n",
            "3\n",
            "4\n",
            "5\n",
            "6\n",
            "7\n",
            "8\n",
            "9\n"
          ]
        }
      ]
    },
    {
      "cell_type": "code",
      "source": [
        "for i in range(1,12):\n",
        "  print(i)"
      ],
      "metadata": {
        "colab": {
          "base_uri": "https://localhost:8080/"
        },
        "id": "2yd90aUFKJsp",
        "outputId": "70b80ea8-19be-4d3b-c00b-bebcf68082f7"
      },
      "execution_count": 28,
      "outputs": [
        {
          "output_type": "stream",
          "name": "stdout",
          "text": [
            "1\n",
            "2\n",
            "3\n",
            "4\n",
            "5\n",
            "6\n",
            "7\n",
            "8\n",
            "9\n",
            "10\n",
            "11\n"
          ]
        }
      ]
    },
    {
      "cell_type": "code",
      "source": [
        "for i in range(0,12,2):\n",
        "  print(i)"
      ],
      "metadata": {
        "colab": {
          "base_uri": "https://localhost:8080/"
        },
        "id": "TFy3PfX7KvSA",
        "outputId": "8e98bb75-67e5-4e8c-e076-48e73e11534e"
      },
      "execution_count": 29,
      "outputs": [
        {
          "output_type": "stream",
          "name": "stdout",
          "text": [
            "0\n",
            "2\n",
            "4\n",
            "6\n",
            "8\n",
            "10\n"
          ]
        }
      ]
    },
    {
      "cell_type": "markdown",
      "source": [
        "Looping conditional statemets\n",
        "continue : skip particular part of a sequence\n",
        "break : break the sequence"
      ],
      "metadata": {
        "id": "ldaT5AbmLNMZ"
      }
    },
    {
      "cell_type": "code",
      "source": [
        "s = \"Bangalore is in india\"\n",
        "for i in s:\n",
        "  if i in 'india':\n",
        "    continue\n",
        "  print(i)"
      ],
      "metadata": {
        "colab": {
          "base_uri": "https://localhost:8080/"
        },
        "id": "e7nUr06GLb6j",
        "outputId": "2cf6fc40-4213-442f-a30a-ba14d8d07162"
      },
      "execution_count": 30,
      "outputs": [
        {
          "output_type": "stream",
          "name": "stdout",
          "text": [
            "B\n",
            "g\n",
            "l\n",
            "o\n",
            "r\n",
            "e\n",
            " \n",
            "s\n",
            " \n",
            " \n"
          ]
        }
      ]
    },
    {
      "cell_type": "code",
      "source": [
        "s = \"Bangalore is in india\"\n",
        "for i in s:\n",
        "  if i in 'o':\n",
        "    break\n",
        "  print(i)"
      ],
      "metadata": {
        "colab": {
          "base_uri": "https://localhost:8080/"
        },
        "id": "Om3rJopHMzW9",
        "outputId": "61cc60f1-0575-4489-81f0-80e1a66680fb"
      },
      "execution_count": 56,
      "outputs": [
        {
          "output_type": "stream",
          "name": "stdout",
          "text": [
            "B\n",
            "a\n",
            "n\n",
            "g\n",
            "a\n",
            "l\n"
          ]
        }
      ]
    },
    {
      "cell_type": "markdown",
      "source": [
        "Data Structure\n",
        "- List & list comprehension\n",
        "- Strings\n",
        "- Tuples\n",
        "- Sets\n",
        "- Dictionary"
      ],
      "metadata": {
        "id": "3LgTaeAXOB_w"
      }
    },
    {
      "cell_type": "markdown",
      "source": [
        "List\n",
        "- collection of heterogeneous elements\n",
        "- mutable i.e. modifiable"
      ],
      "metadata": {
        "id": "8DFyZ1I9ObIj"
      }
    },
    {
      "cell_type": "code",
      "source": [
        "a = [10,10.5,'Hello',True]\n",
        "a"
      ],
      "metadata": {
        "colab": {
          "base_uri": "https://localhost:8080/"
        },
        "id": "Yo-MqgMnOBaF",
        "outputId": "68dd8720-2be5-442f-ab0a-e3550e4d0afa"
      },
      "execution_count": 32,
      "outputs": [
        {
          "output_type": "execute_result",
          "data": {
            "text/plain": [
              "[10, 10.5, 'Hello', True]"
            ]
          },
          "metadata": {},
          "execution_count": 32
        }
      ]
    },
    {
      "cell_type": "code",
      "source": [
        "print(type(a))"
      ],
      "metadata": {
        "colab": {
          "base_uri": "https://localhost:8080/"
        },
        "id": "QXZGIiAGPTPk",
        "outputId": "ce0ff3cd-cd81-4ada-a21b-0fce98175d50"
      },
      "execution_count": 33,
      "outputs": [
        {
          "output_type": "stream",
          "name": "stdout",
          "text": [
            "<class 'list'>\n"
          ]
        }
      ]
    },
    {
      "cell_type": "code",
      "source": [
        "list(range(1,10))"
      ],
      "metadata": {
        "colab": {
          "base_uri": "https://localhost:8080/"
        },
        "id": "xTZHvmI1P_V0",
        "outputId": "6b0b9fef-07ce-481e-ce14-259d004d759e"
      },
      "execution_count": 34,
      "outputs": [
        {
          "output_type": "execute_result",
          "data": {
            "text/plain": [
              "[1, 2, 3, 4, 5, 6, 7, 8, 9]"
            ]
          },
          "metadata": {},
          "execution_count": 34
        }
      ]
    },
    {
      "cell_type": "code",
      "source": [
        "myList = [10,20,30,40,50,60]\n",
        "myList"
      ],
      "metadata": {
        "colab": {
          "base_uri": "https://localhost:8080/"
        },
        "id": "Es9atEKLQLPv",
        "outputId": "a1825a94-b195-4323-eb92-33e87365186b"
      },
      "execution_count": 35,
      "outputs": [
        {
          "output_type": "execute_result",
          "data": {
            "text/plain": [
              "[10, 20, 30, 40, 50, 60]"
            ]
          },
          "metadata": {},
          "execution_count": 35
        }
      ]
    },
    {
      "cell_type": "code",
      "source": [
        "myList[0]"
      ],
      "metadata": {
        "colab": {
          "base_uri": "https://localhost:8080/"
        },
        "id": "vi0VFBioQUl0",
        "outputId": "62b12752-14c3-44d8-c649-73020b5794ec"
      },
      "execution_count": 36,
      "outputs": [
        {
          "output_type": "execute_result",
          "data": {
            "text/plain": [
              "10"
            ]
          },
          "metadata": {},
          "execution_count": 36
        }
      ]
    },
    {
      "cell_type": "code",
      "source": [
        "list are index from 0 to n-1\n",
        "n = 6\n",
        "index = 0 to 5"
      ],
      "metadata": {
        "id": "six46kdxQYsH"
      },
      "execution_count": null,
      "outputs": []
    },
    {
      "cell_type": "code",
      "source": [
        "myList[5]"
      ],
      "metadata": {
        "colab": {
          "base_uri": "https://localhost:8080/"
        },
        "id": "2K5pzes3QnBx",
        "outputId": "36494e37-ba08-4398-93fd-7188c11e3c35"
      },
      "execution_count": 41,
      "outputs": [
        {
          "output_type": "execute_result",
          "data": {
            "text/plain": [
              "60"
            ]
          },
          "metadata": {},
          "execution_count": 41
        }
      ]
    },
    {
      "cell_type": "code",
      "source": [
        "myList[1:5]"
      ],
      "metadata": {
        "colab": {
          "base_uri": "https://localhost:8080/"
        },
        "id": "MYhS5YtTRXIL",
        "outputId": "87693b6c-2a66-4f1c-b35e-1cf8a510e7fd"
      },
      "execution_count": 39,
      "outputs": [
        {
          "output_type": "execute_result",
          "data": {
            "text/plain": [
              "[20, 30, 40, 50, 60]"
            ]
          },
          "metadata": {},
          "execution_count": 39
        }
      ]
    },
    {
      "cell_type": "code",
      "source": [
        "myList[-1]"
      ],
      "metadata": {
        "colab": {
          "base_uri": "https://localhost:8080/"
        },
        "id": "Nb5l1G3uSQF5",
        "outputId": "819ff413-61a0-4fe9-ca99-7f00e0b7ff05"
      },
      "execution_count": 42,
      "outputs": [
        {
          "output_type": "execute_result",
          "data": {
            "text/plain": [
              "60"
            ]
          },
          "metadata": {},
          "execution_count": 42
        }
      ]
    },
    {
      "cell_type": "code",
      "source": [
        "elements - 10 20 30 40 50 60\n",
        "+ index    0  1  2  3  4  5\n",
        "              ...-3   -2   -1"
      ],
      "metadata": {
        "id": "9LwFEpiXSVtL"
      },
      "execution_count": null,
      "outputs": []
    },
    {
      "cell_type": "markdown",
      "source": [
        "Membership"
      ],
      "metadata": {
        "id": "VjmJJ-JFS4U7"
      }
    },
    {
      "cell_type": "code",
      "source": [
        "myList1 = [10.6,6,7,8,9]\n",
        "myList1"
      ],
      "metadata": {
        "colab": {
          "base_uri": "https://localhost:8080/"
        },
        "id": "Qka2EVjwS51r",
        "outputId": "94a07ac6-3825-41c6-d5c9-faefd19c01b5"
      },
      "execution_count": 43,
      "outputs": [
        {
          "output_type": "execute_result",
          "data": {
            "text/plain": [
              "[10.6, 6, 7, 8, 9]"
            ]
          },
          "metadata": {},
          "execution_count": 43
        }
      ]
    },
    {
      "cell_type": "code",
      "source": [
        "print( 6 in myList1)"
      ],
      "metadata": {
        "colab": {
          "base_uri": "https://localhost:8080/"
        },
        "id": "TD0g1yvrTCJN",
        "outputId": "1dc5b34b-d8c4-4aac-b035-77b55f5396b3"
      },
      "execution_count": 44,
      "outputs": [
        {
          "output_type": "stream",
          "name": "stdout",
          "text": [
            "True\n"
          ]
        }
      ]
    },
    {
      "cell_type": "code",
      "source": [
        "print(16 in myList1)"
      ],
      "metadata": {
        "colab": {
          "base_uri": "https://localhost:8080/"
        },
        "id": "bE1-9bgOTKtY",
        "outputId": "4c67e938-beee-4934-d3c1-96abab660dbf"
      },
      "execution_count": 45,
      "outputs": [
        {
          "output_type": "stream",
          "name": "stdout",
          "text": [
            "False\n"
          ]
        }
      ]
    },
    {
      "cell_type": "markdown",
      "source": [
        "Arithmetic Operators"
      ],
      "metadata": {
        "id": "Cl9kpRxuTcaV"
      }
    },
    {
      "cell_type": "code",
      "source": [
        "lst = [1,2,3]\n",
        "lst1 = [3,4,5]\n"
      ],
      "metadata": {
        "id": "2nFUn6qOTcEp"
      },
      "execution_count": 46,
      "outputs": []
    },
    {
      "cell_type": "code",
      "source": [
        "lst + lst1"
      ],
      "metadata": {
        "colab": {
          "base_uri": "https://localhost:8080/"
        },
        "id": "IpbDG9GWTs7w",
        "outputId": "96bd7aaf-13de-4569-b124-f2facbeea21d"
      },
      "execution_count": 47,
      "outputs": [
        {
          "output_type": "execute_result",
          "data": {
            "text/plain": [
              "[1, 2, 3, 3, 4, 5]"
            ]
          },
          "metadata": {},
          "execution_count": 47
        }
      ]
    },
    {
      "cell_type": "code",
      "source": [
        "lst * 3\n"
      ],
      "metadata": {
        "colab": {
          "base_uri": "https://localhost:8080/"
        },
        "id": "ajmt6YMwT5GS",
        "outputId": "d0448c2c-676a-427c-8b08-690a47447a06"
      },
      "execution_count": 48,
      "outputs": [
        {
          "output_type": "execute_result",
          "data": {
            "text/plain": [
              "[1, 2, 3, 1, 2, 3, 1, 2, 3]"
            ]
          },
          "metadata": {},
          "execution_count": 48
        }
      ]
    },
    {
      "cell_type": "markdown",
      "source": [
        "List Methods\n",
        "- append()\n",
        "- extend()\n",
        "- insert()\n",
        "- sort()\n",
        "- remove()"
      ],
      "metadata": {
        "id": "Rsrg7o4FUEBR"
      }
    },
    {
      "cell_type": "code",
      "source": [
        "a = [1,2,3,5,\"Hello\"]\n",
        "a"
      ],
      "metadata": {
        "colab": {
          "base_uri": "https://localhost:8080/"
        },
        "id": "s7SJNBjUURfl",
        "outputId": "650ad716-aed7-4243-9739-0f111e6f2482"
      },
      "execution_count": 49,
      "outputs": [
        {
          "output_type": "execute_result",
          "data": {
            "text/plain": [
              "[1, 2, 3, 5, 'Hello']"
            ]
          },
          "metadata": {},
          "execution_count": 49
        }
      ]
    },
    {
      "cell_type": "code",
      "source": [
        "a.append(\"Orange\")\n",
        "a"
      ],
      "metadata": {
        "colab": {
          "base_uri": "https://localhost:8080/"
        },
        "id": "X2K85Xh0Ubeq",
        "outputId": "7f3921c1-e1e6-4ac7-fb91-f718ad3d550f"
      },
      "execution_count": 50,
      "outputs": [
        {
          "output_type": "execute_result",
          "data": {
            "text/plain": [
              "[1, 2, 3, 5, 'Hello', 'Orange']"
            ]
          },
          "metadata": {},
          "execution_count": 50
        }
      ]
    },
    {
      "cell_type": "code",
      "source": [
        "a.append(1)\n",
        "a\n"
      ],
      "metadata": {
        "colab": {
          "base_uri": "https://localhost:8080/"
        },
        "id": "df7YRuupUrfN",
        "outputId": "7008f422-bf39-4494-d36e-416151fc5bbe"
      },
      "execution_count": 51,
      "outputs": [
        {
          "output_type": "execute_result",
          "data": {
            "text/plain": [
              "[1, 2, 3, 5, 'Hello', 'Orange', 1]"
            ]
          },
          "metadata": {},
          "execution_count": 51
        }
      ]
    },
    {
      "cell_type": "code",
      "source": [
        "a.append([11,22,33])\n",
        "a"
      ],
      "metadata": {
        "colab": {
          "base_uri": "https://localhost:8080/"
        },
        "id": "clqOYvxjU7sU",
        "outputId": "5a2ae994-d1a9-4f6c-c3c3-0e8ffc5ebffd"
      },
      "execution_count": 52,
      "outputs": [
        {
          "output_type": "execute_result",
          "data": {
            "text/plain": [
              "[1, 2, 3, 5, 'Hello', 'Orange', 1, [11, 22, 33]]"
            ]
          },
          "metadata": {},
          "execution_count": 52
        }
      ]
    },
    {
      "cell_type": "code",
      "source": [
        "a[-1]"
      ],
      "metadata": {
        "colab": {
          "base_uri": "https://localhost:8080/"
        },
        "id": "uodhLdI1VQar",
        "outputId": "55737be1-91de-4adf-98f9-3ce5afe433b3"
      },
      "execution_count": 53,
      "outputs": [
        {
          "output_type": "execute_result",
          "data": {
            "text/plain": [
              "[11, 22, 33]"
            ]
          },
          "metadata": {},
          "execution_count": 53
        }
      ]
    },
    {
      "cell_type": "code",
      "source": [
        "a.extend([11,22,33])\n",
        "a"
      ],
      "metadata": {
        "colab": {
          "base_uri": "https://localhost:8080/"
        },
        "id": "7yNZHdEYVibD",
        "outputId": "8dd071ba-2738-4f5c-9603-c5f569ddabd5"
      },
      "execution_count": 54,
      "outputs": [
        {
          "output_type": "execute_result",
          "data": {
            "text/plain": [
              "[1, 2, 3, 5, 'Hello', 'Orange', 1, [11, 22, 33], 11, 22, 33]"
            ]
          },
          "metadata": {},
          "execution_count": 54
        }
      ]
    },
    {
      "cell_type": "code",
      "source": [
        "a[-1]"
      ],
      "metadata": {
        "colab": {
          "base_uri": "https://localhost:8080/"
        },
        "id": "nhg7d8CYVxXq",
        "outputId": "8c78d84a-913b-4462-c163-0ca18ec61be1"
      },
      "execution_count": 57,
      "outputs": [
        {
          "output_type": "execute_result",
          "data": {
            "text/plain": [
              "33"
            ]
          },
          "metadata": {},
          "execution_count": 57
        }
      ]
    }
  ]
}