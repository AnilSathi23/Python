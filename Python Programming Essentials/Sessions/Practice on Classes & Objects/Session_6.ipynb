{
  "nbformat": 4,
  "nbformat_minor": 0,
  "metadata": {
    "colab": {
      "provenance": []
    },
    "kernelspec": {
      "name": "python3",
      "display_name": "Python 3"
    },
    "language_info": {
      "name": "python"
    }
  },
  "cells": [
    {
      "cell_type": "markdown",
      "source": [
        "Encapsulation"
      ],
      "metadata": {
        "id": "YnLWCmZs5GpK"
      }
    },
    {
      "cell_type": "code",
      "execution_count": null,
      "metadata": {
        "id": "DNdGJ2ud1SAp"
      },
      "outputs": [],
      "source": [
        "class student:\n",
        "  counter = 0\n",
        "  def __init__(self,name,fathername,age):\n",
        "    self.name = name\n",
        "    self.fathername = fathername\n",
        "    self.age = age\n",
        "    student.counter =+ 1\n",
        "    self._rollno = 'A2025/{}/{:003}'.format(self.name[:3].upper(),student.counter) # protected\n",
        "    self.__fileno = 'A2025/{}/{:003}'.format(self.name.upper(),student.counter) # private\n",
        "  def print_info(self):\n",
        "    print('Name :',self.name)\n",
        "    print(\"Father's Name:\", self.fathername)\n",
        "    print('Age:', self.age)\n",
        "    print(\"Roll No :\", self._rollno)\n",
        "    print(\"File No :\",self.__fileno)"
      ]
    },
    {
      "cell_type": "code",
      "source": [
        "st1 = student('Tom Davis','Harry Davis',10)"
      ],
      "metadata": {
        "id": "pdWqIkfP63fG"
      },
      "execution_count": null,
      "outputs": []
    },
    {
      "cell_type": "code",
      "source": [
        "st1.print_info()"
      ],
      "metadata": {
        "colab": {
          "base_uri": "https://localhost:8080/"
        },
        "id": "dMjS3-ao7Cno",
        "outputId": "df5c85b1-7afa-4bfc-c676-2f34d132044b"
      },
      "execution_count": null,
      "outputs": [
        {
          "output_type": "stream",
          "name": "stdout",
          "text": [
            "Name : Tom Davis\n",
            "Father's Name: Harry Davis\n",
            "Age: 10\n",
            "Roll No : A2025/TOM/001\n",
            "File No : A2025/TOM DAVIS/001\n"
          ]
        }
      ]
    },
    {
      "cell_type": "code",
      "source": [
        "class science(student):\n",
        "  def display(self):\n",
        "    print('Name :',self.name)\n",
        "    print(\"Father's Name:\", self.fathername)\n",
        "    print('Age:', self.age)\n",
        "    print(\"Roll No :\", self._rollno)\n",
        "    print(\"File No :\",self.__fileno)\n"
      ],
      "metadata": {
        "id": "M_sNRKO88YRS"
      },
      "execution_count": null,
      "outputs": []
    },
    {
      "cell_type": "code",
      "source": [
        "st2 = science('John David','Malcom David',15)\n"
      ],
      "metadata": {
        "id": "ApwTOn4o8upj"
      },
      "execution_count": null,
      "outputs": []
    },
    {
      "cell_type": "code",
      "source": [
        "st2.print_info()"
      ],
      "metadata": {
        "colab": {
          "base_uri": "https://localhost:8080/"
        },
        "id": "dZtpj5Tc8_1Q",
        "outputId": "d69f5829-ff8e-4fe5-baf4-5f9aa82067b2"
      },
      "execution_count": null,
      "outputs": [
        {
          "output_type": "stream",
          "name": "stdout",
          "text": [
            "Name : John David\n",
            "Father's Name: Malcom David\n",
            "Age: 15\n",
            "Roll No : A2025/JOH/001\n",
            "File No : A2025/JOHN DAVID/001\n"
          ]
        }
      ]
    },
    {
      "cell_type": "code",
      "source": [
        "st2.display()"
      ],
      "metadata": {
        "colab": {
          "base_uri": "https://localhost:8080/",
          "height": 315
        },
        "id": "aSGRwxlL9OC0",
        "outputId": "97a788ca-54e2-4e81-f369-738da22ead51"
      },
      "execution_count": null,
      "outputs": [
        {
          "output_type": "stream",
          "name": "stdout",
          "text": [
            "Name : John David\n",
            "Father's Name: Malcom David\n",
            "Age: 15\n",
            "Roll No : A2025/JOH/001\n"
          ]
        },
        {
          "output_type": "error",
          "ename": "AttributeError",
          "evalue": "'science' object has no attribute '_science__fileno'",
          "traceback": [
            "\u001b[0;31m---------------------------------------------------------------------------\u001b[0m",
            "\u001b[0;31mAttributeError\u001b[0m                            Traceback (most recent call last)",
            "\u001b[0;32m<ipython-input-9-9d7b27abf4e1>\u001b[0m in \u001b[0;36m<cell line: 0>\u001b[0;34m()\u001b[0m\n\u001b[0;32m----> 1\u001b[0;31m \u001b[0mst2\u001b[0m\u001b[0;34m.\u001b[0m\u001b[0mdisplay\u001b[0m\u001b[0;34m(\u001b[0m\u001b[0;34m)\u001b[0m\u001b[0;34m\u001b[0m\u001b[0;34m\u001b[0m\u001b[0m\n\u001b[0m",
            "\u001b[0;32m<ipython-input-4-072ff62ba824>\u001b[0m in \u001b[0;36mdisplay\u001b[0;34m(self)\u001b[0m\n\u001b[1;32m      5\u001b[0m     \u001b[0mprint\u001b[0m\u001b[0;34m(\u001b[0m\u001b[0;34m'Age:'\u001b[0m\u001b[0;34m,\u001b[0m \u001b[0mself\u001b[0m\u001b[0;34m.\u001b[0m\u001b[0mage\u001b[0m\u001b[0;34m)\u001b[0m\u001b[0;34m\u001b[0m\u001b[0;34m\u001b[0m\u001b[0m\n\u001b[1;32m      6\u001b[0m     \u001b[0mprint\u001b[0m\u001b[0;34m(\u001b[0m\u001b[0;34m\"Roll No :\"\u001b[0m\u001b[0;34m,\u001b[0m \u001b[0mself\u001b[0m\u001b[0;34m.\u001b[0m\u001b[0m_rollno\u001b[0m\u001b[0;34m)\u001b[0m\u001b[0;34m\u001b[0m\u001b[0;34m\u001b[0m\u001b[0m\n\u001b[0;32m----> 7\u001b[0;31m     \u001b[0mprint\u001b[0m\u001b[0;34m(\u001b[0m\u001b[0;34m\"File No :\"\u001b[0m\u001b[0;34m,\u001b[0m\u001b[0mself\u001b[0m\u001b[0;34m.\u001b[0m\u001b[0m__fileno\u001b[0m\u001b[0;34m)\u001b[0m\u001b[0;34m\u001b[0m\u001b[0;34m\u001b[0m\u001b[0m\n\u001b[0m\u001b[1;32m      8\u001b[0m \u001b[0;34m\u001b[0m\u001b[0m\n",
            "\u001b[0;31mAttributeError\u001b[0m: 'science' object has no attribute '_science__fileno'"
          ]
        }
      ]
    },
    {
      "cell_type": "code",
      "source": [
        "class Person:\n",
        "  def __init__(self,name,age):\n",
        "    self.name =name\n",
        "    self.__age =age\n",
        "\n",
        "  def get_age(self):\n",
        "    return self.__age\n",
        "\n",
        "  def set_age(self,new_age):\n",
        "    if new_age>0:\n",
        "      self.__age = new_age\n",
        "    else:\n",
        "      print(\"age must be positive\")\n",
        "p = Person('Alice',30)"
      ],
      "metadata": {
        "id": "u0be7kMDAMbn"
      },
      "execution_count": null,
      "outputs": []
    },
    {
      "cell_type": "code",
      "source": [
        "print(p.name)"
      ],
      "metadata": {
        "colab": {
          "base_uri": "https://localhost:8080/"
        },
        "id": "aAQThMvhA_VW",
        "outputId": "9b1af44f-52bb-44e0-a5ec-be9a9bc8dff0"
      },
      "execution_count": null,
      "outputs": [
        {
          "output_type": "stream",
          "name": "stdout",
          "text": [
            "Alice\n"
          ]
        }
      ]
    },
    {
      "cell_type": "code",
      "source": [
        "print(p.__age)"
      ],
      "metadata": {
        "colab": {
          "base_uri": "https://localhost:8080/",
          "height": 141
        },
        "id": "b6jjCLbRBEqG",
        "outputId": "7a355619-37f9-4e91-9aae-e48c65ff8619"
      },
      "execution_count": null,
      "outputs": [
        {
          "output_type": "error",
          "ename": "AttributeError",
          "evalue": "'Person' object has no attribute '__age'",
          "traceback": [
            "\u001b[0;31m---------------------------------------------------------------------------\u001b[0m",
            "\u001b[0;31mAttributeError\u001b[0m                            Traceback (most recent call last)",
            "\u001b[0;32m<ipython-input-20-8187b8f6ea1f>\u001b[0m in \u001b[0;36m<cell line: 0>\u001b[0;34m()\u001b[0m\n\u001b[0;32m----> 1\u001b[0;31m \u001b[0mprint\u001b[0m\u001b[0;34m(\u001b[0m\u001b[0mp\u001b[0m\u001b[0;34m.\u001b[0m\u001b[0m__age\u001b[0m\u001b[0;34m)\u001b[0m\u001b[0;34m\u001b[0m\u001b[0;34m\u001b[0m\u001b[0m\n\u001b[0m",
            "\u001b[0;31mAttributeError\u001b[0m: 'Person' object has no attribute '__age'"
          ]
        }
      ]
    },
    {
      "cell_type": "code",
      "source": [
        "p.set_age(25)\n"
      ],
      "metadata": {
        "id": "tUgtNKm5BJ2L"
      },
      "execution_count": null,
      "outputs": []
    },
    {
      "cell_type": "code",
      "source": [
        "print(p.get_age())"
      ],
      "metadata": {
        "colab": {
          "base_uri": "https://localhost:8080/"
        },
        "id": "lFg_e3gzBrd-",
        "outputId": "b507b799-69cc-4047-e9ec-d3a48623cc05"
      },
      "execution_count": null,
      "outputs": [
        {
          "output_type": "stream",
          "name": "stdout",
          "text": [
            "25\n"
          ]
        }
      ]
    },
    {
      "cell_type": "markdown",
      "source": [
        "Inheritance- It allows one class to inherit the attributes and methods of another classs"
      ],
      "metadata": {
        "id": "hOTuksJdFZGd"
      }
    },
    {
      "cell_type": "markdown",
      "source": [
        "Single Inheritance- A child class inherits from a single parent class"
      ],
      "metadata": {
        "id": "mLqX_d68GX4v"
      }
    },
    {
      "cell_type": "code",
      "source": [
        "class Animal:\n",
        "  def speak(self):\n",
        "    print(\"Animals makes sound\")\n",
        "class Dog(Animal):\n",
        "  def bark(self):\n",
        "    print(\"Dog barks\")\n",
        "d = Dog()\n",
        "d.speak()\n",
        "d.bark()\n"
      ],
      "metadata": {
        "colab": {
          "base_uri": "https://localhost:8080/"
        },
        "id": "Tof9YWs-FxMJ",
        "outputId": "bd33d2e7-5ddb-40ec-f1c1-facf0de5d9bd"
      },
      "execution_count": null,
      "outputs": [
        {
          "output_type": "stream",
          "name": "stdout",
          "text": [
            "Animals makes sound\n",
            "Dog barks\n"
          ]
        }
      ]
    },
    {
      "cell_type": "code",
      "source": [
        "class Person:\n",
        "  def __init__(self,name,age):\n",
        "    self.name = name\n",
        "    self.age = age\n",
        "  def display(self):\n",
        "    print(f\"Name:{self.name} and Age:{self.age}\")\n",
        "\n",
        "class Student(Person):\n",
        "  def __init__(self,name,age,student_id):\n",
        "    super().__init__(name,age)\n",
        "    self.student_id = student_id\n",
        "\n",
        "  def display_info(self):\n",
        "    print(f\"Student ID:{self.student_id}\")\n",
        "\n",
        "s1 = Student(\"Alice\",20,\"S123\")\n",
        "s1.display()\n",
        "s1.display_info()"
      ],
      "metadata": {
        "colab": {
          "base_uri": "https://localhost:8080/"
        },
        "id": "pLKstAPAHJHA",
        "outputId": "24dcd3e9-2606-421d-f76e-3910cd1f76ee"
      },
      "execution_count": null,
      "outputs": [
        {
          "output_type": "stream",
          "name": "stdout",
          "text": [
            "Name:Alice and Age:20\n",
            "Student ID:S123\n"
          ]
        }
      ]
    },
    {
      "cell_type": "markdown",
      "source": [
        "Multilevel Inheritance"
      ],
      "metadata": {
        "id": "93ecGsLIMJI9"
      }
    },
    {
      "cell_type": "code",
      "source": [
        "class Person:\n",
        "  def __init__(self,name,age):\n",
        "    self.name = name\n",
        "    self.age = age\n",
        "  def display(self):\n",
        "    print(f\"Name:{self.name} and Age:{self.age}\")\n",
        "\n",
        "class Employees(Person):\n",
        "  def __init__(self,name,age,salary):\n",
        "    super().__init__(name,age)\n",
        "    self.salary = salary\n",
        "\n",
        "  def display_info(self):\n",
        "    print(f\"Salary:${self.salary}\")\n",
        "\n",
        "class Manager(Employees):\n",
        "  def __init__(self,name,age,salary,department):\n",
        "    super().__init__(name,age,salary)\n",
        "    self.department = department\n",
        "\n",
        "  def display_inform(self):\n",
        "    print(f\"Department:{self.department}\")\n",
        "\n",
        "s1 = Manager(\"John\",35,80000,\"Research\")\n",
        "s1.display()\n",
        "s1.display_info()\n",
        "s1.display_inform()"
      ],
      "metadata": {
        "colab": {
          "base_uri": "https://localhost:8080/"
        },
        "id": "kdVUCLH9MI1T",
        "outputId": "a360fdcc-8818-4985-eaf0-8838038a2409"
      },
      "execution_count": null,
      "outputs": [
        {
          "output_type": "stream",
          "name": "stdout",
          "text": [
            "Name:John and Age:35\n",
            "Salary:$80000\n",
            "Department:Research\n"
          ]
        }
      ]
    },
    {
      "cell_type": "markdown",
      "source": [
        "Multiple Inheritance"
      ],
      "metadata": {
        "id": "mc1HxDMLO8HU"
      }
    },
    {
      "cell_type": "code",
      "source": [
        "class Person:\n",
        "  def __init__(self,name,age):\n",
        "    self.name = name\n",
        "    self.age = age\n",
        "  def display(self):\n",
        "    print(f\"Name:{self.name} and Age:{self.age}\")\n",
        "\n",
        "class Job_Role:\n",
        "  def __init__(self,role,salary):\n",
        "    self.role = role\n",
        "    self.salary = salary\n",
        "  def display_role(self):\n",
        "    print(f\"Role:{self.role} and Salary:${self.salary}\")\n",
        "\n",
        "class Employees(Person,Job_Role):\n",
        "  def __init__(self,name,age,role,salary,emp_id):\n",
        "    super().__init__(name,age)\n",
        "    Job_Role.__init__(self,role,salary)\n",
        "    self.emp_id=emp_id\n",
        "\n",
        "  def display_employees(self):\n",
        "    print(f\"Employee ID:{self.emp_id}\")\n",
        "    self.display()\n",
        "    self.display_role()\n",
        "\n",
        "emp1 = Employees(\"Rahul\",30,\"Software Engineer\",90000,\"E102\")\n",
        "emp1.display_employees()"
      ],
      "metadata": {
        "colab": {
          "base_uri": "https://localhost:8080/"
        },
        "id": "Yy3TLvP9PAAf",
        "outputId": "64f456c1-fea5-4588-f116-8853e4173987"
      },
      "execution_count": null,
      "outputs": [
        {
          "output_type": "stream",
          "name": "stdout",
          "text": [
            "Employee ID:E102\n",
            "Name:Rahul and Age:30\n",
            "Role:Software Engineer and Salary:$90000\n"
          ]
        }
      ]
    },
    {
      "cell_type": "markdown",
      "source": [
        "Hierarchical Inheritance"
      ],
      "metadata": {
        "id": "uHMXAStcYyCC"
      }
    },
    {
      "cell_type": "code",
      "source": [
        "class Vehicle:\n",
        "  def __init__(self,brand):\n",
        "    self.brand =brand\n",
        "  def display(self):\n",
        "    print(f\"Brand:{self.brand}\")\n",
        "\n",
        "class Car(Vehicle):\n",
        "  def __init__(self,brand,model):\n",
        "    super().__init__(brand)\n",
        "    self.model=model\n",
        "  def display_car(self):\n",
        "    print(f\"Car Model:{self.model}\")\n",
        "class Bike(Vehicle):\n",
        "  def __init__(self,brand,cc):\n",
        "    super().__init__(brand)\n",
        "    self.cc=cc\n",
        "  def display_bike(self):\n",
        "    print(f\"Bike Engine:{self.cc} CC\")\n",
        "\n",
        "car1 = Car(\"Toyota\",\"Camry\")\n",
        "bike1 = Bike(\"Yamaha\",150)\n",
        "car1.display()\n",
        "car1.display_car()\n",
        "bike1.display()\n",
        "bike1.display_bike()\n",
        "\n"
      ],
      "metadata": {
        "colab": {
          "base_uri": "https://localhost:8080/"
        },
        "id": "wrT4BfsiYsgz",
        "outputId": "d8494e48-2357-45b2-bf76-6fa60dece629"
      },
      "execution_count": null,
      "outputs": [
        {
          "output_type": "stream",
          "name": "stdout",
          "text": [
            "Brand:Toyota\n",
            "Car Model:Camry\n",
            "Brand:Yamaha\n",
            "Bike Engine:150 CC\n"
          ]
        }
      ]
    },
    {
      "cell_type": "markdown",
      "source": [
        "Polymorphism- Ability to take many form\n"
      ],
      "metadata": {
        "id": "gXIX8h02dqZv"
      }
    },
    {
      "cell_type": "markdown",
      "source": [
        "Method Overloading - It allows a class to have multiple methods with the same name but different number or types of parameters"
      ],
      "metadata": {
        "id": "NTDDiJRwd2kR"
      }
    },
    {
      "cell_type": "code",
      "source": [
        "class Math:\n",
        "  def add(self,a,b=0,c=0):\n",
        "    return a+b+c\n",
        "obj = Math()\n",
        "print(obj.add(5))\n",
        "print(obj.add(5,10))\n",
        "print(obj.add(5,10,15))"
      ],
      "metadata": {
        "colab": {
          "base_uri": "https://localhost:8080/"
        },
        "id": "IuWSN2YIeGGN",
        "outputId": "4f2103a9-0264-4fbd-d55c-2df13242fd43"
      },
      "execution_count": null,
      "outputs": [
        {
          "output_type": "stream",
          "name": "stdout",
          "text": [
            "5\n",
            "15\n",
            "30\n"
          ]
        }
      ]
    },
    {
      "cell_type": "code",
      "source": [
        "class information:\n",
        "  def __init__(self,name,age,gender):\n",
        "    self.name = name\n",
        "    self.age = age\n",
        "    self.gender = gender\n",
        "  def print_info(self):\n",
        "    print('Name:',self.name)\n",
        "    print('Age:',self.age)\n",
        "    print('Gender:',self.gender)"
      ],
      "metadata": {
        "id": "4DhfQnQ7fCS-"
      },
      "execution_count": null,
      "outputs": []
    },
    {
      "cell_type": "code",
      "source": [
        "class learners:\n",
        "  def __init__(self,name,age,gender,exp,qual):\n",
        "    self.name = name\n",
        "    self.age = age\n",
        "    self.gender = gender\n",
        "    self.exp = exp\n",
        "    self.qual = qual\n",
        "  def print_info(self):\n",
        "    print('Name:',self.name)\n",
        "    print('Age:',self.age)\n",
        "    print('Gender:',self.gender)\n",
        "    print('Experience:',self.exp)\n",
        "    print('Qualification:',self.qual)"
      ],
      "metadata": {
        "id": "CGtkQ3bnfeww"
      },
      "execution_count": null,
      "outputs": []
    },
    {
      "cell_type": "code",
      "source": [
        "obj1 = information('John',34,'M')\n",
        "obj2 = learners('John',34,'M',3.5,'Graduate')"
      ],
      "metadata": {
        "id": "G6xyr4eBf4RB"
      },
      "execution_count": null,
      "outputs": []
    },
    {
      "cell_type": "code",
      "source": [
        "obj1.print_info()"
      ],
      "metadata": {
        "colab": {
          "base_uri": "https://localhost:8080/"
        },
        "id": "FlhAC_T8gJyX",
        "outputId": "a19186ec-3736-446e-a804-1472fa44630c"
      },
      "execution_count": null,
      "outputs": [
        {
          "output_type": "stream",
          "name": "stdout",
          "text": [
            "Name: John\n",
            "Age: 34\n",
            "Gender: M\n"
          ]
        }
      ]
    },
    {
      "cell_type": "code",
      "source": [
        "obj2.print_info()"
      ],
      "metadata": {
        "colab": {
          "base_uri": "https://localhost:8080/"
        },
        "id": "R4x00p8ygPTW",
        "outputId": "f4ae7194-3d27-452f-d634-08c91a41fa73"
      },
      "execution_count": null,
      "outputs": [
        {
          "output_type": "stream",
          "name": "stdout",
          "text": [
            "Name: John\n",
            "Age: 34\n",
            "Gender: M\n",
            "Experience: 3.5\n",
            "Qualification: Graduate\n"
          ]
        }
      ]
    },
    {
      "cell_type": "markdown",
      "source": [
        "Method Overloading"
      ],
      "metadata": {
        "id": "6m67St1-hWte"
      }
    },
    {
      "cell_type": "code",
      "source": [
        "x = 8; y = 15\n",
        "x+y"
      ],
      "metadata": {
        "colab": {
          "base_uri": "https://localhost:8080/"
        },
        "id": "uStBiPOKhZLj",
        "outputId": "dfe20e81-9c91-4058-c4af-31ab6399938c"
      },
      "execution_count": null,
      "outputs": [
        {
          "output_type": "execute_result",
          "data": {
            "text/plain": [
              "23"
            ]
          },
          "metadata": {},
          "execution_count": 40
        }
      ]
    },
    {
      "cell_type": "code",
      "source": [
        "x = 'First'\n",
        "y = 'Last'\n",
        "x + y"
      ],
      "metadata": {
        "colab": {
          "base_uri": "https://localhost:8080/",
          "height": 35
        },
        "id": "k2wHSG6yhhJ8",
        "outputId": "2568f330-3e19-4f27-c062-48856ad150fb"
      },
      "execution_count": null,
      "outputs": [
        {
          "output_type": "execute_result",
          "data": {
            "text/plain": [
              "'FirstLast'"
            ],
            "application/vnd.google.colaboratory.intrinsic+json": {
              "type": "string"
            }
          },
          "metadata": {},
          "execution_count": 41
        }
      ]
    },
    {
      "cell_type": "markdown",
      "source": [
        "Method Overriding"
      ],
      "metadata": {
        "id": "TLPq8Etah0uM"
      }
    },
    {
      "cell_type": "code",
      "source": [
        "class information:\n",
        "  def __init__(self,name,age,gender):\n",
        "    self.name = name\n",
        "    self.age = age\n",
        "    self.gender = gender\n",
        "  def print_info(self):\n",
        "    print('Name:',self.name)\n",
        "    print('Age:',self.age)\n",
        "    print('Gender:',self.gender)"
      ],
      "metadata": {
        "id": "PdYuOOW7h3A4"
      },
      "execution_count": null,
      "outputs": []
    },
    {
      "cell_type": "code",
      "source": [
        "class learners(information):\n",
        "  def __init__(self,name,age,gender,exp,qual):\n",
        "    information.__init__(self,name,age,gender)\n",
        "    self.exp = exp\n",
        "    self.qual = qual\n",
        "  def print_info(self):\n",
        "    print('Experience:',self.exp)\n",
        "    print('Qualification:',self.qual)"
      ],
      "metadata": {
        "id": "Olz0YGd5h9Q1"
      },
      "execution_count": null,
      "outputs": []
    },
    {
      "cell_type": "code",
      "source": [
        "obj = learners(\"John\",45,'M',5,'Graduate')"
      ],
      "metadata": {
        "id": "LkOw7zZgiacZ"
      },
      "execution_count": null,
      "outputs": []
    },
    {
      "cell_type": "code",
      "source": [
        "obj.print_info()"
      ],
      "metadata": {
        "colab": {
          "base_uri": "https://localhost:8080/"
        },
        "id": "np7ukGwriiAF",
        "outputId": "6edc800d-7c91-4ee0-8fa4-af03a7e7a4e9"
      },
      "execution_count": null,
      "outputs": [
        {
          "output_type": "stream",
          "name": "stdout",
          "text": [
            "Experience: 5\n",
            "Qualification: Graduate\n"
          ]
        }
      ]
    },
    {
      "cell_type": "markdown",
      "source": [
        "Abstraction- Hides implementation details and expose only the essential functionalities"
      ],
      "metadata": {
        "id": "v9SZq5ytkNez"
      }
    },
    {
      "cell_type": "code",
      "source": [
        "from abc import ABC,abstractmethod"
      ],
      "metadata": {
        "id": "Qf-ePx4ykcP7"
      },
      "execution_count": null,
      "outputs": []
    },
    {
      "cell_type": "code",
      "source": [
        "class Vehicle(ABC):\n",
        "  @abstractmethod\n",
        "  def start(self):\n",
        "    pass\n",
        "  @abstractmethod\n",
        "  def stop(self):\n",
        "    pass"
      ],
      "metadata": {
        "id": "fcWi2GyPkqpv"
      },
      "execution_count": null,
      "outputs": []
    },
    {
      "cell_type": "code",
      "source": [
        "class Car(Vehicle):\n",
        "  def start(self):\n",
        "    print(\"Car is starting with a key\")\n",
        "  def stop(self):\n",
        "    print(\"Car is stopping by pressing the brake\")"
      ],
      "metadata": {
        "id": "pcCoCsFElUv-"
      },
      "execution_count": null,
      "outputs": []
    },
    {
      "cell_type": "code",
      "source": [
        "car=Car()\n",
        "car.start()\n",
        "car.stop()"
      ],
      "metadata": {
        "colab": {
          "base_uri": "https://localhost:8080/"
        },
        "id": "kG8KlZwWlrMS",
        "outputId": "99c61df6-d109-4d06-d17b-fc64ab4a6716"
      },
      "execution_count": null,
      "outputs": [
        {
          "output_type": "stream",
          "name": "stdout",
          "text": [
            "Car is starting with a key\n",
            "Car is stopping by pressing the brake\n"
          ]
        }
      ]
    },
    {
      "cell_type": "code",
      "source": [
        "class beverage(ABC):\n",
        "  @abstractmethod\n",
        "  def ingredients(self):\n",
        "    print('base')\n",
        "  def taste(self):\n",
        "    pass"
      ],
      "metadata": {
        "id": "Cml0KIb-mkgY"
      },
      "execution_count": null,
      "outputs": []
    },
    {
      "cell_type": "code",
      "source": [
        "obj=beverage()"
      ],
      "metadata": {
        "colab": {
          "base_uri": "https://localhost:8080/",
          "height": 141
        },
        "id": "zaD4mhdum13-",
        "outputId": "262448a5-9d26-467d-9a5b-02ae76635763"
      },
      "execution_count": null,
      "outputs": [
        {
          "output_type": "error",
          "ename": "TypeError",
          "evalue": "Can't instantiate abstract class beverage with abstract method ingredients",
          "traceback": [
            "\u001b[0;31m---------------------------------------------------------------------------\u001b[0m",
            "\u001b[0;31mTypeError\u001b[0m                                 Traceback (most recent call last)",
            "\u001b[0;32m<ipython-input-51-d7b5ec60e1bf>\u001b[0m in \u001b[0;36m<cell line: 0>\u001b[0;34m()\u001b[0m\n\u001b[0;32m----> 1\u001b[0;31m \u001b[0mobj\u001b[0m\u001b[0;34m=\u001b[0m\u001b[0mbeverage\u001b[0m\u001b[0;34m(\u001b[0m\u001b[0;34m)\u001b[0m\u001b[0;34m\u001b[0m\u001b[0;34m\u001b[0m\u001b[0m\n\u001b[0m",
            "\u001b[0;31mTypeError\u001b[0m: Can't instantiate abstract class beverage with abstract method ingredients"
          ]
        }
      ]
    },
    {
      "cell_type": "code",
      "source": [
        "class mango_shake(beverage):\n",
        "  def ingredients(self):\n",
        "    print('Mango')\n",
        "  def taste(self):\n",
        "    print('Yum')"
      ],
      "metadata": {
        "id": "htxXvCyvnG2A"
      },
      "execution_count": null,
      "outputs": []
    },
    {
      "cell_type": "code",
      "source": [
        "obj1=mango_shake()\n",
        "obj1.ingredients()\n",
        "obj1.taste()\n"
      ],
      "metadata": {
        "colab": {
          "base_uri": "https://localhost:8080/"
        },
        "id": "TKmCkvi3nWmk",
        "outputId": "f26d1b79-1a6b-497c-f6cf-2eea289fe476"
      },
      "execution_count": null,
      "outputs": [
        {
          "output_type": "stream",
          "name": "stdout",
          "text": [
            "Mango\n",
            "Yum\n"
          ]
        }
      ]
    }
  ]
}