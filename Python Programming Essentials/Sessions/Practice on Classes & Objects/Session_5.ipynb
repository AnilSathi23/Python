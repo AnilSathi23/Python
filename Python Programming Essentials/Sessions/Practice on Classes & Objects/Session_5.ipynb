{
  "nbformat": 4,
  "nbformat_minor": 0,
  "metadata": {
    "colab": {
      "provenance": []
    },
    "kernelspec": {
      "name": "python3",
      "display_name": "Python 3"
    },
    "language_info": {
      "name": "python"
    }
  },
  "cells": [
    {
      "cell_type": "markdown",
      "source": [
        "Take a list of numbers : [10,0,5,-5,30,20,32]\n",
        "\n",
        "- Retain non zero values and non negative numbers\n",
        "- Compute the mean of the cleaned marks\n",
        "- Find numbers from the list which are greater than the mean\n",
        "- Compute the squared differences of every number from the mean"
      ],
      "metadata": {
        "id": "sYzCKNPPR6Dp"
      }
    },
    {
      "cell_type": "code",
      "execution_count": null,
      "metadata": {
        "id": "Efee4jZgR1iw"
      },
      "outputs": [],
      "source": [
        "lst =  [10,0,5,-5,30,20,32]"
      ]
    },
    {
      "cell_type": "code",
      "source": [
        "cleaned_list = list(filter(lambda x:x>0,lst))\n",
        "cleaned_list"
      ],
      "metadata": {
        "id": "FXw1BZH1SMHb",
        "colab": {
          "base_uri": "https://localhost:8080/"
        },
        "outputId": "06278099-c12f-4151-a2c8-7cb5dc964b0c"
      },
      "execution_count": null,
      "outputs": [
        {
          "output_type": "execute_result",
          "data": {
            "text/plain": [
              "[10, 5, 30, 20, 32]"
            ]
          },
          "metadata": {},
          "execution_count": 2
        }
      ]
    },
    {
      "cell_type": "code",
      "source": [
        "from functools import reduce"
      ],
      "metadata": {
        "id": "lvCzs4fPSL8f"
      },
      "execution_count": null,
      "outputs": []
    },
    {
      "cell_type": "code",
      "source": [
        "mean = reduce((lambda x,y:x+y),cleaned_list)/len(cleaned_list)\n",
        "mean"
      ],
      "metadata": {
        "colab": {
          "base_uri": "https://localhost:8080/"
        },
        "id": "GLJH_1uaxBGH",
        "outputId": "e5422fb9-7b96-4f45-d5a6-a2f0ead6c107"
      },
      "execution_count": null,
      "outputs": [
        {
          "output_type": "execute_result",
          "data": {
            "text/plain": [
              "19.4"
            ]
          },
          "metadata": {},
          "execution_count": 4
        }
      ]
    },
    {
      "cell_type": "code",
      "source": [
        "list(map(lambda x:x>mean,cleaned_list))"
      ],
      "metadata": {
        "id": "jUFPfeChSLwj",
        "colab": {
          "base_uri": "https://localhost:8080/"
        },
        "outputId": "374d698f-b584-4aa6-bfed-e7a374c472ac"
      },
      "execution_count": null,
      "outputs": [
        {
          "output_type": "execute_result",
          "data": {
            "text/plain": [
              "[False, False, True, True, True]"
            ]
          },
          "metadata": {},
          "execution_count": 5
        }
      ]
    },
    {
      "cell_type": "code",
      "source": [
        "list(filter(lambda x:x>mean,cleaned_list))"
      ],
      "metadata": {
        "colab": {
          "base_uri": "https://localhost:8080/"
        },
        "id": "F0PQxQ3cyRnq",
        "outputId": "a1d08362-f71a-4238-e728-a735dcacbb90"
      },
      "execution_count": null,
      "outputs": [
        {
          "output_type": "execute_result",
          "data": {
            "text/plain": [
              "[30, 20, 32]"
            ]
          },
          "metadata": {},
          "execution_count": 6
        }
      ]
    },
    {
      "cell_type": "code",
      "source": [
        "squared_differences = list(map(lambda x:round((x-mean)**2,2),cleaned_list))\n",
        "print(squared_differences)"
      ],
      "metadata": {
        "colab": {
          "base_uri": "https://localhost:8080/"
        },
        "id": "WR9bgQXuyePg",
        "outputId": "7a689c8b-4f39-4267-be80-8b0996f50c1a"
      },
      "execution_count": null,
      "outputs": [
        {
          "output_type": "stream",
          "name": "stdout",
          "text": [
            "[88.36, 207.36, 112.36, 0.36, 158.76]\n"
          ]
        }
      ]
    },
    {
      "cell_type": "markdown",
      "source": [
        "salaries = ['25-35L', '50-55L','10-15L','40-50L','20-30L'].\n",
        "- Find the minimum and maximum salary"
      ],
      "metadata": {
        "id": "E1ymCoQkSMw0"
      }
    },
    {
      "cell_type": "code",
      "source": [
        "salaries = ['25-35L', '50-55L','10-15L','40-50L','20-30L']"
      ],
      "metadata": {
        "id": "SKeAYDOgTUtx"
      },
      "execution_count": null,
      "outputs": []
    },
    {
      "cell_type": "code",
      "source": [
        "min_salary = list(map(lambda sal:int(sal.split('-')[0]),salaries))\n",
        "min_salary"
      ],
      "metadata": {
        "colab": {
          "base_uri": "https://localhost:8080/"
        },
        "id": "z6ZiTa-K3jel",
        "outputId": "8c722111-47ca-4e97-9cef-8dea12695f7a"
      },
      "execution_count": null,
      "outputs": [
        {
          "output_type": "execute_result",
          "data": {
            "text/plain": [
              "[25, 50, 10, 40, 20]"
            ]
          },
          "metadata": {},
          "execution_count": 12
        }
      ]
    },
    {
      "cell_type": "code",
      "source": [
        "max_salary =  list(map(lambda salary: int(salary.split('-')[1].replace('L', '')), salaries))\n"
      ],
      "metadata": {
        "id": "eDGM4Vzu5Egq"
      },
      "execution_count": null,
      "outputs": []
    },
    {
      "cell_type": "code",
      "source": [
        "max_salary"
      ],
      "metadata": {
        "colab": {
          "base_uri": "https://localhost:8080/"
        },
        "id": "9lylpMa15yXy",
        "outputId": "98ca4e0c-da1e-4f1b-e441-9757ce69c537"
      },
      "execution_count": null,
      "outputs": [
        {
          "output_type": "execute_result",
          "data": {
            "text/plain": [
              "[35, 55, 15, 50, 30]"
            ]
          },
          "metadata": {},
          "execution_count": 18
        }
      ]
    },
    {
      "cell_type": "markdown",
      "source": [
        "### Exception Handling"
      ],
      "metadata": {
        "id": "4qLW759j63O3"
      }
    },
    {
      "cell_type": "code",
      "source": [
        "\n",
        "num1 = int(input(\"enter the number:\"))\n",
        "num2 = int(input(\"enter the number:\"))\n",
        "result = num1/num2\n",
        "print(\"Result:\",result)\n"
      ],
      "metadata": {
        "colab": {
          "base_uri": "https://localhost:8080/",
          "height": 228
        },
        "id": "nd0Voofh65a3",
        "outputId": "fd8287da-83d9-4f5e-a0b9-230c1e9947c7"
      },
      "execution_count": null,
      "outputs": [
        {
          "name": "stdout",
          "output_type": "stream",
          "text": [
            "enter the number:10\n",
            "enter the number:0\n"
          ]
        },
        {
          "output_type": "error",
          "ename": "ZeroDivisionError",
          "evalue": "division by zero",
          "traceback": [
            "\u001b[0;31m---------------------------------------------------------------------------\u001b[0m",
            "\u001b[0;31mZeroDivisionError\u001b[0m                         Traceback (most recent call last)",
            "\u001b[0;32m<ipython-input-25-5f9b463a3f0e>\u001b[0m in \u001b[0;36m<cell line: 0>\u001b[0;34m()\u001b[0m\n\u001b[1;32m      1\u001b[0m \u001b[0mnum1\u001b[0m \u001b[0;34m=\u001b[0m \u001b[0mint\u001b[0m\u001b[0;34m(\u001b[0m\u001b[0minput\u001b[0m\u001b[0;34m(\u001b[0m\u001b[0;34m\"enter the number:\"\u001b[0m\u001b[0;34m)\u001b[0m\u001b[0;34m)\u001b[0m\u001b[0;34m\u001b[0m\u001b[0;34m\u001b[0m\u001b[0m\n\u001b[1;32m      2\u001b[0m \u001b[0mnum2\u001b[0m \u001b[0;34m=\u001b[0m \u001b[0mint\u001b[0m\u001b[0;34m(\u001b[0m\u001b[0minput\u001b[0m\u001b[0;34m(\u001b[0m\u001b[0;34m\"enter the number:\"\u001b[0m\u001b[0;34m)\u001b[0m\u001b[0;34m)\u001b[0m\u001b[0;34m\u001b[0m\u001b[0;34m\u001b[0m\u001b[0m\n\u001b[0;32m----> 3\u001b[0;31m \u001b[0mresult\u001b[0m \u001b[0;34m=\u001b[0m \u001b[0mnum1\u001b[0m\u001b[0;34m/\u001b[0m\u001b[0mnum2\u001b[0m\u001b[0;34m\u001b[0m\u001b[0;34m\u001b[0m\u001b[0m\n\u001b[0m\u001b[1;32m      4\u001b[0m \u001b[0mprint\u001b[0m\u001b[0;34m(\u001b[0m\u001b[0;34m\"Result:\"\u001b[0m\u001b[0;34m,\u001b[0m\u001b[0mresult\u001b[0m\u001b[0;34m)\u001b[0m\u001b[0;34m\u001b[0m\u001b[0;34m\u001b[0m\u001b[0m\n",
            "\u001b[0;31mZeroDivisionError\u001b[0m: division by zero"
          ]
        }
      ]
    },
    {
      "cell_type": "code",
      "source": [
        "try:\n",
        "  num1 = float(input(\"enter the number:\"))\n",
        "  num2 = float(input(\"enter the number:\"))\n",
        "  result = num1/num2\n",
        "  print(\"Result:\",result)\n",
        "except ValueError:\n",
        "  print(\"Invalid input. Please enter a valid number\")\n",
        "except ZeroDivisionError:\n",
        "  print(\"Error! Division by 0 is not allowed\")\n",
        "else:\n",
        "  print(\"Operation is successful\")\n",
        "finally:\n",
        "  print(\"This will always run\")\n"
      ],
      "metadata": {
        "colab": {
          "base_uri": "https://localhost:8080/"
        },
        "id": "lF9ncLSc74s-",
        "outputId": "699e2578-2ccf-4698-cddc-1fba57ac1ca4"
      },
      "execution_count": null,
      "outputs": [
        {
          "output_type": "stream",
          "name": "stdout",
          "text": [
            "enter the number:5\n",
            "enter the number:5\n",
            "Result: 1.0\n",
            "Operation is successful\n",
            "This will always run\n"
          ]
        }
      ]
    },
    {
      "cell_type": "markdown",
      "source": [
        "### Classes & Objects"
      ],
      "metadata": {
        "id": "hmabhYVrBh7a"
      }
    },
    {
      "cell_type": "code",
      "source": [
        "class Car:\n",
        "  def __init__(self,brand,model,year):  ### Attributes\n",
        "    self.brand=brand\n",
        "    self.model=model\n",
        "    self.year=year\n",
        "  def display_info(self):              ### methods\n",
        "    print(self.brand, self.model, self.year)\n",
        "c1 = Car(\"Honda\",\"Civic\",2023)\n",
        "c1.display_info()\n",
        "\n"
      ],
      "metadata": {
        "colab": {
          "base_uri": "https://localhost:8080/"
        },
        "id": "cyUbLls6BmII",
        "outputId": "885cc367-a7ec-44f0-86d7-244570b714ca"
      },
      "execution_count": null,
      "outputs": [
        {
          "output_type": "stream",
          "name": "stdout",
          "text": [
            "Honda Civic 2023\n"
          ]
        }
      ]
    },
    {
      "cell_type": "code",
      "source": [
        "class Person:\n",
        "  def __init__(self,name,age):\n",
        "    self.name = name\n",
        "    self.age =age\n",
        "  def display(self):\n",
        "    print(f\"Hi! I am {self.name} and I am {self.age} years\")\n",
        "p1 = Person(\"Alice\",25)\n",
        "p2 = Person(\"Bob\",30)\n",
        "p3 = Person(\"Alice\",25)\n",
        "print(id(p1))\n",
        "print(id(p2))\n",
        "print(id(p3))\n",
        "p1.display()\n",
        "p2.display()\n"
      ],
      "metadata": {
        "colab": {
          "base_uri": "https://localhost:8080/",
          "height": 245
        },
        "id": "KqiqyG5vDqbK",
        "outputId": "a61a42f4-e964-437b-8b53-10d98f93521a"
      },
      "execution_count": null,
      "outputs": [
        {
          "output_type": "stream",
          "name": "stdout",
          "text": [
            "134948070132432\n",
            "134948070141072\n",
            "134948070131856\n"
          ]
        },
        {
          "output_type": "error",
          "ename": "TypeError",
          "evalue": "Person.display() takes 1 positional argument but 2 were given",
          "traceback": [
            "\u001b[0;31m---------------------------------------------------------------------------\u001b[0m",
            "\u001b[0;31mTypeError\u001b[0m                                 Traceback (most recent call last)",
            "\u001b[0;32m<ipython-input-36-63bb492323d9>\u001b[0m in \u001b[0;36m<cell line: 0>\u001b[0;34m()\u001b[0m\n\u001b[1;32m     11\u001b[0m \u001b[0mprint\u001b[0m\u001b[0;34m(\u001b[0m\u001b[0mid\u001b[0m\u001b[0;34m(\u001b[0m\u001b[0mp2\u001b[0m\u001b[0;34m)\u001b[0m\u001b[0;34m)\u001b[0m\u001b[0;34m\u001b[0m\u001b[0;34m\u001b[0m\u001b[0m\n\u001b[1;32m     12\u001b[0m \u001b[0mprint\u001b[0m\u001b[0;34m(\u001b[0m\u001b[0mid\u001b[0m\u001b[0;34m(\u001b[0m\u001b[0mp3\u001b[0m\u001b[0;34m)\u001b[0m\u001b[0;34m)\u001b[0m\u001b[0;34m\u001b[0m\u001b[0;34m\u001b[0m\u001b[0m\n\u001b[0;32m---> 13\u001b[0;31m \u001b[0mp1\u001b[0m\u001b[0;34m.\u001b[0m\u001b[0mdisplay\u001b[0m\u001b[0;34m(\u001b[0m\u001b[0mPerson\u001b[0m\u001b[0;34m)\u001b[0m\u001b[0;34m\u001b[0m\u001b[0;34m\u001b[0m\u001b[0m\n\u001b[0m\u001b[1;32m     14\u001b[0m \u001b[0mp2\u001b[0m\u001b[0;34m.\u001b[0m\u001b[0mdisplay\u001b[0m\u001b[0;34m(\u001b[0m\u001b[0;34m)\u001b[0m\u001b[0;34m\u001b[0m\u001b[0;34m\u001b[0m\u001b[0m\n",
            "\u001b[0;31mTypeError\u001b[0m: Person.display() takes 1 positional argument but 2 were given"
          ]
        }
      ]
    },
    {
      "cell_type": "code",
      "source": [
        "Q -Create a class named Student, with attributes name, age and grade and display the details"
      ],
      "metadata": {
        "id": "WYy9MBKiOD6J"
      },
      "execution_count": null,
      "outputs": []
    },
    {
      "cell_type": "code",
      "source": [
        "O/p- Bob is studying"
      ],
      "metadata": {
        "id": "_uu5W8pOOcgl"
      },
      "execution_count": null,
      "outputs": []
    },
    {
      "cell_type": "code",
      "source": [
        "class Student:\n",
        "  def __init__(self,name,age,grade):\n",
        "    self.name = name\n",
        "    self. age = age\n",
        "    self.grade = grade\n",
        "  def display(self):\n",
        "    print(f\"{self.name} is studying\")\n",
        "student1= Student(\"Bob\",10,\"A\")\n",
        "student1.display()\n",
        "print(student1.age)\n",
        "print(student1.grade)"
      ],
      "metadata": {
        "colab": {
          "base_uri": "https://localhost:8080/"
        },
        "id": "3f_bitfXPqLW",
        "outputId": "93a61414-ed54-4f96-9cdc-17ba6fc9e704"
      },
      "execution_count": null,
      "outputs": [
        {
          "output_type": "stream",
          "name": "stdout",
          "text": [
            "Bob is studying\n",
            "10\n",
            "A\n"
          ]
        }
      ]
    },
    {
      "cell_type": "markdown",
      "source": [
        "Can we create a class without __init__?"
      ],
      "metadata": {
        "id": "qf5cKlIQRFVY"
      }
    },
    {
      "cell_type": "code",
      "source": [
        "Class Attribute"
      ],
      "metadata": {
        "id": "WAV1HwdDUV6Z"
      },
      "execution_count": null,
      "outputs": []
    },
    {
      "cell_type": "code",
      "source": [
        "class Restaurant:\n",
        "  menu = \"Pasta\"\n",
        "\n",
        "  def get_menu(self):\n",
        "    return self.menu\n",
        "\n",
        "c1 = Restaurant()\n",
        "c2 = Restaurant()\n",
        "\n",
        "print(c1.get_menu())\n",
        "print(c2.get_menu())\n",
        "Restaurant.menu = \"Pizza\"    # modifying class attribute\n",
        "print(c1.get_menu())\n",
        "print(c2.get_menu())"
      ],
      "metadata": {
        "colab": {
          "base_uri": "https://localhost:8080/"
        },
        "id": "0CJG_Um4RKiY",
        "outputId": "fad2ab62-3660-4b6c-dd88-be9445fae3c1"
      },
      "execution_count": null,
      "outputs": [
        {
          "output_type": "stream",
          "name": "stdout",
          "text": [
            "Pasta\n",
            "Pasta\n",
            "Pizza\n",
            "Pizza\n"
          ]
        }
      ]
    },
    {
      "cell_type": "code",
      "source": [
        "class Restaurant:\n",
        "  def __init__(self,menu=\"Pasta\"):\n",
        "    self.menu = menu\n",
        "\n",
        "\n",
        "  def get_menu(self):\n",
        "    return self.menu\n",
        "\n",
        "c1 = Restaurant()\n",
        "c2 =Restaurant(menu=\"Burger\")\n",
        "print(c1.get_menu())\n",
        "print(c2.get_menu())"
      ],
      "metadata": {
        "colab": {
          "base_uri": "https://localhost:8080/"
        },
        "id": "_q5Z0e-rTMVA",
        "outputId": "54a87f83-6bf9-42e2-edea-84527e753236"
      },
      "execution_count": null,
      "outputs": [
        {
          "output_type": "stream",
          "name": "stdout",
          "text": [
            "Pasta\n",
            "Burger\n"
          ]
        }
      ]
    },
    {
      "cell_type": "code",
      "source": [
        "class Health:\n",
        "  counter = 0    # class attribute\n",
        "  def __init__(self,name,age,loc):\n",
        "    self.name = name\n",
        "    self.age =age\n",
        "    self.loc =loc\n",
        "    Health.counter += 1\n",
        "  def display(self):\n",
        "    print('Name: ',self.name)\n",
        "    print('Age: ',self.age)\n",
        "    print('Location:',self.loc)\n",
        "    print('No of objects:',Health.counter)"
      ],
      "metadata": {
        "id": "HAlaflPzVNDl"
      },
      "execution_count": null,
      "outputs": []
    },
    {
      "cell_type": "code",
      "source": [
        "o1 =Health('ALice',25,'Texas')\n",
        "o1.display()"
      ],
      "metadata": {
        "colab": {
          "base_uri": "https://localhost:8080/"
        },
        "id": "uSoOlaDmWSFL",
        "outputId": "e0867928-db4f-4b14-8c83-63b6e9c604f2"
      },
      "execution_count": null,
      "outputs": [
        {
          "output_type": "stream",
          "name": "stdout",
          "text": [
            "Name:  ALice\n",
            "Age:  25\n",
            "Location: Texas\n",
            "No of objects: 1\n"
          ]
        }
      ]
    },
    {
      "cell_type": "code",
      "source": [
        "o2 =Health('Tom',25,'Texas')\n",
        "o2.display()"
      ],
      "metadata": {
        "colab": {
          "base_uri": "https://localhost:8080/"
        },
        "id": "mxbSrQGRWghY",
        "outputId": "5a1f6c87-d0a2-4874-dadc-c0477997ee94"
      },
      "execution_count": null,
      "outputs": [
        {
          "output_type": "stream",
          "name": "stdout",
          "text": [
            "Name:  Tom\n",
            "Age:  25\n",
            "Location: Texas\n",
            "No of objects: 2\n"
          ]
        }
      ]
    },
    {
      "cell_type": "code",
      "source": [
        "class Student:\n",
        "  count = 0\n",
        "  def __init__(self,name):\n",
        "    self.name = name\n",
        "    Student.count += 1\n",
        "\n",
        "s1 = Student('Alice')\n",
        "s2 = Student('Tom')\n",
        "s3 = Student('Harry')\n",
        "\n",
        "print(Student.count)"
      ],
      "metadata": {
        "colab": {
          "base_uri": "https://localhost:8080/"
        },
        "id": "Q0mOjvN-Xt5-",
        "outputId": "086dd9f8-c71b-4f5e-c09d-acb5a787bab1"
      },
      "execution_count": null,
      "outputs": [
        {
          "output_type": "stream",
          "name": "stdout",
          "text": [
            "3\n"
          ]
        }
      ]
    },
    {
      "cell_type": "markdown",
      "source": [
        "Modify data attributes"
      ],
      "metadata": {
        "id": "1-Xm_Q-4Z2dp"
      }
    },
    {
      "cell_type": "code",
      "source": [
        "class Health:\n",
        "  counter = 0    # class attribute\n",
        "  def __init__(self,name,age,loc):\n",
        "    self.name = name\n",
        "    self.age =age\n",
        "    self.loc =loc\n",
        "    Health.counter += 1\n",
        "  def display(self):\n",
        "    print('Name: ',self.name)\n",
        "    print('Age: ',self.age)\n",
        "    print('Location:',self.loc)\n",
        "    print('No of objects:',Health.counter)"
      ],
      "metadata": {
        "id": "65rfpL2KZyoP"
      },
      "execution_count": null,
      "outputs": []
    },
    {
      "cell_type": "code",
      "source": [
        "o1 =Health('ALice',25,'Texas')\n",
        "o1.display()"
      ],
      "metadata": {
        "colab": {
          "base_uri": "https://localhost:8080/"
        },
        "id": "hWJlmCS3Z1rF",
        "outputId": "318ac3c0-d068-4655-a542-18c87814e812"
      },
      "execution_count": null,
      "outputs": [
        {
          "output_type": "stream",
          "name": "stdout",
          "text": [
            "Name:  ALice\n",
            "Age:  25\n",
            "Location: Texas\n",
            "No of objects: 1\n"
          ]
        }
      ]
    },
    {
      "cell_type": "code",
      "source": [
        "o1.age=30\n",
        "o1.display()"
      ],
      "metadata": {
        "colab": {
          "base_uri": "https://localhost:8080/"
        },
        "id": "4bEU0lt_Z-aD",
        "outputId": "11c350a9-b12e-4c65-ac10-0e433cafdb1e"
      },
      "execution_count": null,
      "outputs": [
        {
          "output_type": "stream",
          "name": "stdout",
          "text": [
            "Name:  ALice\n",
            "Age:  30\n",
            "Location: Texas\n",
            "No of objects: 1\n"
          ]
        }
      ]
    },
    {
      "cell_type": "markdown",
      "source": [
        "Access Specifiers"
      ],
      "metadata": {
        "id": "GRihnBJoaWVW"
      }
    },
    {
      "cell_type": "code",
      "source": [
        "### Public : these attributes and methods are accessible anywhere in the program"
      ],
      "metadata": {
        "id": "8s1KMrnGaYZ6"
      },
      "execution_count": null,
      "outputs": []
    },
    {
      "cell_type": "code",
      "source": [
        "class Person:\n",
        "  def __init__(self,name,age):\n",
        "    self.name = name\n",
        "    self.age =age\n",
        "  def display(self):\n",
        "    print(f\"Name:{self.name} Age:{self.age}\")\n",
        "\n",
        "p =Person(\"Raman\",25)\n",
        "print(p.name)\n",
        "print(p.age)\n",
        "p.display()"
      ],
      "metadata": {
        "colab": {
          "base_uri": "https://localhost:8080/"
        },
        "id": "jKv3JLf9a4Zr",
        "outputId": "d58644c8-1705-485a-8cde-ec11552744f8"
      },
      "execution_count": null,
      "outputs": [
        {
          "output_type": "stream",
          "name": "stdout",
          "text": [
            "Raman\n",
            "25\n",
            "Name:Raman Age:25\n"
          ]
        }
      ]
    },
    {
      "cell_type": "markdown",
      "source": [
        "### Protected Specifiers - Attributes and methods are accessible within the class and subclass"
      ],
      "metadata": {
        "id": "IlhPf1qfbpvd"
      }
    },
    {
      "cell_type": "code",
      "source": [
        "class Animal:\n",
        "  def __init__(self,name,species):\n",
        "    self._name = name\n",
        "    self._species = species\n",
        "  def _display(self):\n",
        "    print(f\"Name:{self._name}, Species:{self._species}\")\n",
        "a = Animal(\"Lion\",\"Wild\")\n",
        "print(a._name)\n",
        "print(a._species)\n",
        "a._display()"
      ],
      "metadata": {
        "colab": {
          "base_uri": "https://localhost:8080/"
        },
        "id": "KRid_NRib4uo",
        "outputId": "018c8b82-49cd-4565-9419-40f407966f85"
      },
      "execution_count": null,
      "outputs": [
        {
          "output_type": "stream",
          "name": "stdout",
          "text": [
            "Lion\n",
            "Wild\n",
            "Name:Lion, Species:Wild\n"
          ]
        }
      ]
    },
    {
      "cell_type": "markdown",
      "source": [
        "Private - Attributes and methods cannot be accessed outside the class"
      ],
      "metadata": {
        "id": "TG5lgYF_dwdy"
      }
    },
    {
      "cell_type": "code",
      "source": [
        "class Bankaccount:\n",
        "  def __init__(self,account_holder,balance):\n",
        "    self.account_holder=account_holder\n",
        "    self.__balance = balance\n",
        "  def __secret_info(self):\n",
        "    print(\"This is a secret method\")\n",
        "  def get_balance(self):\n",
        "    return self.__balance\n",
        "acc = Bankaccount(\"Alice\",1000)\n",
        "print(acc.account_holder)\n",
        "print(acc.__balance)\n",
        "acc.__secret_info()"
      ],
      "metadata": {
        "colab": {
          "base_uri": "https://localhost:8080/",
          "height": 211
        },
        "id": "p6Ix4G7Id44G",
        "outputId": "dc140aa7-8152-427d-9519-b0198f2fbc8b"
      },
      "execution_count": null,
      "outputs": [
        {
          "output_type": "stream",
          "name": "stdout",
          "text": [
            "Alice\n"
          ]
        },
        {
          "output_type": "error",
          "ename": "AttributeError",
          "evalue": "'Bankaccount' object has no attribute '__balance'",
          "traceback": [
            "\u001b[0;31m---------------------------------------------------------------------------\u001b[0m",
            "\u001b[0;31mAttributeError\u001b[0m                            Traceback (most recent call last)",
            "\u001b[0;32m<ipython-input-57-ec2185bda64b>\u001b[0m in \u001b[0;36m<cell line: 0>\u001b[0;34m()\u001b[0m\n\u001b[1;32m      9\u001b[0m \u001b[0macc\u001b[0m \u001b[0;34m=\u001b[0m \u001b[0mBankaccount\u001b[0m\u001b[0;34m(\u001b[0m\u001b[0;34m\"Alice\"\u001b[0m\u001b[0;34m,\u001b[0m\u001b[0;36m1000\u001b[0m\u001b[0;34m)\u001b[0m\u001b[0;34m\u001b[0m\u001b[0;34m\u001b[0m\u001b[0m\n\u001b[1;32m     10\u001b[0m \u001b[0mprint\u001b[0m\u001b[0;34m(\u001b[0m\u001b[0macc\u001b[0m\u001b[0;34m.\u001b[0m\u001b[0maccount_holder\u001b[0m\u001b[0;34m)\u001b[0m\u001b[0;34m\u001b[0m\u001b[0;34m\u001b[0m\u001b[0m\n\u001b[0;32m---> 11\u001b[0;31m \u001b[0mprint\u001b[0m\u001b[0;34m(\u001b[0m\u001b[0macc\u001b[0m\u001b[0;34m.\u001b[0m\u001b[0m__balance\u001b[0m\u001b[0;34m)\u001b[0m\u001b[0;34m\u001b[0m\u001b[0;34m\u001b[0m\u001b[0m\n\u001b[0m\u001b[1;32m     12\u001b[0m \u001b[0macc\u001b[0m\u001b[0;34m.\u001b[0m\u001b[0m__secret_info\u001b[0m\u001b[0;34m(\u001b[0m\u001b[0;34m)\u001b[0m\u001b[0;34m\u001b[0m\u001b[0;34m\u001b[0m\u001b[0m\n",
            "\u001b[0;31mAttributeError\u001b[0m: 'Bankaccount' object has no attribute '__balance'"
          ]
        }
      ]
    }
  ]
}