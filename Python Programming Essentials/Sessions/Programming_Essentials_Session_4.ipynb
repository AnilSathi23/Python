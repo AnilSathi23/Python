{
  "nbformat": 4,
  "nbformat_minor": 0,
  "metadata": {
    "colab": {
      "provenance": []
    },
    "kernelspec": {
      "name": "python3",
      "display_name": "Python 3"
    },
    "language_info": {
      "name": "python"
    }
  },
  "cells": [
    {
      "cell_type": "code",
      "execution_count": 17,
      "metadata": {
        "id": "jwspmjGe9Z2p"
      },
      "outputs": [],
      "source": [
        "def greetings(name,greeting):\n",
        "  print(greeting,'!',name,sep='')"
      ]
    },
    {
      "cell_type": "code",
      "source": [
        "greetings('Bob','Hi')"
      ],
      "metadata": {
        "colab": {
          "base_uri": "https://localhost:8080/"
        },
        "id": "VCJB8xipBsDr",
        "outputId": "e96c9e20-09d1-4a72-de62-3a2e5910869b"
      },
      "execution_count": 18,
      "outputs": [
        {
          "output_type": "stream",
          "name": "stdout",
          "text": [
            "Hi!Bob\n"
          ]
        }
      ]
    },
    {
      "cell_type": "code",
      "source": [
        "greetings('Hi','Bob') #Positional argument"
      ],
      "metadata": {
        "colab": {
          "base_uri": "https://localhost:8080/"
        },
        "id": "Gp8M7GzSB-40",
        "outputId": "9aaeb84c-0443-4c5d-8368-7c123f105b2b"
      },
      "execution_count": 7,
      "outputs": [
        {
          "output_type": "stream",
          "name": "stdout",
          "text": [
            "Bob!Hi\n"
          ]
        }
      ]
    },
    {
      "cell_type": "code",
      "source": [
        "greetings(greeting='Hi',name ='Tom') # Keyword argument"
      ],
      "metadata": {
        "colab": {
          "base_uri": "https://localhost:8080/"
        },
        "id": "MPkePe7kCRiN",
        "outputId": "214a4fec-1458-4ccb-cec0-5c1bf117ac29"
      },
      "execution_count": 8,
      "outputs": [
        {
          "output_type": "stream",
          "name": "stdout",
          "text": [
            "Hi!Tom\n"
          ]
        }
      ]
    },
    {
      "cell_type": "code",
      "source": [
        "greetings('Tom')"
      ],
      "metadata": {
        "colab": {
          "base_uri": "https://localhost:8080/",
          "height": 141
        },
        "id": "dqzMHB4GCkLX",
        "outputId": "b1b90b0e-ba48-48b2-eb81-22afa73ab4cf"
      },
      "execution_count": 9,
      "outputs": [
        {
          "output_type": "error",
          "ename": "TypeError",
          "evalue": "greetings() missing 1 required positional argument: 'greeting'",
          "traceback": [
            "\u001b[0;31m---------------------------------------------------------------------------\u001b[0m",
            "\u001b[0;31mTypeError\u001b[0m                                 Traceback (most recent call last)",
            "\u001b[0;32m<ipython-input-9-8bde42459aaf>\u001b[0m in \u001b[0;36m<cell line: 0>\u001b[0;34m()\u001b[0m\n\u001b[0;32m----> 1\u001b[0;31m \u001b[0mgreetings\u001b[0m\u001b[0;34m(\u001b[0m\u001b[0;34m'Tom'\u001b[0m\u001b[0;34m)\u001b[0m\u001b[0;34m\u001b[0m\u001b[0;34m\u001b[0m\u001b[0m\n\u001b[0m",
            "\u001b[0;31mTypeError\u001b[0m: greetings() missing 1 required positional argument: 'greeting'"
          ]
        }
      ]
    },
    {
      "cell_type": "code",
      "source": [
        "def greetings(name,greeting='Hello'): # default argument\n",
        "  print(greeting,'!',name,sep='')"
      ],
      "metadata": {
        "id": "_8QKKYM2Cxc_"
      },
      "execution_count": 10,
      "outputs": []
    },
    {
      "cell_type": "code",
      "source": [
        "greetings('Tom')"
      ],
      "metadata": {
        "colab": {
          "base_uri": "https://localhost:8080/"
        },
        "id": "L_xzX8f9C1tA",
        "outputId": "500a088d-603d-4afa-8de6-88cc6666fe21"
      },
      "execution_count": 11,
      "outputs": [
        {
          "output_type": "stream",
          "name": "stdout",
          "text": [
            "Hello!Tom\n"
          ]
        }
      ]
    },
    {
      "cell_type": "code",
      "source": [
        "greetings('Tom','Hi')"
      ],
      "metadata": {
        "colab": {
          "base_uri": "https://localhost:8080/"
        },
        "id": "XHQd3RasC5fZ",
        "outputId": "0fd71d76-eb1a-4ca0-8c21-d1827f3a979d"
      },
      "execution_count": 12,
      "outputs": [
        {
          "output_type": "stream",
          "name": "stdout",
          "text": [
            "Hi!Tom\n"
          ]
        }
      ]
    },
    {
      "cell_type": "markdown",
      "source": [
        "WAP using udf to check whether a number is prime or not"
      ],
      "metadata": {
        "id": "FuYTtyQiD8nB"
      }
    },
    {
      "cell_type": "code",
      "source": [
        "def isprime(n):\n",
        "  \"\"\"program for checking prime number\"\"\"\n",
        "  if n<2:\n",
        "    return False\n",
        "  for i in range(2,n):\n",
        "    if n%i==0:\n",
        "      return False\n",
        "  return True\n",
        ""
      ],
      "metadata": {
        "id": "fxq3jFFpD76M"
      },
      "execution_count": 22,
      "outputs": []
    },
    {
      "cell_type": "code",
      "source": [
        "num = int(input('Enter the number:'))\n",
        "if isprime(num):\n",
        "  print(f\"{num} is a prime number\")\n",
        "else:\n",
        "  print(f\"{num} is not a prime number\")"
      ],
      "metadata": {
        "colab": {
          "base_uri": "https://localhost:8080/"
        },
        "id": "7KJc5fZTE8oe",
        "outputId": "23c7ba3d-7dbd-4299-f714-c4f59a2b20f1"
      },
      "execution_count": 21,
      "outputs": [
        {
          "output_type": "stream",
          "name": "stdout",
          "text": [
            "Enter the number:0\n",
            "0 is not a prime number\n"
          ]
        }
      ]
    },
    {
      "cell_type": "code",
      "source": [
        "isprime.__doc__"
      ],
      "metadata": {
        "colab": {
          "base_uri": "https://localhost:8080/",
          "height": 35
        },
        "id": "_dcdl0X5GoYP",
        "outputId": "55f039e6-f18e-4b3b-fc0b-1e28b2fe1565"
      },
      "execution_count": 23,
      "outputs": [
        {
          "output_type": "execute_result",
          "data": {
            "text/plain": [
              "'program for checking prime number'"
            ],
            "application/vnd.google.colaboratory.intrinsic+json": {
              "type": "string"
            }
          },
          "metadata": {},
          "execution_count": 23
        }
      ]
    },
    {
      "cell_type": "markdown",
      "source": [
        "Lambda Expression\n",
        "- anonymous function (does not have a name)\n",
        "- its restricted to single line expression\n",
        "- inline function ( does not have a explicit function call)"
      ],
      "metadata": {
        "id": "fnqxByf6Hc47"
      }
    },
    {
      "cell_type": "code",
      "source": [
        "def add(a,b):\n",
        "  return a+b"
      ],
      "metadata": {
        "id": "a6xJfuYeH-PC"
      },
      "execution_count": 24,
      "outputs": []
    },
    {
      "cell_type": "code",
      "source": [
        "add(10,20)"
      ],
      "metadata": {
        "colab": {
          "base_uri": "https://localhost:8080/"
        },
        "id": "ESug-3bTIRf5",
        "outputId": "166dfcea-6524-421e-c20e-1c1fcd7ce2aa"
      },
      "execution_count": 25,
      "outputs": [
        {
          "output_type": "execute_result",
          "data": {
            "text/plain": [
              "30"
            ]
          },
          "metadata": {},
          "execution_count": 25
        }
      ]
    },
    {
      "cell_type": "code",
      "source": [
        "(lambda a,b:a+b)(10,20)"
      ],
      "metadata": {
        "colab": {
          "base_uri": "https://localhost:8080/"
        },
        "id": "qe-ufcPIIZod",
        "outputId": "01dfc17b-6b2f-47c4-f134-abbad61a0f86"
      },
      "execution_count": 26,
      "outputs": [
        {
          "output_type": "execute_result",
          "data": {
            "text/plain": [
              "30"
            ]
          },
          "metadata": {},
          "execution_count": 26
        }
      ]
    },
    {
      "cell_type": "code",
      "source": [
        "fn = lambda x:x**2\n",
        "fn(2)"
      ],
      "metadata": {
        "colab": {
          "base_uri": "https://localhost:8080/"
        },
        "id": "OtOcH23AJaq7",
        "outputId": "088398d1-e798-4076-e4f9-43be77558e16"
      },
      "execution_count": 27,
      "outputs": [
        {
          "output_type": "execute_result",
          "data": {
            "text/plain": [
              "4"
            ]
          },
          "metadata": {},
          "execution_count": 27
        }
      ]
    },
    {
      "cell_type": "code",
      "source": [
        "st = \"Bangalore\"\n",
        "def rev(st):\n",
        "  return st[::-1]\n",
        "rev(st)"
      ],
      "metadata": {
        "colab": {
          "base_uri": "https://localhost:8080/",
          "height": 35
        },
        "id": "IWsBpINKJp0L",
        "outputId": "52222a39-126f-4da3-eaf4-b8989f74884b"
      },
      "execution_count": 28,
      "outputs": [
        {
          "output_type": "execute_result",
          "data": {
            "text/plain": [
              "'erolagnaB'"
            ],
            "application/vnd.google.colaboratory.intrinsic+json": {
              "type": "string"
            }
          },
          "metadata": {},
          "execution_count": 28
        }
      ]
    },
    {
      "cell_type": "code",
      "source": [
        "(lambda s:s[::-1])(\"Bangalore\")"
      ],
      "metadata": {
        "colab": {
          "base_uri": "https://localhost:8080/",
          "height": 35
        },
        "id": "XXATZwKxJ3mF",
        "outputId": "537adafc-e5a6-49a3-814d-dd6f7cd71a86"
      },
      "execution_count": 29,
      "outputs": [
        {
          "output_type": "execute_result",
          "data": {
            "text/plain": [
              "'erolagnaB'"
            ],
            "application/vnd.google.colaboratory.intrinsic+json": {
              "type": "string"
            }
          },
          "metadata": {},
          "execution_count": 29
        }
      ]
    },
    {
      "cell_type": "markdown",
      "source": [
        "- map\n",
        "- filter\n",
        "- reduce"
      ],
      "metadata": {
        "id": "351C3XJzLCoT"
      }
    },
    {
      "cell_type": "markdown",
      "source": [
        "map - is to apply an operation to every element of a  collection .\n",
        "- function object, an operation to be performed\n"
      ],
      "metadata": {
        "id": "Jtuovh4rLLo4"
      }
    },
    {
      "cell_type": "code",
      "source": [
        "lst = [2,4,5,6,7]\n",
        "m = map(lambda a:a**2,lst)\n",
        "m"
      ],
      "metadata": {
        "colab": {
          "base_uri": "https://localhost:8080/"
        },
        "id": "69WUDCnFLH_g",
        "outputId": "d93b8030-05eb-454f-8572-b9120007f1ce"
      },
      "execution_count": 33,
      "outputs": [
        {
          "output_type": "execute_result",
          "data": {
            "text/plain": [
              "<map at 0x784e32114190>"
            ]
          },
          "metadata": {},
          "execution_count": 33
        }
      ]
    },
    {
      "cell_type": "code",
      "source": [
        "list(m)"
      ],
      "metadata": {
        "colab": {
          "base_uri": "https://localhost:8080/"
        },
        "id": "4kkB87GoMDVZ",
        "outputId": "934034c8-3c87-4519-9a76-87129044aa73"
      },
      "execution_count": 31,
      "outputs": [
        {
          "output_type": "execute_result",
          "data": {
            "text/plain": [
              "[4, 16, 25, 36, 49]"
            ]
          },
          "metadata": {},
          "execution_count": 31
        }
      ]
    },
    {
      "cell_type": "code",
      "source": [
        "lst = [7,8,9,10,11,110,120]\n",
        "list(map(lambda x:x/100,lst))"
      ],
      "metadata": {
        "colab": {
          "base_uri": "https://localhost:8080/"
        },
        "id": "wxS7cITkM2Ms",
        "outputId": "ee082665-de71-40d1-82f0-74aee70f6764"
      },
      "execution_count": 34,
      "outputs": [
        {
          "output_type": "execute_result",
          "data": {
            "text/plain": [
              "[0.07, 0.08, 0.09, 0.1, 0.11, 1.1, 1.2]"
            ]
          },
          "metadata": {},
          "execution_count": 34
        }
      ]
    },
    {
      "cell_type": "markdown",
      "source": [
        "Filter\n",
        "- Filter is to choose the data from the collection\n",
        "- Filter takes two arguments\n",
        "  - Function object with the condition\n",
        "  - collection"
      ],
      "metadata": {
        "id": "Xa_9JM4nNmzl"
      }
    },
    {
      "cell_type": "code",
      "source": [
        "lst = [10,20,35,33,69]\n",
        "list(filter(lambda x:x%10==0,lst))"
      ],
      "metadata": {
        "colab": {
          "base_uri": "https://localhost:8080/"
        },
        "id": "nOhQ8XJnN_31",
        "outputId": "d0b5c973-5717-4867-8c5f-9d0b12b9dc96"
      },
      "execution_count": 35,
      "outputs": [
        {
          "output_type": "execute_result",
          "data": {
            "text/plain": [
              "[10, 20]"
            ]
          },
          "metadata": {},
          "execution_count": 35
        }
      ]
    },
    {
      "cell_type": "code",
      "source": [
        "words = [\"apple\",\"bat\",\"cat\",\"banana\"]\n",
        "list(filter(lambda x:len(x)>4,words))"
      ],
      "metadata": {
        "colab": {
          "base_uri": "https://localhost:8080/"
        },
        "id": "y6JYjzCiOr5p",
        "outputId": "101ef215-2466-4284-d7cd-bf86f6e6d496"
      },
      "execution_count": 36,
      "outputs": [
        {
          "output_type": "execute_result",
          "data": {
            "text/plain": [
              "['apple', 'banana']"
            ]
          },
          "metadata": {},
          "execution_count": 36
        }
      ]
    },
    {
      "cell_type": "markdown",
      "source": [
        "Reduce - to apply pairwise or an aggregate operation like sum, average, count etc\n",
        "- collection\n",
        "- aggregate"
      ],
      "metadata": {
        "id": "9fHpS36YP_mL"
      }
    },
    {
      "cell_type": "code",
      "source": [
        "from functools import reduce"
      ],
      "metadata": {
        "id": "8pGGex-lQlAF"
      },
      "execution_count": 37,
      "outputs": []
    },
    {
      "cell_type": "code",
      "source": [
        "lst = [3,4,5,6,7,8,9,10]\n",
        "total = reduce(lambda x,y:x+y,lst)"
      ],
      "metadata": {
        "id": "cLmVQUkyQOCF"
      },
      "execution_count": 38,
      "outputs": []
    },
    {
      "cell_type": "code",
      "source": [
        "total"
      ],
      "metadata": {
        "colab": {
          "base_uri": "https://localhost:8080/"
        },
        "id": "1KlG98HaQsOh",
        "outputId": "ca679fcb-471f-4ed4-92da-55a4b4c2d34c"
      },
      "execution_count": 39,
      "outputs": [
        {
          "output_type": "execute_result",
          "data": {
            "text/plain": [
              "52"
            ]
          },
          "metadata": {},
          "execution_count": 39
        }
      ]
    },
    {
      "cell_type": "code",
      "source": [
        "total/len(lst)"
      ],
      "metadata": {
        "colab": {
          "base_uri": "https://localhost:8080/"
        },
        "id": "cIURY2zrRJQh",
        "outputId": "219a5b0c-a2ed-4759-a278-2ca2a4088ca1"
      },
      "execution_count": 40,
      "outputs": [
        {
          "output_type": "execute_result",
          "data": {
            "text/plain": [
              "6.5"
            ]
          },
          "metadata": {},
          "execution_count": 40
        }
      ]
    },
    {
      "cell_type": "code",
      "source": [
        "lst = [7,19,3,2,0,5,0,3]"
      ],
      "metadata": {
        "id": "LQ5O0bZVRS5O"
      },
      "execution_count": 41,
      "outputs": []
    },
    {
      "cell_type": "code",
      "source": [
        "# clean the list by removing 0\n",
        "cleaned_lst = list(filter(lambda x:x!=0,lst))\n",
        "cleaned_lst"
      ],
      "metadata": {
        "colab": {
          "base_uri": "https://localhost:8080/"
        },
        "id": "zJfMXNInRc6N",
        "outputId": "b8087d44-28f6-4e66-ae12-6a43bf22b37a"
      },
      "execution_count": 42,
      "outputs": [
        {
          "output_type": "execute_result",
          "data": {
            "text/plain": [
              "[7, 19, 3, 2, 5, 3]"
            ]
          },
          "metadata": {},
          "execution_count": 42
        }
      ]
    },
    {
      "cell_type": "code",
      "source": [
        "# Multiply every element of the cleaned list\n",
        "prod = reduce(lambda x,y:x*y,cleaned_lst)\n",
        "prod"
      ],
      "metadata": {
        "colab": {
          "base_uri": "https://localhost:8080/"
        },
        "id": "mvbSj-xeR3Uj",
        "outputId": "61270e95-5a30-4139-86c8-24841e073e83"
      },
      "execution_count": 43,
      "outputs": [
        {
          "output_type": "execute_result",
          "data": {
            "text/plain": [
              "11970"
            ]
          },
          "metadata": {},
          "execution_count": 43
        }
      ]
    },
    {
      "cell_type": "code",
      "source": [
        "salaries = ['25-35L','50-55L','10-15L']"
      ],
      "metadata": {
        "id": "zjWt5UhBSf9l"
      },
      "execution_count": 44,
      "outputs": []
    },
    {
      "cell_type": "code",
      "source": [
        "min_salary = list(map(lambda sal:int(sal.split('-')[0]),salaries))\n",
        "min_salary"
      ],
      "metadata": {
        "colab": {
          "base_uri": "https://localhost:8080/"
        },
        "id": "l6Kvm9smUDV_",
        "outputId": "d8028aad-7bd5-4787-e92c-26e399874389"
      },
      "execution_count": 46,
      "outputs": [
        {
          "output_type": "execute_result",
          "data": {
            "text/plain": [
              "[25, 50, 10]"
            ]
          },
          "metadata": {},
          "execution_count": 46
        }
      ]
    },
    {
      "cell_type": "code",
      "source": [
        "max_salary = list(map(lambda sal:int(sal.split('-')[1].replace('L','')),salaries))\n",
        "max_salary"
      ],
      "metadata": {
        "colab": {
          "base_uri": "https://localhost:8080/"
        },
        "id": "slvrxwKMVRGP",
        "outputId": "e6458786-a1ed-4b3f-de2e-c892b9c49104"
      },
      "execution_count": 47,
      "outputs": [
        {
          "output_type": "execute_result",
          "data": {
            "text/plain": [
              "[35, 55, 15]"
            ]
          },
          "metadata": {},
          "execution_count": 47
        }
      ]
    },
    {
      "cell_type": "markdown",
      "source": [
        "Classes & Objects"
      ],
      "metadata": {
        "id": "yJkHHwRMa89k"
      }
    },
    {
      "cell_type": "markdown",
      "source": [
        "- Classes - blueprint or a template\n",
        "- objects - real world entity"
      ],
      "metadata": {
        "id": "7v6XCTO4bBdb"
      }
    },
    {
      "cell_type": "code",
      "source": [
        "a = 10\n",
        "print(type(a))"
      ],
      "metadata": {
        "colab": {
          "base_uri": "https://localhost:8080/"
        },
        "id": "_y36NHSda8Eq",
        "outputId": "93c0db6c-c124-42d1-8d7f-4cefe7600509"
      },
      "execution_count": 48,
      "outputs": [
        {
          "output_type": "stream",
          "name": "stdout",
          "text": [
            "<class 'int'>\n"
          ]
        }
      ]
    },
    {
      "cell_type": "code",
      "source": [
        "class Student:\n",
        "  def __init__(self,name,roll_no,marks):\n",
        "    self.name = name\n",
        "    self.roll_no = roll_no\n",
        "    self.marks = marks\n",
        "  def display_info(self):\n",
        "    print(f\"Student Name: {self.name}, Roll No:{self.roll_no},Marks:{self.marks}\")"
      ],
      "metadata": {
        "id": "SMTjv5Oqb_qP"
      },
      "execution_count": 49,
      "outputs": []
    },
    {
      "cell_type": "code",
      "source": [
        "student1 = Student(\"Puja\",101,95)\n",
        "student2 = Student(\"Bubbly\",102,88)\n",
        "student1.display_info()\n",
        "student2.display_info()"
      ],
      "metadata": {
        "colab": {
          "base_uri": "https://localhost:8080/"
        },
        "id": "K6GwrFITdGRX",
        "outputId": "e0661404-5f18-4ad7-f307-5d3b5f79455b"
      },
      "execution_count": 50,
      "outputs": [
        {
          "output_type": "stream",
          "name": "stdout",
          "text": [
            "Student Name: Puja, Roll No:101,Marks:95\n",
            "Student Name: Bubbly, Roll No:102,Marks:88\n"
          ]
        }
      ]
    },
    {
      "cell_type": "code",
      "source": [
        "class Student:\n",
        "  def __init__(name,roll_no):\n",
        "    name = name\n",
        "    roll_no = roll_no\n",
        "\n",
        "  def display_info():\n",
        "    print(f\"Student Name: {name}, Roll No:{roll_no}\")\n",
        "  student1 = Student(\"Alice\",101)"
      ],
      "metadata": {
        "colab": {
          "base_uri": "https://localhost:8080/",
          "height": 297
        },
        "id": "HUeeQ4jPevWA",
        "outputId": "3565bded-b780-4867-b99c-18e24b6c9ffb"
      },
      "execution_count": 52,
      "outputs": [
        {
          "output_type": "error",
          "ename": "TypeError",
          "evalue": "Student.__init__() missing 1 required positional argument: 'marks'",
          "traceback": [
            "\u001b[0;31m---------------------------------------------------------------------------\u001b[0m",
            "\u001b[0;31mTypeError\u001b[0m                                 Traceback (most recent call last)",
            "\u001b[0;32m<ipython-input-52-c3ce0a575908>\u001b[0m in \u001b[0;36m<cell line: 0>\u001b[0;34m()\u001b[0m\n\u001b[0;32m----> 1\u001b[0;31m \u001b[0;32mclass\u001b[0m \u001b[0mStudent\u001b[0m\u001b[0;34m:\u001b[0m\u001b[0;34m\u001b[0m\u001b[0;34m\u001b[0m\u001b[0m\n\u001b[0m\u001b[1;32m      2\u001b[0m   \u001b[0;32mdef\u001b[0m \u001b[0m__init__\u001b[0m\u001b[0;34m(\u001b[0m\u001b[0mname\u001b[0m\u001b[0;34m,\u001b[0m\u001b[0mroll_no\u001b[0m\u001b[0;34m)\u001b[0m\u001b[0;34m:\u001b[0m\u001b[0;34m\u001b[0m\u001b[0;34m\u001b[0m\u001b[0m\n\u001b[1;32m      3\u001b[0m     \u001b[0mname\u001b[0m \u001b[0;34m=\u001b[0m \u001b[0mname\u001b[0m\u001b[0;34m\u001b[0m\u001b[0;34m\u001b[0m\u001b[0m\n\u001b[1;32m      4\u001b[0m     \u001b[0mroll_no\u001b[0m \u001b[0;34m=\u001b[0m \u001b[0mroll_no\u001b[0m\u001b[0;34m\u001b[0m\u001b[0;34m\u001b[0m\u001b[0m\n\u001b[1;32m      5\u001b[0m \u001b[0;34m\u001b[0m\u001b[0m\n",
            "\u001b[0;32m<ipython-input-52-c3ce0a575908>\u001b[0m in \u001b[0;36mStudent\u001b[0;34m()\u001b[0m\n\u001b[1;32m      6\u001b[0m   \u001b[0;32mdef\u001b[0m \u001b[0mdisplay_info\u001b[0m\u001b[0;34m(\u001b[0m\u001b[0;34m)\u001b[0m\u001b[0;34m:\u001b[0m\u001b[0;34m\u001b[0m\u001b[0;34m\u001b[0m\u001b[0m\n\u001b[1;32m      7\u001b[0m     \u001b[0mprint\u001b[0m\u001b[0;34m(\u001b[0m\u001b[0;34mf\"Student Name: {name}, Roll No:{roll_no}\"\u001b[0m\u001b[0;34m)\u001b[0m\u001b[0;34m\u001b[0m\u001b[0;34m\u001b[0m\u001b[0m\n\u001b[0;32m----> 8\u001b[0;31m   \u001b[0mstudent1\u001b[0m \u001b[0;34m=\u001b[0m \u001b[0mStudent\u001b[0m\u001b[0;34m(\u001b[0m\u001b[0;34m\"Alice\"\u001b[0m\u001b[0;34m,\u001b[0m\u001b[0;36m101\u001b[0m\u001b[0;34m)\u001b[0m\u001b[0;34m\u001b[0m\u001b[0;34m\u001b[0m\u001b[0m\n\u001b[0m",
            "\u001b[0;31mTypeError\u001b[0m: Student.__init__() missing 1 required positional argument: 'marks'"
          ]
        }
      ]
    },
    {
      "cell_type": "code",
      "source": [
        "class Student:\n",
        "  def display_info(self,name,roll_no,marks):\n",
        "    print(f\"Student Name: {name}, Roll No:{roll_no},Marks:{marks}\")\n",
        "student1 = Student()\n",
        "student1.display_info(\"Alice\",101,90)"
      ],
      "metadata": {
        "colab": {
          "base_uri": "https://localhost:8080/"
        },
        "id": "Hof6mhWlgERM",
        "outputId": "6baa5161-7312-4242-fd76-7dd22d044852"
      },
      "execution_count": 54,
      "outputs": [
        {
          "output_type": "stream",
          "name": "stdout",
          "text": [
            "Student Name: Alice, Roll No:101,Marks:90\n"
          ]
        }
      ]
    },
    {
      "cell_type": "code",
      "source": [
        "class Student:\n",
        "  def __init__(self,name,roll_no,marks):\n",
        "    self.name = name\n",
        "    self.roll_no = roll_no\n",
        "    self.marks = marks\n",
        "  def display_info(self):\n",
        "    print(f\"Student Name: {self.name}, Roll No:{self.roll_no},Marks:{self.marks}\")\n",
        "  def is_pass(self):\n",
        "    if self.marks>=40:\n",
        "      return \"Pass\"\n",
        "    else:\n",
        "      return \"Fail\"\n",
        "student1 = Student(\"Alice\",101,90)\n",
        "student2 = Student(\"Bob\",102,35)\n",
        "student1.display_info()\n",
        "print(student1.is_pass())\n",
        "student2.display_info()\n",
        "print(student2.is_pass())"
      ],
      "metadata": {
        "colab": {
          "base_uri": "https://localhost:8080/"
        },
        "id": "OjNobbMhhPeo",
        "outputId": "57c96c8c-02f9-4a2f-b300-cc26a6e28cef"
      },
      "execution_count": 55,
      "outputs": [
        {
          "output_type": "stream",
          "name": "stdout",
          "text": [
            "Student Name: Alice, Roll No:101,Marks:90\n",
            "Pass\n",
            "Student Name: Bob, Roll No:102,Marks:35\n",
            "Fail\n"
          ]
        }
      ]
    },
    {
      "cell_type": "markdown",
      "source": [
        "Class variable"
      ],
      "metadata": {
        "id": "-XyQ82WEjNbu"
      }
    },
    {
      "cell_type": "code",
      "source": [
        "class Student:\n",
        "  school_name =\"ABC High School\"\n",
        "  def __init__(self,name,roll_no,marks):\n",
        "    self.name = name\n",
        "    self.roll_no = roll_no\n",
        "    self.marks = marks\n",
        "  def display_info(self):\n",
        "    print(f\"Student Name: {self.name}, Roll No:{self.roll_no},Marks:{self.marks},School:{Student.school_name}\")\n",
        "  def is_pass(self):\n",
        "    if self.marks>=40:\n",
        "      return \"Pass\"\n",
        "    else:\n",
        "      return \"Fail\"\n",
        "student1 = Student(\"Alice\",101,90)\n",
        "student2 = Student(\"Bob\",102,35)\n",
        "student1.display_info()\n",
        "print(student1.is_pass())\n",
        "student2.display_info()\n",
        "print(student2.is_pass())"
      ],
      "metadata": {
        "colab": {
          "base_uri": "https://localhost:8080/"
        },
        "id": "9cs649wGh3Ng",
        "outputId": "15523efc-a19b-411c-8f7b-f99ddf0a293a"
      },
      "execution_count": 56,
      "outputs": [
        {
          "output_type": "stream",
          "name": "stdout",
          "text": [
            "Student Name: Alice, Roll No:101,Marks:90,School:ABC High School\n",
            "Pass\n",
            "Student Name: Bob, Roll No:102,Marks:35,School:ABC High School\n",
            "Fail\n"
          ]
        }
      ]
    },
    {
      "cell_type": "code",
      "source": [
        "Student.school_name =\"Simplilearn Academy\"\n",
        "student1.display_info()\n",
        "student2.display_info()"
      ],
      "metadata": {
        "colab": {
          "base_uri": "https://localhost:8080/"
        },
        "id": "eEY8lb0ljyHW",
        "outputId": "63ee805d-b57a-4b83-f5b7-4d6cb32a49d4"
      },
      "execution_count": 57,
      "outputs": [
        {
          "output_type": "stream",
          "name": "stdout",
          "text": [
            "Student Name: Alice, Roll No:101,Marks:90,School:Simplilearn Academy\n",
            "Student Name: Bob, Roll No:102,Marks:35,School:Simplilearn Academy\n"
          ]
        }
      ]
    },
    {
      "cell_type": "markdown",
      "source": [
        "Encapsulation - concept of hiding data attributed/ restricting the access\n",
        "- Public\n",
        "- Protected\n",
        "- Private"
      ],
      "metadata": {
        "id": "qtxEPc_Kkjbq"
      }
    },
    {
      "cell_type": "code",
      "source": [
        "# Public\n",
        "class Student:\n",
        "  def __init__(self,name,roll_no):\n",
        "    self.name = name\n",
        "    self.roll_no = roll_no\n",
        "\n",
        "  def display_info(self):\n",
        "    print(f\"Student Name: {self.name}, Roll No:{self.roll_no},\")\n",
        "\n",
        "student1 = Student(\"Alice\",101)\n",
        "print(student1.name)\n",
        "student1.name = \"Bob\"\n",
        "print(student1.name)"
      ],
      "metadata": {
        "colab": {
          "base_uri": "https://localhost:8080/"
        },
        "id": "dylBi9qok3xN",
        "outputId": "4db337b9-c138-4b25-f268-ed3311c63366"
      },
      "execution_count": 59,
      "outputs": [
        {
          "output_type": "stream",
          "name": "stdout",
          "text": [
            "Alice\n",
            "Bob\n"
          ]
        }
      ]
    },
    {
      "cell_type": "markdown",
      "source": [
        "disadvantage -data can be modified without control, leading to unintented error"
      ],
      "metadata": {
        "id": "eMhLKD0kl2iZ"
      }
    },
    {
      "cell_type": "code",
      "source": [
        "class Student:\n",
        "  def __init__(self,name,roll_no,marks):\n",
        "    self.name = name        # Public\n",
        "    self._roll_no = roll_no  # Protected\n",
        "    self._marks = marks\n",
        "  def display_info(self):\n",
        "    print(f\"Student Name: {self.name}, Roll No:{self._roll_no},Marks:{self._marks}\")\n",
        "\n",
        "student1 = Student(\"Alice\",101,90)\n",
        "print(student1._roll_no)\n",
        "student1._marks=95\n",
        "print(student1._marks)\n",
        "\n"
      ],
      "metadata": {
        "colab": {
          "base_uri": "https://localhost:8080/"
        },
        "id": "HiVnFgH6l0aw",
        "outputId": "429afffe-4452-4dd6-f2bc-bf915973f39e"
      },
      "execution_count": 62,
      "outputs": [
        {
          "output_type": "stream",
          "name": "stdout",
          "text": [
            "101\n",
            "95\n"
          ]
        }
      ]
    },
    {
      "cell_type": "code",
      "source": [
        "class Student:\n",
        "  def __init__(self,name,roll_no,marks):\n",
        "    self.name = name        # Public\n",
        "    self.__roll_no = roll_no  # Private\n",
        "    self.__marks = marks     #Private\n",
        "  def display_info(self):\n",
        "    print(f\"Student Name: {self.name}, Roll No:{self.__roll_no},Marks:{self.__marks}\")\n",
        "\n",
        "student1 = Student(\"Alice\",101,90)\n",
        "print(student1.__roll_no)\n",
        "#student1._marks=95\n",
        "#print(student1._marks)\n"
      ],
      "metadata": {
        "colab": {
          "base_uri": "https://localhost:8080/",
          "height": 211
        },
        "id": "t8IGuLCKnT5f",
        "outputId": "93c9f2ee-a8c4-4134-f836-b2ccee139d2f"
      },
      "execution_count": 63,
      "outputs": [
        {
          "output_type": "error",
          "ename": "AttributeError",
          "evalue": "'Student' object has no attribute '__roll_no'",
          "traceback": [
            "\u001b[0;31m---------------------------------------------------------------------------\u001b[0m",
            "\u001b[0;31mAttributeError\u001b[0m                            Traceback (most recent call last)",
            "\u001b[0;32m<ipython-input-63-6f0984d0e5a0>\u001b[0m in \u001b[0;36m<cell line: 0>\u001b[0;34m()\u001b[0m\n\u001b[1;32m      8\u001b[0m \u001b[0;34m\u001b[0m\u001b[0m\n\u001b[1;32m      9\u001b[0m \u001b[0mstudent1\u001b[0m \u001b[0;34m=\u001b[0m \u001b[0mStudent\u001b[0m\u001b[0;34m(\u001b[0m\u001b[0;34m\"Alice\"\u001b[0m\u001b[0;34m,\u001b[0m\u001b[0;36m101\u001b[0m\u001b[0;34m,\u001b[0m\u001b[0;36m90\u001b[0m\u001b[0;34m)\u001b[0m\u001b[0;34m\u001b[0m\u001b[0;34m\u001b[0m\u001b[0m\n\u001b[0;32m---> 10\u001b[0;31m \u001b[0mprint\u001b[0m\u001b[0;34m(\u001b[0m\u001b[0mstudent1\u001b[0m\u001b[0;34m.\u001b[0m\u001b[0m__roll_no\u001b[0m\u001b[0;34m)\u001b[0m\u001b[0;34m\u001b[0m\u001b[0;34m\u001b[0m\u001b[0m\n\u001b[0m\u001b[1;32m     11\u001b[0m \u001b[0;31m#student1._marks=95\u001b[0m\u001b[0;34m\u001b[0m\u001b[0;34m\u001b[0m\u001b[0m\n\u001b[1;32m     12\u001b[0m \u001b[0;31m#print(student1._marks)\u001b[0m\u001b[0;34m\u001b[0m\u001b[0;34m\u001b[0m\u001b[0m\n",
            "\u001b[0;31mAttributeError\u001b[0m: 'Student' object has no attribute '__roll_no'"
          ]
        }
      ]
    },
    {
      "cell_type": "markdown",
      "source": [
        "Inheritance"
      ],
      "metadata": {
        "id": "Pva2e4bnoFcU"
      }
    },
    {
      "cell_type": "code",
      "source": [
        "class Student:\n",
        "  def __init__(self,name,roll_no,marks):\n",
        "    self.name = name\n",
        "    self.roll_no = roll_no\n",
        "    self.marks = marks\n",
        "  def display_info(self):\n",
        "    print(f\"Student Name: {self.name}, Roll No:{self.roll_no},Marks:{self.marks}\")"
      ],
      "metadata": {
        "id": "CwpJveVeoG23"
      },
      "execution_count": 64,
      "outputs": []
    },
    {
      "cell_type": "markdown",
      "source": [
        "Parent Class (Base class)"
      ],
      "metadata": {
        "id": "Lo7dDbSeoyaX"
      }
    },
    {
      "cell_type": "code",
      "source": [
        "class User:\n",
        "  def __init__(self,name,email):\n",
        "    self.name = name\n",
        "    self.email = email\n",
        "  def display_info(self):\n",
        "    print(f\"Name:{self.name}, Email:{self.email}\")"
      ],
      "metadata": {
        "id": "ymPATGkioN2X"
      },
      "execution_count": 65,
      "outputs": []
    },
    {
      "cell_type": "code",
      "source": [
        "class Student(User):\n",
        "  def __init__(self,name,email,roll_no):\n",
        "    super().__init__(name,email)\n",
        "    self.roll_no = roll_no\n",
        "  def display_student_info(self):\n",
        "    print(f\"Roll No:{self.roll_no}\")\n",
        "    super().display_info()"
      ],
      "metadata": {
        "id": "ZGFUG0Qzo7Mx"
      },
      "execution_count": 66,
      "outputs": []
    },
    {
      "cell_type": "code",
      "source": [
        "user1 = User(\"John\",\"john@abc.com\")\n",
        "user1.display_info()\n",
        "student1= Student(\"Alice\",\"alice@abc.com\",101)\n",
        "student1.display_student_info()"
      ],
      "metadata": {
        "colab": {
          "base_uri": "https://localhost:8080/"
        },
        "id": "mRnMq27Upf6v",
        "outputId": "5db0405d-b8ff-4e9c-fac4-87de1ca5f856"
      },
      "execution_count": 68,
      "outputs": [
        {
          "output_type": "stream",
          "name": "stdout",
          "text": [
            "Name:John, Email:john@abc.com\n",
            "Roll No:101\n",
            "Name:Alice, Email:alice@abc.com\n"
          ]
        }
      ]
    }
  ]
}